{
  "nbformat": 4,
  "nbformat_minor": 0,
  "metadata": {
    "colab": {
      "provenance": [],
      "gpuType": "T4"
    },
    "kernelspec": {
      "name": "python3",
      "display_name": "Python 3"
    },
    "language_info": {
      "name": "python"
    },
    "accelerator": "GPU"
  },
  "cells": [
    {
      "cell_type": "markdown",
      "source": [
        "# Exercise 3 - Emotion Recognition\n",
        "## Convoluted Feelings\n",
        "\n",
        "\n",
        "### Data\n",
        "For this exercise, you will be working on the Twitter Emotion Recognition task. The goal of this task is to infer the\n",
        "affectual state of a person from their tweet. You will be using the Tweeteval dataset to train your model. You can\n",
        "access the related GitHub repositories from the links below.\n",
        "\n",
        "● Tweeteval Repository: https://github.com/cardiffnlp/tweeteval\n",
        "\n",
        "● Emotion Detection (our task): https://github.com/cardiffnlp/tweeteval/tree/main/datasets/emotion\n",
        "\n",
        "The ability to process and load custom datasets for your projects/research is an important skill. Most tasks you will\n",
        "complete as an NLP practitioner/researcher will require you to handle different data sources, formats, and files.\n",
        "Therefore, we want you to figure out how to load the emotion recognition dataset from its respective repository\n",
        "using all the necessary files (e.g., train_text.txt, train_labels.txt, mapping.txt) and train your model.\n",
        "\n",
        "### Task: Emotion Recognition with a CNN\n",
        "Implement an emotion recognition classifier in PyTorch or PyTorch Lightning. You can reuse the class structure\n",
        "from exercise 2, which is an adaption from Rao and McMahan. However, you are free to create your own, new\n",
        "class structure. Keep in mind that for emotion prediction, unlike in Exercise 1, we work on the word level instead of\n",
        "the character level. Thus, your Vocabulary class (if you have one) will not hold a vocabulary of characters.\n",
        "Remember to document your code with docstrings and/or comments and/or text cells.\n",
        "1. Pick two different emotion classes for your model to predict (e.g., anger and joy). Load/filter your\n",
        "dataset to include only the related class data. Create another dataset and change only one of the\n",
        "classes (e.g., anger and sadness) this time.\n",
        "2. Your goal is to find the optimal model architecture and training regime for your CNN classifier. Pick one\n",
        "of the datasets you created and start experimenting. Experiment with at least three different combinations\n",
        "(sets) of hyperparameters, with at least two different values each, e.g., optimizer, learning rate, dropout,\n",
        "number of filters, stride, kernel size, pooling, and batch size. Report the combinations and corresponding\n",
        "results (accuracy and F1-macro) on the development set in a table:\n",
        "3. Use your best-performing model settings to train another model on the second dataset. Report\n",
        "the model performance (accuracy and F1-macro) on the test set of both datasets.\n",
        "4. What could be the reason that the specific combination/values of hyperparameters resulted in the best\n",
        "model performance? Don’t worry about the exact reasoning, the goal is just to provide educated (or wellreasoned) guesses."
      ],
      "metadata": {
        "id": "6UjL01foVLGI"
      }
    },
    {
      "cell_type": "code",
      "source": [
        "!pip install spacy"
      ],
      "metadata": {
        "colab": {
          "base_uri": "https://localhost:8080/"
        },
        "id": "p1-Diq3ynW0W",
        "outputId": "502dc139-fc4b-49f8-fd56-2acea469061e"
      },
      "execution_count": 1,
      "outputs": [
        {
          "output_type": "stream",
          "name": "stdout",
          "text": [
            "Requirement already satisfied: spacy in /usr/local/lib/python3.10/dist-packages (3.6.1)\n",
            "Requirement already satisfied: spacy-legacy<3.1.0,>=3.0.11 in /usr/local/lib/python3.10/dist-packages (from spacy) (3.0.12)\n",
            "Requirement already satisfied: spacy-loggers<2.0.0,>=1.0.0 in /usr/local/lib/python3.10/dist-packages (from spacy) (1.0.5)\n",
            "Requirement already satisfied: murmurhash<1.1.0,>=0.28.0 in /usr/local/lib/python3.10/dist-packages (from spacy) (1.0.10)\n",
            "Requirement already satisfied: cymem<2.1.0,>=2.0.2 in /usr/local/lib/python3.10/dist-packages (from spacy) (2.0.8)\n",
            "Requirement already satisfied: preshed<3.1.0,>=3.0.2 in /usr/local/lib/python3.10/dist-packages (from spacy) (3.0.9)\n",
            "Requirement already satisfied: thinc<8.2.0,>=8.1.8 in /usr/local/lib/python3.10/dist-packages (from spacy) (8.1.12)\n",
            "Requirement already satisfied: wasabi<1.2.0,>=0.9.1 in /usr/local/lib/python3.10/dist-packages (from spacy) (1.1.2)\n",
            "Requirement already satisfied: srsly<3.0.0,>=2.4.3 in /usr/local/lib/python3.10/dist-packages (from spacy) (2.4.8)\n",
            "Requirement already satisfied: catalogue<2.1.0,>=2.0.6 in /usr/local/lib/python3.10/dist-packages (from spacy) (2.0.10)\n",
            "Requirement already satisfied: typer<0.10.0,>=0.3.0 in /usr/local/lib/python3.10/dist-packages (from spacy) (0.9.0)\n",
            "Requirement already satisfied: pathy>=0.10.0 in /usr/local/lib/python3.10/dist-packages (from spacy) (0.10.3)\n",
            "Requirement already satisfied: smart-open<7.0.0,>=5.2.1 in /usr/local/lib/python3.10/dist-packages (from spacy) (6.4.0)\n",
            "Requirement already satisfied: tqdm<5.0.0,>=4.38.0 in /usr/local/lib/python3.10/dist-packages (from spacy) (4.66.1)\n",
            "Requirement already satisfied: numpy>=1.15.0 in /usr/local/lib/python3.10/dist-packages (from spacy) (1.23.5)\n",
            "Requirement already satisfied: requests<3.0.0,>=2.13.0 in /usr/local/lib/python3.10/dist-packages (from spacy) (2.31.0)\n",
            "Requirement already satisfied: pydantic!=1.8,!=1.8.1,<3.0.0,>=1.7.4 in /usr/local/lib/python3.10/dist-packages (from spacy) (1.10.13)\n",
            "Requirement already satisfied: jinja2 in /usr/local/lib/python3.10/dist-packages (from spacy) (3.1.2)\n",
            "Requirement already satisfied: setuptools in /usr/local/lib/python3.10/dist-packages (from spacy) (67.7.2)\n",
            "Requirement already satisfied: packaging>=20.0 in /usr/local/lib/python3.10/dist-packages (from spacy) (23.2)\n",
            "Requirement already satisfied: langcodes<4.0.0,>=3.2.0 in /usr/local/lib/python3.10/dist-packages (from spacy) (3.3.0)\n",
            "Requirement already satisfied: typing-extensions>=4.2.0 in /usr/local/lib/python3.10/dist-packages (from pydantic!=1.8,!=1.8.1,<3.0.0,>=1.7.4->spacy) (4.5.0)\n",
            "Requirement already satisfied: charset-normalizer<4,>=2 in /usr/local/lib/python3.10/dist-packages (from requests<3.0.0,>=2.13.0->spacy) (3.3.2)\n",
            "Requirement already satisfied: idna<4,>=2.5 in /usr/local/lib/python3.10/dist-packages (from requests<3.0.0,>=2.13.0->spacy) (3.4)\n",
            "Requirement already satisfied: urllib3<3,>=1.21.1 in /usr/local/lib/python3.10/dist-packages (from requests<3.0.0,>=2.13.0->spacy) (2.0.7)\n",
            "Requirement already satisfied: certifi>=2017.4.17 in /usr/local/lib/python3.10/dist-packages (from requests<3.0.0,>=2.13.0->spacy) (2023.7.22)\n",
            "Requirement already satisfied: blis<0.8.0,>=0.7.8 in /usr/local/lib/python3.10/dist-packages (from thinc<8.2.0,>=8.1.8->spacy) (0.7.11)\n",
            "Requirement already satisfied: confection<1.0.0,>=0.0.1 in /usr/local/lib/python3.10/dist-packages (from thinc<8.2.0,>=8.1.8->spacy) (0.1.3)\n",
            "Requirement already satisfied: click<9.0.0,>=7.1.1 in /usr/local/lib/python3.10/dist-packages (from typer<0.10.0,>=0.3.0->spacy) (8.1.7)\n",
            "Requirement already satisfied: MarkupSafe>=2.0 in /usr/local/lib/python3.10/dist-packages (from jinja2->spacy) (2.1.3)\n"
          ]
        }
      ]
    },
    {
      "cell_type": "code",
      "source": [
        "import os\n",
        "import re\n",
        "import random\n",
        "import time\n",
        "import matplotlib.pyplot as plt\n",
        "import torch\n",
        "from tqdm import tqdm\n",
        "import numpy as np\n",
        "import pandas as pd\n",
        "import spacy\n",
        "import torch.nn as nn\n",
        "import torch.nn.functional as F\n",
        "from torch.utils.data import TensorDataset, DataLoader, RandomSampler, SequentialSampler\n",
        "import torch.utils.data as data, torchvision as tv\n",
        "import torch.optim as optim"
      ],
      "metadata": {
        "id": "V5kphn2SnaIS"
      },
      "execution_count": 2,
      "outputs": []
    },
    {
      "cell_type": "code",
      "source": [
        "nlp = spacy.blank('en')"
      ],
      "metadata": {
        "id": "SHsIC7Pnnd5L"
      },
      "execution_count": 3,
      "outputs": []
    },
    {
      "cell_type": "code",
      "source": [
        "#from google.colab import drive\n",
        "#drive.mount('/content/drive')"
      ],
      "metadata": {
        "id": "_gC__18CWjkU"
      },
      "execution_count": 4,
      "outputs": []
    },
    {
      "cell_type": "code",
      "source": [
        "#import os\n",
        "#data_dir = \"/content/drive/MyDrive/Exercise_3\""
      ],
      "metadata": {
        "id": "0YyF_y-1ZRpq"
      },
      "execution_count": 5,
      "outputs": []
    },
    {
      "cell_type": "markdown",
      "source": [
        "### Read data\n",
        "Reading each lines in the data and it's corresponding labels below."
      ],
      "metadata": {
        "id": "ceh8DPWId2A-"
      }
    },
    {
      "cell_type": "code",
      "source": [
        "def read_text(text_path):\n",
        "  with open(text_path, 'r') as file:\n",
        "        text_data = file.read().splitlines()\n",
        "  return text_data\n",
        "\n",
        "def read_labels(label_path):\n",
        "  with open(label_path, 'r') as file:\n",
        "        label_data = file.read().splitlines()\n",
        "  return label_data"
      ],
      "metadata": {
        "id": "OWtdKEIraNTs"
      },
      "execution_count": 8,
      "outputs": []
    },
    {
      "cell_type": "markdown",
      "source": [
        "## Load Train, Validation, Test data\n",
        "Loading train, validation, and test dataset and labels"
      ],
      "metadata": {
        "id": "hTE-VRgeeAa1"
      }
    },
    {
      "cell_type": "code",
      "source": [
        "train_txt_file = \"train_text.txt\"\n",
        "train_label_file = \"train_labels.txt\"\n",
        "train_data = read_text(train_txt_file)\n",
        "train_labels = read_labels(train_label_file)\n",
        "\n",
        "val_txt_file = \"val_text.txt\"\n",
        "val_label_file = \"val_labels.txt\"\n",
        "val_data = read_text(val_txt_file)\n",
        "val_labels = read_labels(val_label_file)\n",
        "\n",
        "test_txt_file = \"test_text.txt\"\n",
        "test_label_file = \"test_labels.txt\"\n",
        "test_data = read_text(test_txt_file)\n",
        "test_labels = read_labels(test_label_file)"
      ],
      "metadata": {
        "id": "M-4PqbHgaXwL"
      },
      "execution_count": 9,
      "outputs": []
    },
    {
      "cell_type": "markdown",
      "source": [
        "### Example data\n",
        "Example of how data and labels look like. Mappings are as follows:\n",
        "\n",
        "0 ---> Anger\n",
        "\n",
        "1 ---> Joy\n",
        "\n",
        "2 ---> Optimism\n",
        "\n",
        "3 ---> Sadness"
      ],
      "metadata": {
        "id": "zQdiji_geOMm"
      }
    },
    {
      "cell_type": "code",
      "source": [
        "train_data[0], train_labels[0]"
      ],
      "metadata": {
        "colab": {
          "base_uri": "https://localhost:8080/"
        },
        "id": "45TAlr1Wbf2X",
        "outputId": "5b2a1059-dec0-41ad-82c2-a20a572944d8"
      },
      "execution_count": 10,
      "outputs": [
        {
          "output_type": "execute_result",
          "data": {
            "text/plain": [
              "(\"“Worry is a down payment on a problem you may never have'. \\xa0Joyce Meyer.  #motivation #leadership #worry \",\n",
              " '2')"
            ]
          },
          "metadata": {},
          "execution_count": 10
        }
      ]
    },
    {
      "cell_type": "code",
      "source": [
        "val_data[0], val_labels[0]"
      ],
      "metadata": {
        "colab": {
          "base_uri": "https://localhost:8080/"
        },
        "id": "Iw-HoXi_cmTF",
        "outputId": "bd8573a8-14e4-4f38-ed23-fd297d1599b8"
      },
      "execution_count": 11,
      "outputs": [
        {
          "output_type": "execute_result",
          "data": {
            "text/plain": [
              "('@user @user Oh, hidden revenge and anger...I rememberthe time,she rebutted you. ',\n",
              " '0')"
            ]
          },
          "metadata": {},
          "execution_count": 11
        }
      ]
    },
    {
      "cell_type": "code",
      "source": [
        "test_data[0], test_labels[0]"
      ],
      "metadata": {
        "colab": {
          "base_uri": "https://localhost:8080/"
        },
        "id": "QiHmlM0LeZLv",
        "outputId": "96433824-a78b-4fa5-9a85-0b80ebfba802"
      },
      "execution_count": 12,
      "outputs": [
        {
          "output_type": "execute_result",
          "data": {
            "text/plain": [
              "('#Deppression is real. Partners w/ #depressed people truly dont understand the depth in which they affect us. Add in #anxiety &amp;makes it worse ',\n",
              " '3')"
            ]
          },
          "metadata": {},
          "execution_count": 12
        }
      ]
    },
    {
      "cell_type": "code",
      "source": [
        "train_data[0:5]"
      ],
      "metadata": {
        "colab": {
          "base_uri": "https://localhost:8080/"
        },
        "id": "GNHRoV9hei38",
        "outputId": "41d9c97d-2814-492f-9e58-ef14b4ff2a0f"
      },
      "execution_count": 13,
      "outputs": [
        {
          "output_type": "execute_result",
          "data": {
            "text/plain": [
              "[\"“Worry is a down payment on a problem you may never have'. \\xa0Joyce Meyer.  #motivation #leadership #worry \",\n",
              " \"My roommate: it's okay that we can't spell because we have autocorrect. #terrible #firstworldprobs \",\n",
              " \"No but that's so cute. Atsu was probably shy about photos before but cherry helped her out uwu \",\n",
              " \"Rooneys fucking untouchable isn't he? Been fucking dreadful again, depay has looked decent(ish)tonight \",\n",
              " \"it's pretty depressing when u hit pan on ur favourite highlighter \"]"
            ]
          },
          "metadata": {},
          "execution_count": 13
        }
      ]
    },
    {
      "cell_type": "code",
      "source": [
        "train_labels[0:5]"
      ],
      "metadata": {
        "colab": {
          "base_uri": "https://localhost:8080/"
        },
        "id": "y4oE_P_sgGR0",
        "outputId": "902867dc-7e13-4731-d299-516e529d4d6d"
      },
      "execution_count": 14,
      "outputs": [
        {
          "output_type": "execute_result",
          "data": {
            "text/plain": [
              "['2', '0', '1', '0', '3']"
            ]
          },
          "metadata": {},
          "execution_count": 14
        }
      ]
    },
    {
      "cell_type": "markdown",
      "source": [
        "## Section 1: Emotional Recognition Model: Anger or Joy\n",
        "\n",
        "In this section, we will choose data from anger (0) and joy (1) classes and train a Emotion Recognition model using only these two classes."
      ],
      "metadata": {
        "id": "D2AK_KlMg0C9"
      }
    },
    {
      "cell_type": "code",
      "source": [
        "train_d_aj = [data for data, label in zip(train_data, train_labels) if label in ('0', '1')]\n",
        "train_l_aj = [label for label in train_labels if label in ('0', '1')]\n",
        "\n",
        "val_d_aj = [data for data, label in zip(val_data, val_labels) if label in ('0', '1')]\n",
        "val_l_aj = [label for label in val_labels if label in ('0', '1')]\n",
        "\n",
        "test_d_aj = [data for data, label in zip(test_data, test_labels) if label in ('0', '1')]\n",
        "test_l_aj = [label for label in test_labels if label in ('0', '1')]"
      ],
      "metadata": {
        "id": "rom7gAFTgNlJ"
      },
      "execution_count": 15,
      "outputs": []
    },
    {
      "cell_type": "markdown",
      "source": [
        "Examples of filtered data:"
      ],
      "metadata": {
        "id": "StHawLHclMxg"
      }
    },
    {
      "cell_type": "code",
      "source": [
        "train_d_aj[0:10]"
      ],
      "metadata": {
        "colab": {
          "base_uri": "https://localhost:8080/"
        },
        "id": "rpHQBC7mlA3W",
        "outputId": "0aef28ab-eeea-4f92-c0b3-6e067fbaff5c"
      },
      "execution_count": 16,
      "outputs": [
        {
          "output_type": "execute_result",
          "data": {
            "text/plain": [
              "[\"My roommate: it's okay that we can't spell because we have autocorrect. #terrible #firstworldprobs \",\n",
              " \"No but that's so cute. Atsu was probably shy about photos before but cherry helped her out uwu \",\n",
              " \"Rooneys fucking untouchable isn't he? Been fucking dreadful again, depay has looked decent(ish)tonight \",\n",
              " '@user but your pussy was weak from what I heard so stfu up to me bitch . You got to threaten him that your pregnant . ',\n",
              " 'Tiller and breezy should do a collab album. Rapping and singing prolly be fire ',\n",
              " '@user broadband is shocking regretting signing up now #angry #shouldofgonewithvirgin ',\n",
              " '@user Look at those teef! #growl ',\n",
              " '@user @user USA was embarrassing to watch. When was the last time you guys won a game..? #horrible #joke ',\n",
              " 'Your glee filled Normy dry humping of the most recent high profile celebrity break up is pathetic &amp; all that is wrong with the world today. ',\n",
              " 'What a fucking muppet.  @user  #stalker. ']"
            ]
          },
          "metadata": {},
          "execution_count": 16
        }
      ]
    },
    {
      "cell_type": "code",
      "source": [
        "train_l_aj[0:10]"
      ],
      "metadata": {
        "colab": {
          "base_uri": "https://localhost:8080/"
        },
        "id": "hfkZwolUlDqd",
        "outputId": "608acfd4-4e19-4e93-ace3-9c32e8077971"
      },
      "execution_count": 17,
      "outputs": [
        {
          "output_type": "execute_result",
          "data": {
            "text/plain": [
              "['0', '1', '0', '0', '1', '0', '0', '0', '0', '0']"
            ]
          },
          "metadata": {},
          "execution_count": 17
        }
      ]
    },
    {
      "cell_type": "code",
      "source": [
        "val_l_aj[0:10]"
      ],
      "metadata": {
        "colab": {
          "base_uri": "https://localhost:8080/"
        },
        "id": "8q92KRQIgvjQ",
        "outputId": "a79ae3fa-db58-4762-bfab-3dba33f93be8"
      },
      "execution_count": 18,
      "outputs": [
        {
          "output_type": "execute_result",
          "data": {
            "text/plain": [
              "['0', '0', '0', '0', '0', '0', '0', '1', '0', '0']"
            ]
          },
          "metadata": {},
          "execution_count": 18
        }
      ]
    },
    {
      "cell_type": "markdown",
      "source": [
        "tokenize, encode, converting to tensor functions. Reference of tokenize, encode functions: tutorial notebook"
      ],
      "metadata": {
        "id": "7cFXWl2Jp_7s"
      }
    },
    {
      "cell_type": "code",
      "source": [
        "def tokenize(texts):\n",
        "  max_len = 0\n",
        "  tokenized_texts = []\n",
        "  word2idx = {}\n",
        "\n",
        "  # Add <pad> and <unk> tokens to the vocabulary\n",
        "  word2idx['<pad>'] = 0\n",
        "  word2idx['<unk>'] = 1\n",
        "\n",
        "  # Building our vocab from the corpus starting from index 2\n",
        "  idx = 2\n",
        "  for sent in texts:\n",
        "    tokenized_sent = nlp(sent)\n",
        "    # Add `tokenized_sent` to `tokenized_texts`\n",
        "    tokenized_texts.append(tokenized_sent)\n",
        "    # Add new token to `word2idx`\n",
        "    for token in tokenized_sent:\n",
        "      # string any token objects are different things, be careful.\n",
        "      if token.text not in word2idx:\n",
        "        word2idx[token.text] = idx\n",
        "        idx += 1\n",
        "\n",
        "        # Update `max_len`\n",
        "    max_len = max(max_len, len(tokenized_sent))\n",
        "\n",
        "  return tokenized_texts, word2idx, max_len\n",
        "\n",
        "\n",
        "def encode(tokenized_texts, word2idx, max_len):\n",
        "    input_ids = []\n",
        "    for tokenized_sent in tokenized_texts:\n",
        "        # Pad sentences to e\n",
        "        tokenized_padded_sent = list(tokenized_sent) + ['<pad>'] * (max_len - len(tokenized_sent))\n",
        "\n",
        "        # Encode tokens to input_ids\n",
        "        input_id = [word2idx.get(str(token)) for token in tokenized_padded_sent]\n",
        "        input_ids.append(input_id)\n",
        "\n",
        "    return np.array(input_ids), word2idx\n",
        "\n",
        "\n",
        "def get_tokenized_encoded_ids(text):\n",
        "  # get tokenized and encoded data input ids\n",
        "  tokenized_texts, word2idx, max_len = tokenize(text)\n",
        "  input_ids, word2idx = encode(tokenized_texts, word2idx, max_len)\n",
        "  # converting input ids to torch.Tensor\n",
        "  input_ids = torch.from_numpy(input_ids)\n",
        "  return input_ids, word2idx\n",
        "\n",
        "def get_tensor_labels(labels):\n",
        "  # converting labels to torch.Tensor\n",
        "  label_int = [int(item) for item in labels]\n",
        "  label_tensors = torch.tensor(label_int)\n",
        "  return label_tensors"
      ],
      "metadata": {
        "id": "x51AP25tlTTg"
      },
      "execution_count": 19,
      "outputs": []
    },
    {
      "cell_type": "code",
      "source": [
        "# tokenizing, encoding, converting to tensors\n",
        "train_id_aj, word2idx = get_tokenized_encoded_ids(train_d_aj)\n",
        "val_id_aj, _ = get_tokenized_encoded_ids(val_d_aj)\n",
        "test_id_aj, _ = get_tokenized_encoded_ids(test_d_aj)\n",
        "\n",
        "# converting labels to tensors\n",
        "train_l_aj = get_tensor_labels(train_l_aj)\n",
        "val_l_aj = get_tensor_labels(val_l_aj)\n",
        "test_l_aj = get_tensor_labels(test_l_aj)"
      ],
      "metadata": {
        "id": "ijSLCF0vaHBG"
      },
      "execution_count": 20,
      "outputs": []
    },
    {
      "cell_type": "markdown",
      "source": [
        "Example of dataset after tokenization, encoding, and converting to tensors"
      ],
      "metadata": {
        "id": "hIojtR56p2Pa"
      }
    },
    {
      "cell_type": "code",
      "source": [
        "train_id_aj[0:5]"
      ],
      "metadata": {
        "colab": {
          "base_uri": "https://localhost:8080/"
        },
        "id": "yX5G6DWvn8vA",
        "outputId": "f61550ce-c238-4faa-d65b-c2032771f3f7"
      },
      "execution_count": 21,
      "outputs": [
        {
          "output_type": "execute_result",
          "data": {
            "text/plain": [
              "tensor([[ 2,  3,  4,  5,  6,  7,  8,  9, 10, 11, 12, 13,  9, 14, 15, 16, 17, 18,\n",
              "         17, 19,  0,  0,  0,  0,  0,  0,  0,  0,  0,  0,  0,  0,  0,  0,  0,  0,\n",
              "          0,  0,  0,  0,  0,  0,  0,  0],\n",
              "        [20, 21,  8,  6, 22, 23, 16, 24, 25, 26, 27, 28, 29, 30, 21, 31, 32, 33,\n",
              "         34, 35,  0,  0,  0,  0,  0,  0,  0,  0,  0,  0,  0,  0,  0,  0,  0,  0,\n",
              "          0,  0,  0,  0,  0,  0,  0,  0],\n",
              "        [36, 37, 38, 39, 11, 40, 41, 42, 37, 43, 44, 45, 46, 47, 48, 49,  0,  0,\n",
              "          0,  0,  0,  0,  0,  0,  0,  0,  0,  0,  0,  0,  0,  0,  0,  0,  0,  0,\n",
              "          0,  0,  0,  0,  0,  0,  0,  0],\n",
              "        [50, 21, 51, 52, 25, 53, 54, 55, 56, 57, 22, 58, 59, 60, 61, 62, 16, 63,\n",
              "         64, 60, 65, 66,  8, 51, 67, 16,  0,  0,  0,  0,  0,  0,  0,  0,  0,  0,\n",
              "          0,  0,  0,  0,  0,  0,  0,  0],\n",
              "        [68, 69, 70, 71, 72, 73, 74, 75, 16, 76, 69, 77, 78, 79, 80,  0,  0,  0,\n",
              "          0,  0,  0,  0,  0,  0,  0,  0,  0,  0,  0,  0,  0,  0,  0,  0,  0,  0,\n",
              "          0,  0,  0,  0,  0,  0,  0,  0]])"
            ]
          },
          "metadata": {},
          "execution_count": 21
        }
      ]
    },
    {
      "cell_type": "code",
      "source": [
        "train_l_aj[0:5]"
      ],
      "metadata": {
        "colab": {
          "base_uri": "https://localhost:8080/"
        },
        "id": "Fkb0GVzLn-Gq",
        "outputId": "cc6ca8c5-eaca-4c60-d656-ebfdd3f698a4"
      },
      "execution_count": 22,
      "outputs": [
        {
          "output_type": "execute_result",
          "data": {
            "text/plain": [
              "tensor([0, 1, 0, 0, 1])"
            ]
          },
          "metadata": {},
          "execution_count": 22
        }
      ]
    },
    {
      "cell_type": "markdown",
      "source": [
        "Create dataset and dataloader objects from tensors of data. Dataloader object will be used in training."
      ],
      "metadata": {
        "id": "3RgfoyDuqSFL"
      }
    },
    {
      "cell_type": "code",
      "source": [
        "random_seed = 42\n",
        "train_dataset = TensorDataset(train_id_aj, train_l_aj)\n",
        "train_sampler = RandomSampler(train_dataset, generator=torch.Generator().manual_seed(random_seed))\n",
        "\n",
        "val_dataset = TensorDataset(val_id_aj, val_l_aj)\n",
        "test_dataset = TensorDataset(test_id_aj, test_l_aj)\n",
        "\n",
        "batch_size = 64\n",
        "\n",
        "train_dataloader = DataLoader(train_dataset, sampler=train_sampler, batch_size=batch_size)\n",
        "val_dataloader = DataLoader(val_dataset, batch_size=batch_size)\n",
        "test_dataloader = DataLoader(test_dataset, batch_size=batch_size)"
      ],
      "metadata": {
        "id": "h_UISpbBpMF_"
      },
      "execution_count": 23,
      "outputs": []
    },
    {
      "cell_type": "code",
      "source": [
        "import torchtext.vocab as vocab\n",
        "class CNN(nn.Module):\n",
        "    def __init__(self, embed_dim, filter_sizes, num_filters, num_classes, dropout, pretrained_embeddings, vocab_size=len(word2idx)):\n",
        "        super(CNN, self).__init__()\n",
        "        if pretrained_embeddings is not None:\n",
        "            print(\"using pretrained embedding\")\n",
        "            glove = vocab.GloVe(name='6B', dim=embed_dim)\n",
        "            self.embedding = nn.Embedding.from_pretrained(glove.vectors, freeze=True)\n",
        "        else:\n",
        "            print(\"training embedding\")\n",
        "            self.embedding = nn.Embedding(num_embeddings=vocab_size, embedding_dim=embed_dim, padding_idx=0)\n",
        "        self.conv1d_list = nn.ModuleList([\n",
        "            nn.Sequential(\n",
        "                nn.Conv1d(in_channels=embed_dim, out_channels=num_filters[i], kernel_size=filter_sizes[i]),\n",
        "                nn.BatchNorm1d(num_filters[i]),\n",
        "                nn.LeakyReLU(negative_slope=0.01),\n",
        "                nn.MaxPool1d(kernel_size=filter_sizes[i])\n",
        "            )\n",
        "            for i in range(len(filter_sizes))\n",
        "        ])\n",
        "        self.fc = nn.Linear(np.sum(num_filters), num_classes)\n",
        "        self.dropout = nn.Dropout(p=dropout)\n",
        "\n",
        "    def forward(self, input_ids):\n",
        "        x_embed = self.embedding(input_ids).float()\n",
        "        x_reshaped = x_embed.permute(0, 2, 1)\n",
        "        x_conv_list = [F.relu(conv1d(x_reshaped)) for conv1d in self.conv1d_list]\n",
        "        x_pool_list = [F.max_pool1d(x_conv, kernel_size=x_conv.shape[2])\n",
        "            for x_conv in x_conv_list]\n",
        "\n",
        "        x_fc = torch.cat([x_pool.squeeze(dim=2) for x_pool in x_pool_list],\n",
        "                         dim=1)\n",
        "        logits = self.fc(self.dropout(x_fc))\n",
        "        return logits"
      ],
      "metadata": {
        "id": "-V8LzL8kb8kZ"
      },
      "execution_count": 24,
      "outputs": []
    },
    {
      "cell_type": "code",
      "source": [
        "class Train:\n",
        "  def __init__(\n",
        "      self,\n",
        "      embed_dim=100,\n",
        "      filter_sizes=[3, 4, 5],\n",
        "      num_filters=[150, 150, 150],\n",
        "      dropout=0.2,\n",
        "      num_classes=2,\n",
        "      lr=0.01,\n",
        "      rho=0.95,\n",
        "      epoch=5,\n",
        "      pretrained_embeddings=None,\n",
        "      weight_decay = 1e-5\n",
        "    ):\n",
        "    self._embed_dim = embed_dim\n",
        "    self._filter_sizes = filter_sizes\n",
        "    self._num_filters = num_filters\n",
        "    self._dropout = dropout\n",
        "    self._num_classes = num_classes\n",
        "    self._lr = lr\n",
        "    self._rho = rho\n",
        "    self._epoch = epoch\n",
        "    self._pretrained_embeddings = pretrained_embeddings\n",
        "    self._weight_decay = weight_decay\n",
        "\n",
        "  def train_model(self, device, train_dataloader, validation_dataloader):\n",
        "    # Instantiate CNN model\n",
        "    model = CNN(embed_dim=self._embed_dim,\n",
        "                filter_sizes=self._filter_sizes,\n",
        "                num_filters=self._num_filters,\n",
        "                num_classes=self._num_classes,\n",
        "                dropout=self._dropout,\n",
        "                pretrained_embeddings=self._pretrained_embeddings)\n",
        "\n",
        "    # Send model to `device` (GPU/CPU)\n",
        "    model.to(device)\n",
        "\n",
        "    # Instantiate SDG Optimizer\n",
        "    optimizer = optim.SGD(model.parameters(), lr=self._lr, weight_decay=self._weight_decay)\n",
        "\n",
        "    # cross entropy loss function\n",
        "    loss_fn = nn.CrossEntropyLoss()\n",
        "\n",
        "    # Start training loop\n",
        "    print(\"Start training...\\n\")\n",
        "    best_validation_loss = float('inf')\n",
        "    best_model = None\n",
        "\n",
        "    for epoch_i in range(self._epoch):\n",
        "        total_train_loss = 0\n",
        "        total_validation_loss = 0\n",
        "        y_true_t = []\n",
        "        y_pred_t = []\n",
        "\n",
        "        y_true_v = []\n",
        "        y_pred_v = []\n",
        "\n",
        "        # Put the model into the training mode\n",
        "        model.train()\n",
        "        for step, batch in enumerate(train_dataloader):\n",
        "            # Load batch to GPU\n",
        "            b_input_ids, b_labels = tuple(t.to(device) for t in batch)\n",
        "            model.zero_grad()\n",
        "            logits = model(b_input_ids)\n",
        "            loss = loss_fn(logits, b_labels)\n",
        "            total_train_loss += loss.item()\n",
        "            loss.backward()\n",
        "            optimizer.step()\n",
        "            y_true_t.extend(b_labels.cpu().numpy())\n",
        "            y_pred_t.extend(logits.argmax(1).cpu().numpy())\n",
        "\n",
        "        # Calculate the average training loss\n",
        "        avg_train_loss = total_train_loss / len(train_dataloader)\n",
        "\n",
        "        # Calculate accuracy and F1-macro for the training data\n",
        "        train_accuracy = accuracy_score(y_true_t, y_pred_t)\n",
        "        train_f1_macro = f1_score(y_true_t, y_pred_t, average='macro')\n",
        "\n",
        "        # Put the model into evaluation mode\n",
        "        model.eval()\n",
        "        with torch.no_grad():\n",
        "            for step, batch in enumerate(validation_dataloader):\n",
        "                b_input_ids, b_labels = tuple(t.to(device) for t in batch)\n",
        "                logits = model(b_input_ids)\n",
        "                loss = loss_fn(logits, b_labels)\n",
        "                total_validation_loss += loss.item()\n",
        "                y_true_v.extend(b_labels.cpu().numpy())\n",
        "                y_pred_v.extend(logits.argmax(1).cpu().numpy())\n",
        "\n",
        "        # Calculate the average validation loss\n",
        "        avg_validation_loss = total_validation_loss / len(validation_dataloader)\n",
        "\n",
        "        # Calculate accuracy and F1-macro for the validation data\n",
        "        val_accuracy = accuracy_score(y_true_v, y_pred_v)\n",
        "        val_f1_macro = f1_score(y_true_v, y_pred_v, average='macro')\n",
        "\n",
        "        # Save the best model based on validation loss\n",
        "        if avg_validation_loss < best_validation_loss:\n",
        "            best_validation_loss = avg_validation_loss\n",
        "            best_model = model.state_dict()\n",
        "\n",
        "        print(f\"Epoch {epoch_i + 1:2d} | Train Loss: {avg_train_loss:.6f} | Train Acc: {train_accuracy:.4f} | Train F1-Macro: {train_f1_macro:.4f}\")\n",
        "        print(f\"Epoch {epoch_i + 1:2d} | Validation Loss: {avg_validation_loss:.6f} | Validation Acc: {val_accuracy:.4f} | Validation F1-Macro: {val_f1_macro:.4f}\")\n",
        "        print(\".........................................................................................\")\n",
        "\n",
        "    # Load the best model for further evaluation or testing\n",
        "    model.load_state_dict(best_model)\n",
        "    return model"
      ],
      "metadata": {
        "id": "Qvo4y3fE7HBO"
      },
      "execution_count": 25,
      "outputs": []
    },
    {
      "cell_type": "code",
      "source": [
        "def test_model(model, device, test_dataloader):\n",
        "  model.eval()\n",
        "  y_true = []\n",
        "  y_pred = []\n",
        "\n",
        "  with torch.no_grad():\n",
        "      for step, batch in enumerate(test_dataloader):\n",
        "          b_input_ids, b_labels = tuple(t.to(device) for t in batch)\n",
        "          logits = model(b_input_ids)\n",
        "          y_true.extend(b_labels.cpu().numpy())\n",
        "          y_pred.extend(logits.argmax(1).cpu().numpy())\n",
        "\n",
        "  test_accuracy = accuracy_score(y_true, y_pred)\n",
        "  test_f1_macro = f1_score(y_true, y_pred, average='macro')\n",
        "\n",
        "  print(f\"Test Accuracy: {test_accuracy:.4f}\")\n",
        "  print(f\"Test F1-Macro: {test_f1_macro:.4f}\")"
      ],
      "metadata": {
        "id": "Dx2f1crTS3Bh"
      },
      "execution_count": 26,
      "outputs": []
    },
    {
      "cell_type": "code",
      "source": [
        "from sklearn.metrics import f1_score, accuracy_score\n",
        "\n",
        "# use the GPU\n",
        "if torch.cuda.is_available():\n",
        "    device = torch.device(\"cuda\")\n",
        "    print(f'There are {torch.cuda.device_count()} GPU(s) available.')\n",
        "    print('Device name:', torch.cuda.get_device_name(0))\n",
        "\n",
        "else:\n",
        "    print('No GPU available, using the CPU instead.')\n",
        "    device = torch.device(\"cpu\")"
      ],
      "metadata": {
        "colab": {
          "base_uri": "https://localhost:8080/"
        },
        "id": "1iEBuzKm8sal",
        "outputId": "43b9654a-5446-4871-8166-754a49bcf62c"
      },
      "execution_count": 27,
      "outputs": [
        {
          "output_type": "stream",
          "name": "stdout",
          "text": [
            "There are 1 GPU(s) available.\n",
            "Device name: Tesla T4\n"
          ]
        }
      ]
    },
    {
      "cell_type": "markdown",
      "source": [
        "### Experiments on different Hyperparameter"
      ],
      "metadata": {
        "id": "euU_iVmezPua"
      }
    },
    {
      "cell_type": "code",
      "source": [
        "train_obj = Train(embed_dim=300, pretrained_embeddings=True, epoch=50, lr=0.0001, dropout=0.2, weight_decay=0.00001, filter_sizes=[3, 3, 4, 5], num_filters=[100, 100, 100, 100])\n",
        "model = train_obj.train_model(device, train_dataloader, val_dataloader)\n",
        "test_model(model, device, test_dataloader)"
      ],
      "metadata": {
        "colab": {
          "base_uri": "https://localhost:8080/"
        },
        "id": "GlU9kPgluTNo",
        "outputId": "de70a184-f9cb-4461-f92a-398249feb597"
      },
      "execution_count": null,
      "outputs": [
        {
          "output_type": "stream",
          "name": "stdout",
          "text": [
            "using pretrained embedding\n"
          ]
        },
        {
          "output_type": "stream",
          "name": "stderr",
          "text": [
            ".vector_cache/glove.6B.zip: 862MB [02:46, 5.19MB/s]                           \n",
            "100%|█████████▉| 399999/400000 [01:14<00:00, 5360.91it/s]\n"
          ]
        },
        {
          "output_type": "stream",
          "name": "stdout",
          "text": [
            "Start training...\n",
            "\n",
            "Epoch  1 | Train Loss: 0.863562 | Train Acc: 0.5280 | Train F1-Macro: 0.4963\n",
            "Epoch  1 | Validation Loss: 0.684480 | Validation Acc: 0.5992 | Validation F1-Macro: 0.4496\n",
            ".........................................................................................\n",
            "Epoch  2 | Train Loss: 0.818041 | Train Acc: 0.5731 | Train F1-Macro: 0.4747\n",
            "Epoch  2 | Validation Loss: 0.705643 | Validation Acc: 0.6031 | Validation F1-Macro: 0.4322\n",
            ".........................................................................................\n",
            "Epoch  3 | Train Loss: 0.798529 | Train Acc: 0.5821 | Train F1-Macro: 0.4922\n",
            "Epoch  3 | Validation Loss: 0.706622 | Validation Acc: 0.6070 | Validation F1-Macro: 0.4272\n",
            ".........................................................................................\n",
            "Epoch  4 | Train Loss: 0.792956 | Train Acc: 0.5859 | Train F1-Macro: 0.4987\n",
            "Epoch  4 | Validation Loss: 0.705339 | Validation Acc: 0.6070 | Validation F1-Macro: 0.4272\n",
            ".........................................................................................\n",
            "Epoch  5 | Train Loss: 0.779685 | Train Acc: 0.5954 | Train F1-Macro: 0.5014\n",
            "Epoch  5 | Validation Loss: 0.703988 | Validation Acc: 0.6070 | Validation F1-Macro: 0.4272\n",
            ".........................................................................................\n",
            "Epoch  6 | Train Loss: 0.749494 | Train Acc: 0.6110 | Train F1-Macro: 0.5180\n",
            "Epoch  6 | Validation Loss: 0.706506 | Validation Acc: 0.6148 | Validation F1-Macro: 0.4522\n",
            ".........................................................................................\n",
            "Epoch  7 | Train Loss: 0.777391 | Train Acc: 0.5935 | Train F1-Macro: 0.5011\n",
            "Epoch  7 | Validation Loss: 0.705886 | Validation Acc: 0.6070 | Validation F1-Macro: 0.4343\n",
            ".........................................................................................\n",
            "Epoch  8 | Train Loss: 0.774438 | Train Acc: 0.5944 | Train F1-Macro: 0.5013\n",
            "Epoch  8 | Validation Loss: 0.703455 | Validation Acc: 0.6031 | Validation F1-Macro: 0.4251\n",
            ".........................................................................................\n",
            "Epoch  9 | Train Loss: 0.765220 | Train Acc: 0.5996 | Train F1-Macro: 0.5128\n",
            "Epoch  9 | Validation Loss: 0.702512 | Validation Acc: 0.6070 | Validation F1-Macro: 0.4272\n",
            ".........................................................................................\n",
            "Epoch 10 | Train Loss: 0.757065 | Train Acc: 0.5958 | Train F1-Macro: 0.5028\n",
            "Epoch 10 | Validation Loss: 0.702623 | Validation Acc: 0.6070 | Validation F1-Macro: 0.4272\n",
            ".........................................................................................\n",
            "Epoch 11 | Train Loss: 0.737543 | Train Acc: 0.6053 | Train F1-Macro: 0.5154\n",
            "Epoch 11 | Validation Loss: 0.701202 | Validation Acc: 0.6148 | Validation F1-Macro: 0.4312\n",
            ".........................................................................................\n",
            "Epoch 12 | Train Loss: 0.734039 | Train Acc: 0.6200 | Train F1-Macro: 0.5299\n",
            "Epoch 12 | Validation Loss: 0.703703 | Validation Acc: 0.6070 | Validation F1-Macro: 0.4343\n",
            ".........................................................................................\n",
            "Epoch 13 | Train Loss: 0.735055 | Train Acc: 0.6167 | Train F1-Macro: 0.5313\n",
            "Epoch 13 | Validation Loss: 0.701768 | Validation Acc: 0.6070 | Validation F1-Macro: 0.4272\n",
            ".........................................................................................\n",
            "Epoch 14 | Train Loss: 0.743208 | Train Acc: 0.6129 | Train F1-Macro: 0.5218\n",
            "Epoch 14 | Validation Loss: 0.702636 | Validation Acc: 0.6070 | Validation F1-Macro: 0.4343\n",
            ".........................................................................................\n",
            "Epoch 15 | Train Loss: 0.763168 | Train Acc: 0.6010 | Train F1-Macro: 0.5152\n",
            "Epoch 15 | Validation Loss: 0.700779 | Validation Acc: 0.6148 | Validation F1-Macro: 0.4312\n",
            ".........................................................................................\n",
            "Epoch 16 | Train Loss: 0.735860 | Train Acc: 0.6091 | Train F1-Macro: 0.5201\n",
            "Epoch 16 | Validation Loss: 0.699790 | Validation Acc: 0.6148 | Validation F1-Macro: 0.4312\n",
            ".........................................................................................\n",
            "Epoch 17 | Train Loss: 0.737304 | Train Acc: 0.5954 | Train F1-Macro: 0.5049\n",
            "Epoch 17 | Validation Loss: 0.700152 | Validation Acc: 0.6148 | Validation F1-Macro: 0.4312\n",
            ".........................................................................................\n",
            "Epoch 18 | Train Loss: 0.717414 | Train Acc: 0.6200 | Train F1-Macro: 0.5270\n",
            "Epoch 18 | Validation Loss: 0.700732 | Validation Acc: 0.6109 | Validation F1-Macro: 0.4364\n",
            ".........................................................................................\n",
            "Epoch 19 | Train Loss: 0.723481 | Train Acc: 0.6252 | Train F1-Macro: 0.5426\n",
            "Epoch 19 | Validation Loss: 0.699274 | Validation Acc: 0.6109 | Validation F1-Macro: 0.4292\n",
            ".........................................................................................\n",
            "Epoch 20 | Train Loss: 0.716282 | Train Acc: 0.6295 | Train F1-Macro: 0.5471\n",
            "Epoch 20 | Validation Loss: 0.698687 | Validation Acc: 0.6148 | Validation F1-Macro: 0.4312\n",
            ".........................................................................................\n",
            "Epoch 21 | Train Loss: 0.706667 | Train Acc: 0.6233 | Train F1-Macro: 0.5394\n",
            "Epoch 21 | Validation Loss: 0.697968 | Validation Acc: 0.6109 | Validation F1-Macro: 0.4217\n",
            ".........................................................................................\n",
            "Epoch 22 | Train Loss: 0.722776 | Train Acc: 0.6200 | Train F1-Macro: 0.5323\n",
            "Epoch 22 | Validation Loss: 0.697882 | Validation Acc: 0.6148 | Validation F1-Macro: 0.4312\n",
            ".........................................................................................\n",
            "Epoch 23 | Train Loss: 0.717109 | Train Acc: 0.6352 | Train F1-Macro: 0.5496\n",
            "Epoch 23 | Validation Loss: 0.698785 | Validation Acc: 0.6148 | Validation F1-Macro: 0.4312\n",
            ".........................................................................................\n",
            "Epoch 24 | Train Loss: 0.709391 | Train Acc: 0.6295 | Train F1-Macro: 0.5458\n",
            "Epoch 24 | Validation Loss: 0.697834 | Validation Acc: 0.6148 | Validation F1-Macro: 0.4385\n",
            ".........................................................................................\n",
            "Epoch 25 | Train Loss: 0.715315 | Train Acc: 0.6143 | Train F1-Macro: 0.5332\n",
            "Epoch 25 | Validation Loss: 0.696763 | Validation Acc: 0.6109 | Validation F1-Macro: 0.4217\n",
            ".........................................................................................\n",
            "Epoch 26 | Train Loss: 0.713313 | Train Acc: 0.6300 | Train F1-Macro: 0.5410\n",
            "Epoch 26 | Validation Loss: 0.697812 | Validation Acc: 0.6148 | Validation F1-Macro: 0.4385\n",
            ".........................................................................................\n",
            "Epoch 27 | Train Loss: 0.690694 | Train Acc: 0.6314 | Train F1-Macro: 0.5543\n",
            "Epoch 27 | Validation Loss: 0.696955 | Validation Acc: 0.6148 | Validation F1-Macro: 0.4236\n",
            ".........................................................................................\n",
            "Epoch 28 | Train Loss: 0.699713 | Train Acc: 0.6290 | Train F1-Macro: 0.5403\n",
            "Epoch 28 | Validation Loss: 0.696699 | Validation Acc: 0.6187 | Validation F1-Macro: 0.4333\n",
            ".........................................................................................\n",
            "Epoch 29 | Train Loss: 0.715903 | Train Acc: 0.6271 | Train F1-Macro: 0.5431\n",
            "Epoch 29 | Validation Loss: 0.696582 | Validation Acc: 0.6148 | Validation F1-Macro: 0.4312\n",
            ".........................................................................................\n",
            "Epoch 30 | Train Loss: 0.699833 | Train Acc: 0.6404 | Train F1-Macro: 0.5507\n",
            "Epoch 30 | Validation Loss: 0.696746 | Validation Acc: 0.6148 | Validation F1-Macro: 0.4385\n",
            ".........................................................................................\n",
            "Epoch 31 | Train Loss: 0.686777 | Train Acc: 0.6300 | Train F1-Macro: 0.5466\n",
            "Epoch 31 | Validation Loss: 0.695607 | Validation Acc: 0.6187 | Validation F1-Macro: 0.4333\n",
            ".........................................................................................\n",
            "Epoch 32 | Train Loss: 0.688653 | Train Acc: 0.6376 | Train F1-Macro: 0.5504\n",
            "Epoch 32 | Validation Loss: 0.696527 | Validation Acc: 0.6109 | Validation F1-Macro: 0.4292\n",
            ".........................................................................................\n",
            "Epoch 33 | Train Loss: 0.666673 | Train Acc: 0.6589 | Train F1-Macro: 0.5789\n",
            "Epoch 33 | Validation Loss: 0.695145 | Validation Acc: 0.6187 | Validation F1-Macro: 0.4333\n",
            ".........................................................................................\n",
            "Epoch 34 | Train Loss: 0.691947 | Train Acc: 0.6423 | Train F1-Macro: 0.5577\n",
            "Epoch 34 | Validation Loss: 0.695291 | Validation Acc: 0.6148 | Validation F1-Macro: 0.4236\n",
            ".........................................................................................\n",
            "Epoch 35 | Train Loss: 0.690474 | Train Acc: 0.6475 | Train F1-Macro: 0.5653\n",
            "Epoch 35 | Validation Loss: 0.695192 | Validation Acc: 0.6148 | Validation F1-Macro: 0.4236\n",
            ".........................................................................................\n",
            "Epoch 36 | Train Loss: 0.693666 | Train Acc: 0.6385 | Train F1-Macro: 0.5548\n",
            "Epoch 36 | Validation Loss: 0.693782 | Validation Acc: 0.6148 | Validation F1-Macro: 0.4236\n",
            ".........................................................................................\n",
            "Epoch 37 | Train Loss: 0.674178 | Train Acc: 0.6475 | Train F1-Macro: 0.5612\n",
            "Epoch 37 | Validation Loss: 0.694935 | Validation Acc: 0.6187 | Validation F1-Macro: 0.4406\n",
            ".........................................................................................\n",
            "Epoch 38 | Train Loss: 0.678508 | Train Acc: 0.6404 | Train F1-Macro: 0.5603\n",
            "Epoch 38 | Validation Loss: 0.693541 | Validation Acc: 0.6148 | Validation F1-Macro: 0.4236\n",
            ".........................................................................................\n",
            "Epoch 39 | Train Loss: 0.669872 | Train Acc: 0.6490 | Train F1-Macro: 0.5585\n",
            "Epoch 39 | Validation Loss: 0.694079 | Validation Acc: 0.6148 | Validation F1-Macro: 0.4236\n",
            ".........................................................................................\n",
            "Epoch 40 | Train Loss: 0.682136 | Train Acc: 0.6485 | Train F1-Macro: 0.5610\n",
            "Epoch 40 | Validation Loss: 0.693722 | Validation Acc: 0.6187 | Validation F1-Macro: 0.4406\n",
            ".........................................................................................\n",
            "Epoch 41 | Train Loss: 0.682256 | Train Acc: 0.6442 | Train F1-Macro: 0.5640\n",
            "Epoch 41 | Validation Loss: 0.693096 | Validation Acc: 0.6148 | Validation F1-Macro: 0.4236\n",
            ".........................................................................................\n",
            "Epoch 42 | Train Loss: 0.669255 | Train Acc: 0.6480 | Train F1-Macro: 0.5597\n",
            "Epoch 42 | Validation Loss: 0.693340 | Validation Acc: 0.6187 | Validation F1-Macro: 0.4333\n",
            ".........................................................................................\n",
            "Epoch 43 | Train Loss: 0.671908 | Train Acc: 0.6490 | Train F1-Macro: 0.5672\n",
            "Epoch 43 | Validation Loss: 0.693005 | Validation Acc: 0.6148 | Validation F1-Macro: 0.4236\n",
            ".........................................................................................\n",
            "Epoch 44 | Train Loss: 0.666197 | Train Acc: 0.6551 | Train F1-Macro: 0.5738\n",
            "Epoch 44 | Validation Loss: 0.693029 | Validation Acc: 0.6148 | Validation F1-Macro: 0.4236\n",
            ".........................................................................................\n",
            "Epoch 45 | Train Loss: 0.657748 | Train Acc: 0.6551 | Train F1-Macro: 0.5702\n",
            "Epoch 45 | Validation Loss: 0.692560 | Validation Acc: 0.6148 | Validation F1-Macro: 0.4236\n",
            ".........................................................................................\n",
            "Epoch 46 | Train Loss: 0.658660 | Train Acc: 0.6608 | Train F1-Macro: 0.5741\n",
            "Epoch 46 | Validation Loss: 0.691225 | Validation Acc: 0.6226 | Validation F1-Macro: 0.4427\n",
            ".........................................................................................\n",
            "Epoch 47 | Train Loss: 0.657245 | Train Acc: 0.6542 | Train F1-Macro: 0.5721\n",
            "Epoch 47 | Validation Loss: 0.691331 | Validation Acc: 0.6148 | Validation F1-Macro: 0.4236\n",
            ".........................................................................................\n",
            "Epoch 48 | Train Loss: 0.644502 | Train Acc: 0.6589 | Train F1-Macro: 0.5789\n",
            "Epoch 48 | Validation Loss: 0.690395 | Validation Acc: 0.6187 | Validation F1-Macro: 0.4333\n",
            ".........................................................................................\n",
            "Epoch 49 | Train Loss: 0.650406 | Train Acc: 0.6608 | Train F1-Macro: 0.5786\n",
            "Epoch 49 | Validation Loss: 0.691213 | Validation Acc: 0.6226 | Validation F1-Macro: 0.4427\n",
            ".........................................................................................\n",
            "Epoch 50 | Train Loss: 0.640978 | Train Acc: 0.6561 | Train F1-Macro: 0.5745\n",
            "Epoch 50 | Validation Loss: 0.691007 | Validation Acc: 0.6187 | Validation F1-Macro: 0.4333\n",
            ".........................................................................................\n",
            "Test Accuracy: 0.6124\n",
            "Test F1-Macro: 0.4393\n"
          ]
        }
      ]
    },
    {
      "cell_type": "code",
      "source": [
        "train_obj = Train(embed_dim=300, pretrained_embeddings=True, epoch=50, lr=0.0001, dropout=0.5, weight_decay=0.00001, filter_sizes=[3, 4, 5], num_filters=[100, 100, 100])\n",
        "model = train_obj.train_model(device, train_dataloader, val_dataloader)\n",
        "test_model(model, device, test_dataloader)"
      ],
      "metadata": {
        "colab": {
          "base_uri": "https://localhost:8080/"
        },
        "id": "4nAtlyNkhdRA",
        "outputId": "96cecf8b-87ad-4b83-b43d-2b0998326457"
      },
      "execution_count": null,
      "outputs": [
        {
          "output_type": "stream",
          "name": "stdout",
          "text": [
            "using pretrained embedding\n",
            "Start training...\n",
            "\n",
            "Epoch  1 | Train Loss: 1.034957 | Train Acc: 0.6067 | Train F1-Macro: 0.4946\n",
            "Epoch  1 | Validation Loss: 0.634822 | Validation Acc: 0.6187 | Validation F1-Macro: 0.3916\n",
            ".........................................................................................\n",
            "Epoch  2 | Train Loss: 0.998742 | Train Acc: 0.5726 | Train F1-Macro: 0.4953\n",
            "Epoch  2 | Validation Loss: 0.655613 | Validation Acc: 0.6070 | Validation F1-Macro: 0.3956\n",
            ".........................................................................................\n",
            "Epoch  3 | Train Loss: 0.994742 | Train Acc: 0.5840 | Train F1-Macro: 0.5104\n",
            "Epoch  3 | Validation Loss: 0.654424 | Validation Acc: 0.5992 | Validation F1-Macro: 0.4004\n",
            ".........................................................................................\n",
            "Epoch  4 | Train Loss: 0.963215 | Train Acc: 0.5863 | Train F1-Macro: 0.5230\n",
            "Epoch  4 | Validation Loss: 0.655782 | Validation Acc: 0.6031 | Validation F1-Macro: 0.3939\n",
            ".........................................................................................\n",
            "Epoch  5 | Train Loss: 0.983407 | Train Acc: 0.5655 | Train F1-Macro: 0.4906\n",
            "Epoch  5 | Validation Loss: 0.654789 | Validation Acc: 0.6031 | Validation F1-Macro: 0.3939\n",
            ".........................................................................................\n",
            "Epoch  6 | Train Loss: 0.958445 | Train Acc: 0.5787 | Train F1-Macro: 0.5099\n",
            "Epoch  6 | Validation Loss: 0.654701 | Validation Acc: 0.6070 | Validation F1-Macro: 0.3956\n",
            ".........................................................................................\n",
            "Epoch  7 | Train Loss: 0.942064 | Train Acc: 0.5911 | Train F1-Macro: 0.5190\n",
            "Epoch  7 | Validation Loss: 0.652045 | Validation Acc: 0.6031 | Validation F1-Macro: 0.3939\n",
            ".........................................................................................\n",
            "Epoch  8 | Train Loss: 0.980357 | Train Acc: 0.5683 | Train F1-Macro: 0.4982\n",
            "Epoch  8 | Validation Loss: 0.651599 | Validation Acc: 0.6031 | Validation F1-Macro: 0.3939\n",
            ".........................................................................................\n",
            "Epoch  9 | Train Loss: 0.955989 | Train Acc: 0.5769 | Train F1-Macro: 0.5069\n",
            "Epoch  9 | Validation Loss: 0.651939 | Validation Acc: 0.6031 | Validation F1-Macro: 0.3939\n",
            ".........................................................................................\n",
            "Epoch 10 | Train Loss: 0.936793 | Train Acc: 0.5878 | Train F1-Macro: 0.5182\n",
            "Epoch 10 | Validation Loss: 0.651994 | Validation Acc: 0.6109 | Validation F1-Macro: 0.3973\n",
            ".........................................................................................\n",
            "Epoch 11 | Train Loss: 0.914395 | Train Acc: 0.5911 | Train F1-Macro: 0.5211\n",
            "Epoch 11 | Validation Loss: 0.651920 | Validation Acc: 0.6031 | Validation F1-Macro: 0.3939\n",
            ".........................................................................................\n",
            "Epoch 12 | Train Loss: 0.919976 | Train Acc: 0.5863 | Train F1-Macro: 0.5195\n",
            "Epoch 12 | Validation Loss: 0.654105 | Validation Acc: 0.6148 | Validation F1-Macro: 0.3900\n",
            ".........................................................................................\n",
            "Epoch 13 | Train Loss: 0.937487 | Train Acc: 0.6034 | Train F1-Macro: 0.5323\n",
            "Epoch 13 | Validation Loss: 0.650905 | Validation Acc: 0.6070 | Validation F1-Macro: 0.3956\n",
            ".........................................................................................\n",
            "Epoch 14 | Train Loss: 0.925174 | Train Acc: 0.5659 | Train F1-Macro: 0.4948\n",
            "Epoch 14 | Validation Loss: 0.650684 | Validation Acc: 0.6070 | Validation F1-Macro: 0.3956\n",
            ".........................................................................................\n",
            "Epoch 15 | Train Loss: 0.869594 | Train Acc: 0.6072 | Train F1-Macro: 0.5411\n",
            "Epoch 15 | Validation Loss: 0.650679 | Validation Acc: 0.6070 | Validation F1-Macro: 0.3956\n",
            ".........................................................................................\n",
            "Epoch 16 | Train Loss: 0.894011 | Train Acc: 0.5882 | Train F1-Macro: 0.5177\n",
            "Epoch 16 | Validation Loss: 0.648897 | Validation Acc: 0.6031 | Validation F1-Macro: 0.3939\n",
            ".........................................................................................\n",
            "Epoch 17 | Train Loss: 0.882246 | Train Acc: 0.5897 | Train F1-Macro: 0.5282\n",
            "Epoch 17 | Validation Loss: 0.654982 | Validation Acc: 0.6187 | Validation F1-Macro: 0.3916\n",
            ".........................................................................................\n",
            "Epoch 18 | Train Loss: 0.878736 | Train Acc: 0.6034 | Train F1-Macro: 0.5260\n",
            "Epoch 18 | Validation Loss: 0.648115 | Validation Acc: 0.6109 | Validation F1-Macro: 0.3973\n",
            ".........................................................................................\n",
            "Epoch 19 | Train Loss: 0.874305 | Train Acc: 0.6025 | Train F1-Macro: 0.5383\n",
            "Epoch 19 | Validation Loss: 0.648543 | Validation Acc: 0.6109 | Validation F1-Macro: 0.3973\n",
            ".........................................................................................\n",
            "Epoch 20 | Train Loss: 0.858255 | Train Acc: 0.5887 | Train F1-Macro: 0.5205\n",
            "Epoch 20 | Validation Loss: 0.650808 | Validation Acc: 0.6148 | Validation F1-Macro: 0.3990\n",
            ".........................................................................................\n",
            "Epoch 21 | Train Loss: 0.871081 | Train Acc: 0.5920 | Train F1-Macro: 0.5141\n",
            "Epoch 21 | Validation Loss: 0.647555 | Validation Acc: 0.6148 | Validation F1-Macro: 0.3990\n",
            ".........................................................................................\n",
            "Epoch 22 | Train Loss: 0.829915 | Train Acc: 0.6053 | Train F1-Macro: 0.5365\n",
            "Epoch 22 | Validation Loss: 0.647918 | Validation Acc: 0.6148 | Validation F1-Macro: 0.3990\n",
            ".........................................................................................\n",
            "Epoch 23 | Train Loss: 0.818826 | Train Acc: 0.6153 | Train F1-Macro: 0.5461\n",
            "Epoch 23 | Validation Loss: 0.645942 | Validation Acc: 0.6109 | Validation F1-Macro: 0.3973\n",
            ".........................................................................................\n",
            "Epoch 24 | Train Loss: 0.870896 | Train Acc: 0.6039 | Train F1-Macro: 0.5378\n",
            "Epoch 24 | Validation Loss: 0.646607 | Validation Acc: 0.6148 | Validation F1-Macro: 0.3990\n",
            ".........................................................................................\n",
            "Epoch 25 | Train Loss: 0.850093 | Train Acc: 0.6015 | Train F1-Macro: 0.5325\n",
            "Epoch 25 | Validation Loss: 0.647032 | Validation Acc: 0.6148 | Validation F1-Macro: 0.3990\n",
            ".........................................................................................\n",
            "Epoch 26 | Train Loss: 0.838205 | Train Acc: 0.6006 | Train F1-Macro: 0.5326\n",
            "Epoch 26 | Validation Loss: 0.647896 | Validation Acc: 0.6148 | Validation F1-Macro: 0.3990\n",
            ".........................................................................................\n",
            "Epoch 27 | Train Loss: 0.847891 | Train Acc: 0.5963 | Train F1-Macro: 0.5220\n",
            "Epoch 27 | Validation Loss: 0.647085 | Validation Acc: 0.6148 | Validation F1-Macro: 0.3990\n",
            ".........................................................................................\n",
            "Epoch 28 | Train Loss: 0.826104 | Train Acc: 0.6129 | Train F1-Macro: 0.5402\n",
            "Epoch 28 | Validation Loss: 0.646404 | Validation Acc: 0.6148 | Validation F1-Macro: 0.3990\n",
            ".........................................................................................\n",
            "Epoch 29 | Train Loss: 0.840008 | Train Acc: 0.6006 | Train F1-Macro: 0.5285\n",
            "Epoch 29 | Validation Loss: 0.646384 | Validation Acc: 0.6148 | Validation F1-Macro: 0.3990\n",
            ".........................................................................................\n",
            "Epoch 30 | Train Loss: 0.815939 | Train Acc: 0.6086 | Train F1-Macro: 0.5374\n",
            "Epoch 30 | Validation Loss: 0.645118 | Validation Acc: 0.6148 | Validation F1-Macro: 0.3990\n",
            ".........................................................................................\n",
            "Epoch 31 | Train Loss: 0.838819 | Train Acc: 0.6006 | Train F1-Macro: 0.5298\n",
            "Epoch 31 | Validation Loss: 0.646897 | Validation Acc: 0.6187 | Validation F1-Macro: 0.4007\n",
            ".........................................................................................\n",
            "Epoch 32 | Train Loss: 0.803652 | Train Acc: 0.6134 | Train F1-Macro: 0.5377\n",
            "Epoch 32 | Validation Loss: 0.644174 | Validation Acc: 0.6148 | Validation F1-Macro: 0.3990\n",
            ".........................................................................................\n",
            "Epoch 33 | Train Loss: 0.814593 | Train Acc: 0.6148 | Train F1-Macro: 0.5488\n",
            "Epoch 33 | Validation Loss: 0.645355 | Validation Acc: 0.6187 | Validation F1-Macro: 0.4007\n",
            ".........................................................................................\n",
            "Epoch 34 | Train Loss: 0.831865 | Train Acc: 0.6176 | Train F1-Macro: 0.5459\n",
            "Epoch 34 | Validation Loss: 0.643562 | Validation Acc: 0.6148 | Validation F1-Macro: 0.3990\n",
            ".........................................................................................\n",
            "Epoch 35 | Train Loss: 0.808556 | Train Acc: 0.6067 | Train F1-Macro: 0.5376\n",
            "Epoch 35 | Validation Loss: 0.643530 | Validation Acc: 0.6148 | Validation F1-Macro: 0.3990\n",
            ".........................................................................................\n",
            "Epoch 36 | Train Loss: 0.815104 | Train Acc: 0.6143 | Train F1-Macro: 0.5477\n",
            "Epoch 36 | Validation Loss: 0.643852 | Validation Acc: 0.6187 | Validation F1-Macro: 0.4007\n",
            ".........................................................................................\n",
            "Epoch 37 | Train Loss: 0.813078 | Train Acc: 0.6148 | Train F1-Macro: 0.5465\n",
            "Epoch 37 | Validation Loss: 0.647049 | Validation Acc: 0.6148 | Validation F1-Macro: 0.3900\n",
            ".........................................................................................\n",
            "Epoch 38 | Train Loss: 0.795684 | Train Acc: 0.6238 | Train F1-Macro: 0.5502\n",
            "Epoch 38 | Validation Loss: 0.642859 | Validation Acc: 0.6148 | Validation F1-Macro: 0.3990\n",
            ".........................................................................................\n",
            "Epoch 39 | Train Loss: 0.802901 | Train Acc: 0.6077 | Train F1-Macro: 0.5313\n",
            "Epoch 39 | Validation Loss: 0.642920 | Validation Acc: 0.6148 | Validation F1-Macro: 0.3990\n",
            ".........................................................................................\n",
            "Epoch 40 | Train Loss: 0.787808 | Train Acc: 0.6129 | Train F1-Macro: 0.5386\n",
            "Epoch 40 | Validation Loss: 0.643360 | Validation Acc: 0.6187 | Validation F1-Macro: 0.4007\n",
            ".........................................................................................\n",
            "Epoch 41 | Train Loss: 0.764359 | Train Acc: 0.6157 | Train F1-Macro: 0.5420\n",
            "Epoch 41 | Validation Loss: 0.643487 | Validation Acc: 0.6187 | Validation F1-Macro: 0.4007\n",
            ".........................................................................................\n",
            "Epoch 42 | Train Loss: 0.790128 | Train Acc: 0.6214 | Train F1-Macro: 0.5484\n",
            "Epoch 42 | Validation Loss: 0.642390 | Validation Acc: 0.6187 | Validation F1-Macro: 0.4007\n",
            ".........................................................................................\n",
            "Epoch 43 | Train Loss: 0.776087 | Train Acc: 0.6210 | Train F1-Macro: 0.5516\n",
            "Epoch 43 | Validation Loss: 0.643882 | Validation Acc: 0.6148 | Validation F1-Macro: 0.3900\n",
            ".........................................................................................\n",
            "Epoch 44 | Train Loss: 0.765033 | Train Acc: 0.6224 | Train F1-Macro: 0.5387\n",
            "Epoch 44 | Validation Loss: 0.640262 | Validation Acc: 0.6109 | Validation F1-Macro: 0.3973\n",
            ".........................................................................................\n",
            "Epoch 45 | Train Loss: 0.790619 | Train Acc: 0.6077 | Train F1-Macro: 0.5371\n",
            "Epoch 45 | Validation Loss: 0.641236 | Validation Acc: 0.6187 | Validation F1-Macro: 0.4007\n",
            ".........................................................................................\n",
            "Epoch 46 | Train Loss: 0.762926 | Train Acc: 0.6067 | Train F1-Macro: 0.5331\n",
            "Epoch 46 | Validation Loss: 0.641346 | Validation Acc: 0.6187 | Validation F1-Macro: 0.4007\n",
            ".........................................................................................\n",
            "Epoch 47 | Train Loss: 0.756349 | Train Acc: 0.6195 | Train F1-Macro: 0.5401\n",
            "Epoch 47 | Validation Loss: 0.640663 | Validation Acc: 0.6187 | Validation F1-Macro: 0.4007\n",
            ".........................................................................................\n",
            "Epoch 48 | Train Loss: 0.739139 | Train Acc: 0.6243 | Train F1-Macro: 0.5530\n",
            "Epoch 48 | Validation Loss: 0.641419 | Validation Acc: 0.6187 | Validation F1-Macro: 0.4007\n",
            ".........................................................................................\n",
            "Epoch 49 | Train Loss: 0.742151 | Train Acc: 0.6276 | Train F1-Macro: 0.5575\n",
            "Epoch 49 | Validation Loss: 0.641563 | Validation Acc: 0.6187 | Validation F1-Macro: 0.4007\n",
            ".........................................................................................\n",
            "Epoch 50 | Train Loss: 0.729089 | Train Acc: 0.6361 | Train F1-Macro: 0.5608\n",
            "Epoch 50 | Validation Loss: 0.639878 | Validation Acc: 0.6187 | Validation F1-Macro: 0.4007\n",
            ".........................................................................................\n",
            "Test Accuracy: 0.6092\n",
            "Test F1-Macro: 0.3938\n"
          ]
        }
      ]
    },
    {
      "cell_type": "code",
      "source": [
        "train_obj = Train(embed_dim=300, pretrained_embeddings=True, epoch=50, lr=0.001, dropout=0.2, weight_decay=0.000001, filter_sizes=[3, 3, 4, 5], num_filters=[100, 100, 100, 100])\n",
        "model = train_obj.train_model(device, train_dataloader, val_dataloader)\n",
        "test_model(model, device, test_dataloader)"
      ],
      "metadata": {
        "colab": {
          "base_uri": "https://localhost:8080/"
        },
        "id": "zTgVCeEsuWlT",
        "outputId": "9380dcfe-00ff-4067-8fc1-bf849b4667e2"
      },
      "execution_count": null,
      "outputs": [
        {
          "output_type": "stream",
          "name": "stdout",
          "text": [
            "using pretrained embedding\n",
            "Start training...\n",
            "\n",
            "Epoch  1 | Train Loss: 0.793977 | Train Acc: 0.5721 | Train F1-Macro: 0.4798\n",
            "Epoch  1 | Validation Loss: 0.646192 | Validation Acc: 0.6226 | Validation F1-Macro: 0.4873\n",
            ".........................................................................................\n",
            "Epoch  2 | Train Loss: 0.747948 | Train Acc: 0.6139 | Train F1-Macro: 0.5240\n",
            "Epoch  2 | Validation Loss: 0.637351 | Validation Acc: 0.6304 | Validation F1-Macro: 0.4806\n",
            ".........................................................................................\n",
            "Epoch  3 | Train Loss: 0.716448 | Train Acc: 0.6191 | Train F1-Macro: 0.5306\n",
            "Epoch  3 | Validation Loss: 0.640571 | Validation Acc: 0.6265 | Validation F1-Macro: 0.4782\n",
            ".........................................................................................\n",
            "Epoch  4 | Train Loss: 0.704576 | Train Acc: 0.6314 | Train F1-Macro: 0.5458\n",
            "Epoch  4 | Validation Loss: 0.639983 | Validation Acc: 0.6304 | Validation F1-Macro: 0.4806\n",
            ".........................................................................................\n",
            "Epoch  5 | Train Loss: 0.665839 | Train Acc: 0.6447 | Train F1-Macro: 0.5581\n",
            "Epoch  5 | Validation Loss: 0.637848 | Validation Acc: 0.6265 | Validation F1-Macro: 0.4720\n",
            ".........................................................................................\n",
            "Epoch  6 | Train Loss: 0.661234 | Train Acc: 0.6499 | Train F1-Macro: 0.5706\n",
            "Epoch  6 | Validation Loss: 0.636620 | Validation Acc: 0.6226 | Validation F1-Macro: 0.4276\n",
            ".........................................................................................\n",
            "Epoch  7 | Train Loss: 0.647739 | Train Acc: 0.6618 | Train F1-Macro: 0.5753\n",
            "Epoch  7 | Validation Loss: 0.643169 | Validation Acc: 0.6265 | Validation F1-Macro: 0.4041\n",
            ".........................................................................................\n",
            "Epoch  8 | Train Loss: 0.621445 | Train Acc: 0.6717 | Train F1-Macro: 0.5889\n",
            "Epoch  8 | Validation Loss: 0.639847 | Validation Acc: 0.6226 | Validation F1-Macro: 0.4567\n",
            ".........................................................................................\n",
            "Epoch  9 | Train Loss: 0.616357 | Train Acc: 0.6675 | Train F1-Macro: 0.5838\n",
            "Epoch  9 | Validation Loss: 0.655422 | Validation Acc: 0.6109 | Validation F1-Macro: 0.5001\n",
            ".........................................................................................\n",
            "Epoch 10 | Train Loss: 0.598461 | Train Acc: 0.6879 | Train F1-Macro: 0.6124\n",
            "Epoch 10 | Validation Loss: 0.664959 | Validation Acc: 0.6226 | Validation F1-Macro: 0.3932\n",
            ".........................................................................................\n",
            "Epoch 11 | Train Loss: 0.589760 | Train Acc: 0.6898 | Train F1-Macro: 0.6119\n",
            "Epoch 11 | Validation Loss: 0.642690 | Validation Acc: 0.6226 | Validation F1-Macro: 0.4498\n",
            ".........................................................................................\n",
            "Epoch 12 | Train Loss: 0.587068 | Train Acc: 0.6912 | Train F1-Macro: 0.6171\n",
            "Epoch 12 | Validation Loss: 0.642765 | Validation Acc: 0.6187 | Validation F1-Macro: 0.4406\n",
            ".........................................................................................\n",
            "Epoch 13 | Train Loss: 0.568691 | Train Acc: 0.7120 | Train F1-Macro: 0.6392\n",
            "Epoch 13 | Validation Loss: 0.642275 | Validation Acc: 0.6226 | Validation F1-Macro: 0.4195\n",
            ".........................................................................................\n",
            "Epoch 14 | Train Loss: 0.562341 | Train Acc: 0.7234 | Train F1-Macro: 0.6561\n",
            "Epoch 14 | Validation Loss: 0.648171 | Validation Acc: 0.6226 | Validation F1-Macro: 0.4111\n",
            ".........................................................................................\n",
            "Epoch 15 | Train Loss: 0.559678 | Train Acc: 0.7120 | Train F1-Macro: 0.6400\n",
            "Epoch 15 | Validation Loss: 0.644330 | Validation Acc: 0.6187 | Validation F1-Macro: 0.4176\n",
            ".........................................................................................\n",
            "Epoch 16 | Train Loss: 0.549814 | Train Acc: 0.7215 | Train F1-Macro: 0.6572\n",
            "Epoch 16 | Validation Loss: 0.656880 | Validation Acc: 0.6265 | Validation F1-Macro: 0.4041\n",
            ".........................................................................................\n",
            "Epoch 17 | Train Loss: 0.539605 | Train Acc: 0.7362 | Train F1-Macro: 0.6694\n",
            "Epoch 17 | Validation Loss: 0.648449 | Validation Acc: 0.6187 | Validation F1-Macro: 0.4093\n",
            ".........................................................................................\n",
            "Epoch 18 | Train Loss: 0.526363 | Train Acc: 0.7405 | Train F1-Macro: 0.6796\n",
            "Epoch 18 | Validation Loss: 0.647476 | Validation Acc: 0.6187 | Validation F1-Macro: 0.4176\n",
            ".........................................................................................\n",
            "Epoch 19 | Train Loss: 0.524357 | Train Acc: 0.7386 | Train F1-Macro: 0.6753\n",
            "Epoch 19 | Validation Loss: 0.651095 | Validation Acc: 0.6148 | Validation F1-Macro: 0.4075\n",
            ".........................................................................................\n",
            "Epoch 20 | Train Loss: 0.516132 | Train Acc: 0.7543 | Train F1-Macro: 0.6923\n",
            "Epoch 20 | Validation Loss: 0.652318 | Validation Acc: 0.6148 | Validation F1-Macro: 0.4075\n",
            ".........................................................................................\n",
            "Epoch 21 | Train Loss: 0.499164 | Train Acc: 0.7685 | Train F1-Macro: 0.7140\n",
            "Epoch 21 | Validation Loss: 0.676366 | Validation Acc: 0.6265 | Validation F1-Macro: 0.3948\n",
            ".........................................................................................\n",
            "Epoch 22 | Train Loss: 0.506125 | Train Acc: 0.7538 | Train F1-Macro: 0.6976\n",
            "Epoch 22 | Validation Loss: 0.651957 | Validation Acc: 0.6148 | Validation F1-Macro: 0.4158\n",
            ".........................................................................................\n",
            "Epoch 23 | Train Loss: 0.493122 | Train Acc: 0.7628 | Train F1-Macro: 0.7082\n",
            "Epoch 23 | Validation Loss: 0.664690 | Validation Acc: 0.6148 | Validation F1-Macro: 0.3900\n",
            ".........................................................................................\n",
            "Epoch 24 | Train Loss: 0.472850 | Train Acc: 0.7799 | Train F1-Macro: 0.7297\n",
            "Epoch 24 | Validation Loss: 0.658386 | Validation Acc: 0.6226 | Validation F1-Macro: 0.4111\n",
            ".........................................................................................\n",
            "Epoch 25 | Train Loss: 0.487001 | Train Acc: 0.7732 | Train F1-Macro: 0.7210\n",
            "Epoch 25 | Validation Loss: 0.655680 | Validation Acc: 0.6148 | Validation F1-Macro: 0.4158\n",
            ".........................................................................................\n",
            "Epoch 26 | Train Loss: 0.479200 | Train Acc: 0.7756 | Train F1-Macro: 0.7249\n",
            "Epoch 26 | Validation Loss: 0.677211 | Validation Acc: 0.6187 | Validation F1-Macro: 0.3916\n",
            ".........................................................................................\n",
            "Epoch 27 | Train Loss: 0.463597 | Train Acc: 0.7789 | Train F1-Macro: 0.7312\n",
            "Epoch 27 | Validation Loss: 0.656260 | Validation Acc: 0.6187 | Validation F1-Macro: 0.4256\n",
            ".........................................................................................\n",
            "Epoch 28 | Train Loss: 0.461328 | Train Acc: 0.7917 | Train F1-Macro: 0.7449\n",
            "Epoch 28 | Validation Loss: 0.667313 | Validation Acc: 0.6187 | Validation F1-Macro: 0.4007\n",
            ".........................................................................................\n",
            "Epoch 29 | Train Loss: 0.468604 | Train Acc: 0.7785 | Train F1-Macro: 0.7318\n",
            "Epoch 29 | Validation Loss: 0.667051 | Validation Acc: 0.6187 | Validation F1-Macro: 0.4007\n",
            ".........................................................................................\n",
            "Epoch 30 | Train Loss: 0.448227 | Train Acc: 0.7989 | Train F1-Macro: 0.7550\n",
            "Epoch 30 | Validation Loss: 0.665512 | Validation Acc: 0.6187 | Validation F1-Macro: 0.4007\n",
            ".........................................................................................\n",
            "Epoch 31 | Train Loss: 0.445463 | Train Acc: 0.7970 | Train F1-Macro: 0.7536\n",
            "Epoch 31 | Validation Loss: 0.670264 | Validation Acc: 0.5992 | Validation F1-Macro: 0.4875\n",
            ".........................................................................................\n",
            "Epoch 32 | Train Loss: 0.439331 | Train Acc: 0.7970 | Train F1-Macro: 0.7553\n",
            "Epoch 32 | Validation Loss: 0.661762 | Validation Acc: 0.6031 | Validation F1-Macro: 0.4638\n",
            ".........................................................................................\n",
            "Epoch 33 | Train Loss: 0.436809 | Train Acc: 0.8022 | Train F1-Macro: 0.7632\n",
            "Epoch 33 | Validation Loss: 0.658250 | Validation Acc: 0.6109 | Validation F1-Macro: 0.4364\n",
            ".........................................................................................\n",
            "Epoch 34 | Train Loss: 0.406716 | Train Acc: 0.8197 | Train F1-Macro: 0.7841\n",
            "Epoch 34 | Validation Loss: 0.661149 | Validation Acc: 0.6031 | Validation F1-Macro: 0.4638\n",
            ".........................................................................................\n",
            "Epoch 35 | Train Loss: 0.420533 | Train Acc: 0.8145 | Train F1-Macro: 0.7788\n",
            "Epoch 35 | Validation Loss: 0.659418 | Validation Acc: 0.6070 | Validation F1-Macro: 0.4343\n",
            ".........................................................................................\n",
            "Epoch 36 | Train Loss: 0.407847 | Train Acc: 0.8226 | Train F1-Macro: 0.7875\n",
            "Epoch 36 | Validation Loss: 0.685521 | Validation Acc: 0.6187 | Validation F1-Macro: 0.3916\n",
            ".........................................................................................\n",
            "Epoch 37 | Train Loss: 0.417790 | Train Acc: 0.8069 | Train F1-Macro: 0.7689\n",
            "Epoch 37 | Validation Loss: 0.661470 | Validation Acc: 0.6070 | Validation F1-Macro: 0.4197\n",
            ".........................................................................................\n",
            "Epoch 38 | Train Loss: 0.395723 | Train Acc: 0.8311 | Train F1-Macro: 0.7998\n",
            "Epoch 38 | Validation Loss: 0.662999 | Validation Acc: 0.6109 | Validation F1-Macro: 0.4292\n",
            ".........................................................................................\n",
            "Epoch 39 | Train Loss: 0.398656 | Train Acc: 0.8278 | Train F1-Macro: 0.7943\n",
            "Epoch 39 | Validation Loss: 0.665745 | Validation Acc: 0.6109 | Validation F1-Macro: 0.4217\n",
            ".........................................................................................\n",
            "Epoch 40 | Train Loss: 0.397320 | Train Acc: 0.8287 | Train F1-Macro: 0.7963\n",
            "Epoch 40 | Validation Loss: 0.664936 | Validation Acc: 0.6109 | Validation F1-Macro: 0.4564\n",
            ".........................................................................................\n",
            "Epoch 41 | Train Loss: 0.386383 | Train Acc: 0.8354 | Train F1-Macro: 0.8021\n",
            "Epoch 41 | Validation Loss: 0.675026 | Validation Acc: 0.6187 | Validation F1-Macro: 0.4007\n",
            ".........................................................................................\n",
            "Epoch 42 | Train Loss: 0.371451 | Train Acc: 0.8411 | Train F1-Macro: 0.8127\n",
            "Epoch 42 | Validation Loss: 0.692853 | Validation Acc: 0.6187 | Validation F1-Macro: 0.4007\n",
            ".........................................................................................\n",
            "Epoch 43 | Train Loss: 0.370117 | Train Acc: 0.8411 | Train F1-Macro: 0.8107\n",
            "Epoch 43 | Validation Loss: 0.666682 | Validation Acc: 0.6070 | Validation F1-Macro: 0.4478\n",
            ".........................................................................................\n",
            "Epoch 44 | Train Loss: 0.369985 | Train Acc: 0.8430 | Train F1-Macro: 0.8138\n",
            "Epoch 44 | Validation Loss: 0.671634 | Validation Acc: 0.6148 | Validation F1-Macro: 0.4385\n",
            ".........................................................................................\n",
            "Epoch 45 | Train Loss: 0.365199 | Train Acc: 0.8397 | Train F1-Macro: 0.8104\n",
            "Epoch 45 | Validation Loss: 0.678149 | Validation Acc: 0.6148 | Validation F1-Macro: 0.4158\n",
            ".........................................................................................\n",
            "Epoch 46 | Train Loss: 0.350749 | Train Acc: 0.8648 | Train F1-Macro: 0.8416\n",
            "Epoch 46 | Validation Loss: 0.670407 | Validation Acc: 0.6109 | Validation F1-Macro: 0.4433\n",
            ".........................................................................................\n",
            "Epoch 47 | Train Loss: 0.351641 | Train Acc: 0.8548 | Train F1-Macro: 0.8287\n",
            "Epoch 47 | Validation Loss: 0.685365 | Validation Acc: 0.6109 | Validation F1-Macro: 0.3973\n",
            ".........................................................................................\n",
            "Epoch 48 | Train Loss: 0.339074 | Train Acc: 0.8662 | Train F1-Macro: 0.8437\n",
            "Epoch 48 | Validation Loss: 0.694026 | Validation Acc: 0.6148 | Validation F1-Macro: 0.3990\n",
            ".........................................................................................\n",
            "Epoch 49 | Train Loss: 0.331347 | Train Acc: 0.8719 | Train F1-Macro: 0.8499\n",
            "Epoch 49 | Validation Loss: 0.696739 | Validation Acc: 0.6148 | Validation F1-Macro: 0.3990\n",
            ".........................................................................................\n",
            "Epoch 50 | Train Loss: 0.337873 | Train Acc: 0.8681 | Train F1-Macro: 0.8463\n",
            "Epoch 50 | Validation Loss: 0.697625 | Validation Acc: 0.6148 | Validation F1-Macro: 0.3990\n",
            ".........................................................................................\n",
            "Test Accuracy: 0.6124\n",
            "Test F1-Macro: 0.4185\n"
          ]
        }
      ]
    },
    {
      "cell_type": "code",
      "source": [
        "train_obj = Train(embed_dim=50, pretrained_embeddings=True, epoch=50, lr=0.0001, dropout=0.2, weight_decay=0.00001, filter_sizes=[3, 3, 4, 5], num_filters=[150, 150, 150, 150])\n",
        "model = train_obj.train_model(device, train_dataloader, val_dataloader)\n",
        "test_model(model, device, test_dataloader)"
      ],
      "metadata": {
        "colab": {
          "base_uri": "https://localhost:8080/"
        },
        "id": "gNFIFcqpuXQe",
        "outputId": "2d540f8b-6caa-4941-a62e-bd8e80e50657"
      },
      "execution_count": null,
      "outputs": [
        {
          "output_type": "stream",
          "name": "stdout",
          "text": [
            "using pretrained embedding\n"
          ]
        },
        {
          "output_type": "stream",
          "name": "stderr",
          "text": [
            "100%|█████████▉| 399999/400000 [00:16<00:00, 24436.29it/s]\n"
          ]
        },
        {
          "output_type": "stream",
          "name": "stdout",
          "text": [
            "Start training...\n",
            "\n",
            "Epoch  1 | Train Loss: 0.886553 | Train Acc: 0.5266 | Train F1-Macro: 0.4964\n",
            "Epoch  1 | Validation Loss: 0.626182 | Validation Acc: 0.5914 | Validation F1-Macro: 0.4869\n",
            ".........................................................................................\n",
            "Epoch  2 | Train Loss: 0.776680 | Train Acc: 0.5844 | Train F1-Macro: 0.4991\n",
            "Epoch  2 | Validation Loss: 0.618973 | Validation Acc: 0.6148 | Validation F1-Macro: 0.4385\n",
            ".........................................................................................\n",
            "Epoch  3 | Train Loss: 0.791739 | Train Acc: 0.5968 | Train F1-Macro: 0.5074\n",
            "Epoch  3 | Validation Loss: 0.618992 | Validation Acc: 0.6109 | Validation F1-Macro: 0.4364\n",
            ".........................................................................................\n",
            "Epoch  4 | Train Loss: 0.761243 | Train Acc: 0.5935 | Train F1-Macro: 0.5045\n",
            "Epoch  4 | Validation Loss: 0.618871 | Validation Acc: 0.6148 | Validation F1-Macro: 0.4455\n",
            ".........................................................................................\n",
            "Epoch  5 | Train Loss: 0.782806 | Train Acc: 0.5854 | Train F1-Macro: 0.4925\n",
            "Epoch  5 | Validation Loss: 0.619131 | Validation Acc: 0.6148 | Validation F1-Macro: 0.4455\n",
            ".........................................................................................\n",
            "Epoch  6 | Train Loss: 0.778142 | Train Acc: 0.5854 | Train F1-Macro: 0.4964\n",
            "Epoch  6 | Validation Loss: 0.618920 | Validation Acc: 0.6187 | Validation F1-Macro: 0.4545\n",
            ".........................................................................................\n",
            "Epoch  7 | Train Loss: 0.762645 | Train Acc: 0.6010 | Train F1-Macro: 0.5119\n",
            "Epoch  7 | Validation Loss: 0.619172 | Validation Acc: 0.6109 | Validation F1-Macro: 0.4364\n",
            ".........................................................................................\n",
            "Epoch  8 | Train Loss: 0.757887 | Train Acc: 0.6067 | Train F1-Macro: 0.5130\n",
            "Epoch  8 | Validation Loss: 0.618591 | Validation Acc: 0.6148 | Validation F1-Macro: 0.4455\n",
            ".........................................................................................\n",
            "Epoch  9 | Train Loss: 0.759966 | Train Acc: 0.6058 | Train F1-Macro: 0.5133\n",
            "Epoch  9 | Validation Loss: 0.618710 | Validation Acc: 0.6187 | Validation F1-Macro: 0.4545\n",
            ".........................................................................................\n",
            "Epoch 10 | Train Loss: 0.775529 | Train Acc: 0.5958 | Train F1-Macro: 0.5086\n",
            "Epoch 10 | Validation Loss: 0.618344 | Validation Acc: 0.6148 | Validation F1-Macro: 0.4385\n",
            ".........................................................................................\n",
            "Epoch 11 | Train Loss: 0.766862 | Train Acc: 0.5958 | Train F1-Macro: 0.5105\n",
            "Epoch 11 | Validation Loss: 0.618358 | Validation Acc: 0.6148 | Validation F1-Macro: 0.4385\n",
            ".........................................................................................\n",
            "Epoch 12 | Train Loss: 0.767282 | Train Acc: 0.5821 | Train F1-Macro: 0.4926\n",
            "Epoch 12 | Validation Loss: 0.619165 | Validation Acc: 0.6187 | Validation F1-Macro: 0.4333\n",
            ".........................................................................................\n",
            "Epoch 13 | Train Loss: 0.752966 | Train Acc: 0.5963 | Train F1-Macro: 0.5118\n",
            "Epoch 13 | Validation Loss: 0.619311 | Validation Acc: 0.6187 | Validation F1-Macro: 0.4333\n",
            ".........................................................................................\n",
            "Epoch 14 | Train Loss: 0.760359 | Train Acc: 0.6006 | Train F1-Macro: 0.5139\n",
            "Epoch 14 | Validation Loss: 0.618223 | Validation Acc: 0.6226 | Validation F1-Macro: 0.4427\n",
            ".........................................................................................\n",
            "Epoch 15 | Train Loss: 0.778490 | Train Acc: 0.5991 | Train F1-Macro: 0.5162\n",
            "Epoch 15 | Validation Loss: 0.619517 | Validation Acc: 0.6148 | Validation F1-Macro: 0.4236\n",
            ".........................................................................................\n",
            "Epoch 16 | Train Loss: 0.740465 | Train Acc: 0.6020 | Train F1-Macro: 0.5061\n",
            "Epoch 16 | Validation Loss: 0.618611 | Validation Acc: 0.6187 | Validation F1-Macro: 0.4333\n",
            ".........................................................................................\n",
            "Epoch 17 | Train Loss: 0.764531 | Train Acc: 0.6105 | Train F1-Macro: 0.5156\n",
            "Epoch 17 | Validation Loss: 0.618321 | Validation Acc: 0.6148 | Validation F1-Macro: 0.4522\n",
            ".........................................................................................\n",
            "Epoch 18 | Train Loss: 0.753978 | Train Acc: 0.5987 | Train F1-Macro: 0.5121\n",
            "Epoch 18 | Validation Loss: 0.618387 | Validation Acc: 0.6148 | Validation F1-Macro: 0.4522\n",
            ".........................................................................................\n",
            "Epoch 19 | Train Loss: 0.725388 | Train Acc: 0.6191 | Train F1-Macro: 0.5402\n",
            "Epoch 19 | Validation Loss: 0.620705 | Validation Acc: 0.6109 | Validation F1-Macro: 0.4058\n",
            ".........................................................................................\n",
            "Epoch 20 | Train Loss: 0.762725 | Train Acc: 0.5963 | Train F1-Macro: 0.4953\n",
            "Epoch 20 | Validation Loss: 0.617882 | Validation Acc: 0.6187 | Validation F1-Macro: 0.4545\n",
            ".........................................................................................\n",
            "Epoch 21 | Train Loss: 0.749610 | Train Acc: 0.5920 | Train F1-Macro: 0.5006\n",
            "Epoch 21 | Validation Loss: 0.617842 | Validation Acc: 0.6148 | Validation F1-Macro: 0.4385\n",
            ".........................................................................................\n",
            "Epoch 22 | Train Loss: 0.757751 | Train Acc: 0.5916 | Train F1-Macro: 0.5032\n",
            "Epoch 22 | Validation Loss: 0.617690 | Validation Acc: 0.6148 | Validation F1-Macro: 0.4455\n",
            ".........................................................................................\n",
            "Epoch 23 | Train Loss: 0.735998 | Train Acc: 0.6124 | Train F1-Macro: 0.5249\n",
            "Epoch 23 | Validation Loss: 0.617982 | Validation Acc: 0.6187 | Validation F1-Macro: 0.4545\n",
            ".........................................................................................\n",
            "Epoch 24 | Train Loss: 0.753496 | Train Acc: 0.6015 | Train F1-Macro: 0.5122\n",
            "Epoch 24 | Validation Loss: 0.617672 | Validation Acc: 0.6109 | Validation F1-Macro: 0.4364\n",
            ".........................................................................................\n",
            "Epoch 25 | Train Loss: 0.758260 | Train Acc: 0.6139 | Train F1-Macro: 0.5324\n",
            "Epoch 25 | Validation Loss: 0.618527 | Validation Acc: 0.6109 | Validation F1-Macro: 0.4217\n",
            ".........................................................................................\n",
            "Epoch 26 | Train Loss: 0.749580 | Train Acc: 0.6077 | Train F1-Macro: 0.5219\n",
            "Epoch 26 | Validation Loss: 0.618646 | Validation Acc: 0.6148 | Validation F1-Macro: 0.4236\n",
            ".........................................................................................\n",
            "Epoch 27 | Train Loss: 0.742450 | Train Acc: 0.6153 | Train F1-Macro: 0.5205\n",
            "Epoch 27 | Validation Loss: 0.619551 | Validation Acc: 0.6187 | Validation F1-Macro: 0.4734\n",
            ".........................................................................................\n",
            "Epoch 28 | Train Loss: 0.732677 | Train Acc: 0.6105 | Train F1-Macro: 0.5308\n",
            "Epoch 28 | Validation Loss: 0.619759 | Validation Acc: 0.6109 | Validation F1-Macro: 0.4139\n",
            ".........................................................................................\n",
            "Epoch 29 | Train Loss: 0.722497 | Train Acc: 0.6091 | Train F1-Macro: 0.5239\n",
            "Epoch 29 | Validation Loss: 0.620147 | Validation Acc: 0.6070 | Validation F1-Macro: 0.4040\n",
            ".........................................................................................\n",
            "Epoch 30 | Train Loss: 0.743708 | Train Acc: 0.6153 | Train F1-Macro: 0.5127\n",
            "Epoch 30 | Validation Loss: 0.619041 | Validation Acc: 0.6187 | Validation F1-Macro: 0.4673\n",
            ".........................................................................................\n",
            "Epoch 31 | Train Loss: 0.743240 | Train Acc: 0.5991 | Train F1-Macro: 0.5143\n",
            "Epoch 31 | Validation Loss: 0.618595 | Validation Acc: 0.6109 | Validation F1-Macro: 0.4139\n",
            ".........................................................................................\n",
            "Epoch 32 | Train Loss: 0.725555 | Train Acc: 0.6077 | Train F1-Macro: 0.5136\n",
            "Epoch 32 | Validation Loss: 0.618869 | Validation Acc: 0.6109 | Validation F1-Macro: 0.4139\n",
            ".........................................................................................\n",
            "Epoch 33 | Train Loss: 0.741770 | Train Acc: 0.6101 | Train F1-Macro: 0.5168\n",
            "Epoch 33 | Validation Loss: 0.617580 | Validation Acc: 0.6187 | Validation F1-Macro: 0.4545\n",
            ".........................................................................................\n",
            "Epoch 34 | Train Loss: 0.734015 | Train Acc: 0.6134 | Train F1-Macro: 0.5260\n",
            "Epoch 34 | Validation Loss: 0.617586 | Validation Acc: 0.6031 | Validation F1-Macro: 0.4101\n",
            ".........................................................................................\n",
            "Epoch 35 | Train Loss: 0.731278 | Train Acc: 0.6143 | Train F1-Macro: 0.5281\n",
            "Epoch 35 | Validation Loss: 0.619374 | Validation Acc: 0.6109 | Validation F1-Macro: 0.4139\n",
            ".........................................................................................\n",
            "Epoch 36 | Train Loss: 0.708355 | Train Acc: 0.6257 | Train F1-Macro: 0.5374\n",
            "Epoch 36 | Validation Loss: 0.617946 | Validation Acc: 0.6031 | Validation F1-Macro: 0.4101\n",
            ".........................................................................................\n",
            "Epoch 37 | Train Loss: 0.725901 | Train Acc: 0.6224 | Train F1-Macro: 0.5326\n",
            "Epoch 37 | Validation Loss: 0.618415 | Validation Acc: 0.6070 | Validation F1-Macro: 0.4120\n",
            ".........................................................................................\n",
            "Epoch 38 | Train Loss: 0.714723 | Train Acc: 0.6224 | Train F1-Macro: 0.5321\n",
            "Epoch 38 | Validation Loss: 0.617489 | Validation Acc: 0.6109 | Validation F1-Macro: 0.4292\n",
            ".........................................................................................\n",
            "Epoch 39 | Train Loss: 0.722924 | Train Acc: 0.6082 | Train F1-Macro: 0.5194\n",
            "Epoch 39 | Validation Loss: 0.618899 | Validation Acc: 0.6109 | Validation F1-Macro: 0.4139\n",
            ".........................................................................................\n",
            "Epoch 40 | Train Loss: 0.710250 | Train Acc: 0.6233 | Train F1-Macro: 0.5328\n",
            "Epoch 40 | Validation Loss: 0.618220 | Validation Acc: 0.6070 | Validation F1-Macro: 0.4120\n",
            ".........................................................................................\n",
            "Epoch 41 | Train Loss: 0.716366 | Train Acc: 0.6091 | Train F1-Macro: 0.5196\n",
            "Epoch 41 | Validation Loss: 0.618568 | Validation Acc: 0.6070 | Validation F1-Macro: 0.4120\n",
            ".........................................................................................\n",
            "Epoch 42 | Train Loss: 0.709525 | Train Acc: 0.6361 | Train F1-Macro: 0.5494\n",
            "Epoch 42 | Validation Loss: 0.618479 | Validation Acc: 0.6070 | Validation F1-Macro: 0.4120\n",
            ".........................................................................................\n",
            "Epoch 43 | Train Loss: 0.717208 | Train Acc: 0.6243 | Train F1-Macro: 0.5345\n",
            "Epoch 43 | Validation Loss: 0.619734 | Validation Acc: 0.6187 | Validation F1-Macro: 0.4176\n",
            ".........................................................................................\n",
            "Epoch 44 | Train Loss: 0.705585 | Train Acc: 0.6290 | Train F1-Macro: 0.5384\n",
            "Epoch 44 | Validation Loss: 0.618045 | Validation Acc: 0.6031 | Validation F1-Macro: 0.4101\n",
            ".........................................................................................\n",
            "Epoch 45 | Train Loss: 0.699730 | Train Acc: 0.6252 | Train F1-Macro: 0.5312\n",
            "Epoch 45 | Validation Loss: 0.617557 | Validation Acc: 0.6148 | Validation F1-Macro: 0.4385\n",
            ".........................................................................................\n",
            "Epoch 46 | Train Loss: 0.718898 | Train Acc: 0.6233 | Train F1-Macro: 0.5366\n",
            "Epoch 46 | Validation Loss: 0.617719 | Validation Acc: 0.6031 | Validation F1-Macro: 0.4101\n",
            ".........................................................................................\n",
            "Epoch 47 | Train Loss: 0.698668 | Train Acc: 0.6437 | Train F1-Macro: 0.5615\n",
            "Epoch 47 | Validation Loss: 0.618405 | Validation Acc: 0.6109 | Validation F1-Macro: 0.4139\n",
            ".........................................................................................\n",
            "Epoch 48 | Train Loss: 0.715072 | Train Acc: 0.6286 | Train F1-Macro: 0.5499\n",
            "Epoch 48 | Validation Loss: 0.622509 | Validation Acc: 0.6148 | Validation F1-Macro: 0.3990\n",
            ".........................................................................................\n",
            "Epoch 49 | Train Loss: 0.720844 | Train Acc: 0.6167 | Train F1-Macro: 0.5190\n",
            "Epoch 49 | Validation Loss: 0.618458 | Validation Acc: 0.6109 | Validation F1-Macro: 0.4139\n",
            ".........................................................................................\n",
            "Epoch 50 | Train Loss: 0.691486 | Train Acc: 0.6366 | Train F1-Macro: 0.5525\n",
            "Epoch 50 | Validation Loss: 0.619409 | Validation Acc: 0.6148 | Validation F1-Macro: 0.4158\n",
            ".........................................................................................\n",
            "Test Accuracy: 0.6004\n",
            "Test F1-Macro: 0.4039\n"
          ]
        }
      ]
    },
    {
      "cell_type": "code",
      "source": [
        "train_obj = Train(embed_dim=50, pretrained_embeddings=True, epoch=50, lr=0.0001, dropout=0.2, weight_decay=0.00001, filter_sizes=[3, 4, 5], num_filters=[150, 150, 150])\n",
        "model = train_obj.train_model(device, train_dataloader, val_dataloader)\n",
        "test_model(model, device, test_dataloader)"
      ],
      "metadata": {
        "colab": {
          "base_uri": "https://localhost:8080/"
        },
        "id": "WQQvUb9ouXy-",
        "outputId": "a5d48210-7016-45d0-897e-1d6d31369c52"
      },
      "execution_count": null,
      "outputs": [
        {
          "output_type": "stream",
          "name": "stdout",
          "text": [
            "using pretrained embedding\n",
            "Start training...\n",
            "\n",
            "Epoch  1 | Train Loss: 0.794772 | Train Acc: 0.5527 | Train F1-Macro: 0.4963\n",
            "Epoch  1 | Validation Loss: 0.605483 | Validation Acc: 0.5992 | Validation F1-Macro: 0.4004\n",
            ".........................................................................................\n",
            "Epoch  2 | Train Loss: 0.784155 | Train Acc: 0.5821 | Train F1-Macro: 0.4936\n",
            "Epoch  2 | Validation Loss: 0.618208 | Validation Acc: 0.5953 | Validation F1-Macro: 0.3904\n",
            ".........................................................................................\n",
            "Epoch  3 | Train Loss: 0.767031 | Train Acc: 0.5935 | Train F1-Macro: 0.4923\n",
            "Epoch  3 | Validation Loss: 0.614710 | Validation Acc: 0.5992 | Validation F1-Macro: 0.4082\n",
            ".........................................................................................\n",
            "Epoch  4 | Train Loss: 0.778554 | Train Acc: 0.5816 | Train F1-Macro: 0.4888\n",
            "Epoch  4 | Validation Loss: 0.621688 | Validation Acc: 0.6031 | Validation F1-Macro: 0.3939\n",
            ".........................................................................................\n",
            "Epoch  5 | Train Loss: 0.788128 | Train Acc: 0.5977 | Train F1-Macro: 0.4989\n",
            "Epoch  5 | Validation Loss: 0.614152 | Validation Acc: 0.5914 | Validation F1-Macro: 0.3887\n",
            ".........................................................................................\n",
            "Epoch  6 | Train Loss: 0.786800 | Train Acc: 0.5783 | Train F1-Macro: 0.4793\n",
            "Epoch  6 | Validation Loss: 0.618352 | Validation Acc: 0.6031 | Validation F1-Macro: 0.3939\n",
            ".........................................................................................\n",
            "Epoch  7 | Train Loss: 0.774516 | Train Acc: 0.5783 | Train F1-Macro: 0.4744\n",
            "Epoch  7 | Validation Loss: 0.616222 | Validation Acc: 0.5953 | Validation F1-Macro: 0.3904\n",
            ".........................................................................................\n",
            "Epoch  8 | Train Loss: 0.782312 | Train Acc: 0.5854 | Train F1-Macro: 0.4925\n",
            "Epoch  8 | Validation Loss: 0.618018 | Validation Acc: 0.6031 | Validation F1-Macro: 0.3939\n",
            ".........................................................................................\n",
            "Epoch  9 | Train Loss: 0.766886 | Train Acc: 0.5949 | Train F1-Macro: 0.4938\n",
            "Epoch  9 | Validation Loss: 0.614181 | Validation Acc: 0.5953 | Validation F1-Macro: 0.3904\n",
            ".........................................................................................\n",
            "Epoch 10 | Train Loss: 0.779092 | Train Acc: 0.5897 | Train F1-Macro: 0.4928\n",
            "Epoch 10 | Validation Loss: 0.615839 | Validation Acc: 0.6031 | Validation F1-Macro: 0.3939\n",
            ".........................................................................................\n",
            "Epoch 11 | Train Loss: 0.744881 | Train Acc: 0.6010 | Train F1-Macro: 0.5044\n",
            "Epoch 11 | Validation Loss: 0.612374 | Validation Acc: 0.5992 | Validation F1-Macro: 0.3922\n",
            ".........................................................................................\n",
            "Epoch 12 | Train Loss: 0.751473 | Train Acc: 0.6058 | Train F1-Macro: 0.5167\n",
            "Epoch 12 | Validation Loss: 0.617262 | Validation Acc: 0.6031 | Validation F1-Macro: 0.3939\n",
            ".........................................................................................\n",
            "Epoch 13 | Train Loss: 0.774395 | Train Acc: 0.5987 | Train F1-Macro: 0.4969\n",
            "Epoch 13 | Validation Loss: 0.613643 | Validation Acc: 0.6031 | Validation F1-Macro: 0.3939\n",
            ".........................................................................................\n",
            "Epoch 14 | Train Loss: 0.756059 | Train Acc: 0.5939 | Train F1-Macro: 0.5004\n",
            "Epoch 14 | Validation Loss: 0.615953 | Validation Acc: 0.6031 | Validation F1-Macro: 0.3939\n",
            ".........................................................................................\n",
            "Epoch 15 | Train Loss: 0.764932 | Train Acc: 0.6044 | Train F1-Macro: 0.4992\n",
            "Epoch 15 | Validation Loss: 0.610524 | Validation Acc: 0.6031 | Validation F1-Macro: 0.4022\n",
            ".........................................................................................\n",
            "Epoch 16 | Train Loss: 0.735757 | Train Acc: 0.6044 | Train F1-Macro: 0.5118\n",
            "Epoch 16 | Validation Loss: 0.613001 | Validation Acc: 0.6031 | Validation F1-Macro: 0.3939\n",
            ".........................................................................................\n",
            "Epoch 17 | Train Loss: 0.749691 | Train Acc: 0.6058 | Train F1-Macro: 0.5118\n",
            "Epoch 17 | Validation Loss: 0.620345 | Validation Acc: 0.6070 | Validation F1-Macro: 0.3956\n",
            ".........................................................................................\n",
            "Epoch 18 | Train Loss: 0.752274 | Train Acc: 0.6120 | Train F1-Macro: 0.5099\n",
            "Epoch 18 | Validation Loss: 0.615487 | Validation Acc: 0.6031 | Validation F1-Macro: 0.3939\n",
            ".........................................................................................\n",
            "Epoch 19 | Train Loss: 0.742088 | Train Acc: 0.6115 | Train F1-Macro: 0.5117\n",
            "Epoch 19 | Validation Loss: 0.613689 | Validation Acc: 0.6031 | Validation F1-Macro: 0.3939\n",
            ".........................................................................................\n",
            "Epoch 20 | Train Loss: 0.747207 | Train Acc: 0.5987 | Train F1-Macro: 0.5006\n",
            "Epoch 20 | Validation Loss: 0.615190 | Validation Acc: 0.6070 | Validation F1-Macro: 0.3956\n",
            ".........................................................................................\n",
            "Epoch 21 | Train Loss: 0.741520 | Train Acc: 0.6091 | Train F1-Macro: 0.5084\n",
            "Epoch 21 | Validation Loss: 0.609823 | Validation Acc: 0.6031 | Validation F1-Macro: 0.3939\n",
            ".........................................................................................\n",
            "Epoch 22 | Train Loss: 0.749276 | Train Acc: 0.5996 | Train F1-Macro: 0.5074\n",
            "Epoch 22 | Validation Loss: 0.620590 | Validation Acc: 0.6031 | Validation F1-Macro: 0.3762\n",
            ".........................................................................................\n",
            "Epoch 23 | Train Loss: 0.740623 | Train Acc: 0.6148 | Train F1-Macro: 0.5129\n",
            "Epoch 23 | Validation Loss: 0.612977 | Validation Acc: 0.6070 | Validation F1-Macro: 0.3956\n",
            ".........................................................................................\n",
            "Epoch 24 | Train Loss: 0.735321 | Train Acc: 0.6129 | Train F1-Macro: 0.5142\n",
            "Epoch 24 | Validation Loss: 0.608714 | Validation Acc: 0.6031 | Validation F1-Macro: 0.3939\n",
            ".........................................................................................\n",
            "Epoch 25 | Train Loss: 0.734988 | Train Acc: 0.6025 | Train F1-Macro: 0.5124\n",
            "Epoch 25 | Validation Loss: 0.611439 | Validation Acc: 0.6031 | Validation F1-Macro: 0.3939\n",
            ".........................................................................................\n",
            "Epoch 26 | Train Loss: 0.755688 | Train Acc: 0.6096 | Train F1-Macro: 0.5072\n",
            "Epoch 26 | Validation Loss: 0.610284 | Validation Acc: 0.6031 | Validation F1-Macro: 0.3939\n",
            ".........................................................................................\n",
            "Epoch 27 | Train Loss: 0.720217 | Train Acc: 0.6148 | Train F1-Macro: 0.5151\n",
            "Epoch 27 | Validation Loss: 0.610121 | Validation Acc: 0.6031 | Validation F1-Macro: 0.3939\n",
            ".........................................................................................\n",
            "Epoch 28 | Train Loss: 0.751184 | Train Acc: 0.6072 | Train F1-Macro: 0.5039\n",
            "Epoch 28 | Validation Loss: 0.607861 | Validation Acc: 0.6031 | Validation F1-Macro: 0.3939\n",
            ".........................................................................................\n",
            "Epoch 29 | Train Loss: 0.717031 | Train Acc: 0.6233 | Train F1-Macro: 0.5294\n",
            "Epoch 29 | Validation Loss: 0.610586 | Validation Acc: 0.6070 | Validation F1-Macro: 0.3956\n",
            ".........................................................................................\n",
            "Epoch 30 | Train Loss: 0.725051 | Train Acc: 0.6115 | Train F1-Macro: 0.5106\n",
            "Epoch 30 | Validation Loss: 0.611098 | Validation Acc: 0.6031 | Validation F1-Macro: 0.3852\n",
            ".........................................................................................\n",
            "Epoch 31 | Train Loss: 0.728703 | Train Acc: 0.6082 | Train F1-Macro: 0.5051\n",
            "Epoch 31 | Validation Loss: 0.609825 | Validation Acc: 0.6031 | Validation F1-Macro: 0.3852\n",
            ".........................................................................................\n",
            "Epoch 32 | Train Loss: 0.743109 | Train Acc: 0.6039 | Train F1-Macro: 0.5124\n",
            "Epoch 32 | Validation Loss: 0.613591 | Validation Acc: 0.6070 | Validation F1-Macro: 0.3868\n",
            ".........................................................................................\n",
            "Epoch 33 | Train Loss: 0.752566 | Train Acc: 0.6091 | Train F1-Macro: 0.5095\n",
            "Epoch 33 | Validation Loss: 0.607510 | Validation Acc: 0.6031 | Validation F1-Macro: 0.3939\n",
            ".........................................................................................\n",
            "Epoch 34 | Train Loss: 0.735995 | Train Acc: 0.6091 | Train F1-Macro: 0.5131\n",
            "Epoch 34 | Validation Loss: 0.610599 | Validation Acc: 0.6031 | Validation F1-Macro: 0.3852\n",
            ".........................................................................................\n",
            "Epoch 35 | Train Loss: 0.741752 | Train Acc: 0.5991 | Train F1-Macro: 0.4989\n",
            "Epoch 35 | Validation Loss: 0.609332 | Validation Acc: 0.6031 | Validation F1-Macro: 0.3852\n",
            ".........................................................................................\n",
            "Epoch 36 | Train Loss: 0.735470 | Train Acc: 0.6010 | Train F1-Macro: 0.5054\n",
            "Epoch 36 | Validation Loss: 0.612491 | Validation Acc: 0.6070 | Validation F1-Macro: 0.3868\n",
            ".........................................................................................\n",
            "Epoch 37 | Train Loss: 0.727935 | Train Acc: 0.6053 | Train F1-Macro: 0.5053\n",
            "Epoch 37 | Validation Loss: 0.613849 | Validation Acc: 0.6109 | Validation F1-Macro: 0.3884\n",
            ".........................................................................................\n",
            "Epoch 38 | Train Loss: 0.734458 | Train Acc: 0.6162 | Train F1-Macro: 0.5145\n",
            "Epoch 38 | Validation Loss: 0.608054 | Validation Acc: 0.6031 | Validation F1-Macro: 0.3852\n",
            ".........................................................................................\n",
            "Epoch 39 | Train Loss: 0.723308 | Train Acc: 0.6124 | Train F1-Macro: 0.5097\n",
            "Epoch 39 | Validation Loss: 0.613572 | Validation Acc: 0.6109 | Validation F1-Macro: 0.3884\n",
            ".........................................................................................\n",
            "Epoch 40 | Train Loss: 0.727394 | Train Acc: 0.6039 | Train F1-Macro: 0.5064\n",
            "Epoch 40 | Validation Loss: 0.613687 | Validation Acc: 0.6148 | Validation F1-Macro: 0.3900\n",
            ".........................................................................................\n",
            "Epoch 41 | Train Loss: 0.699992 | Train Acc: 0.6224 | Train F1-Macro: 0.5287\n",
            "Epoch 41 | Validation Loss: 0.609841 | Validation Acc: 0.6070 | Validation F1-Macro: 0.3868\n",
            ".........................................................................................\n",
            "Epoch 42 | Train Loss: 0.715572 | Train Acc: 0.6157 | Train F1-Macro: 0.5189\n",
            "Epoch 42 | Validation Loss: 0.608213 | Validation Acc: 0.6070 | Validation F1-Macro: 0.3868\n",
            ".........................................................................................\n",
            "Epoch 43 | Train Loss: 0.709333 | Train Acc: 0.6191 | Train F1-Macro: 0.5121\n",
            "Epoch 43 | Validation Loss: 0.604220 | Validation Acc: 0.5992 | Validation F1-Macro: 0.3836\n",
            ".........................................................................................\n",
            "Epoch 44 | Train Loss: 0.719562 | Train Acc: 0.6124 | Train F1-Macro: 0.5139\n",
            "Epoch 44 | Validation Loss: 0.606281 | Validation Acc: 0.6070 | Validation F1-Macro: 0.3868\n",
            ".........................................................................................\n",
            "Epoch 45 | Train Loss: 0.707055 | Train Acc: 0.6248 | Train F1-Macro: 0.5284\n",
            "Epoch 45 | Validation Loss: 0.609582 | Validation Acc: 0.6070 | Validation F1-Macro: 0.3868\n",
            ".........................................................................................\n",
            "Epoch 46 | Train Loss: 0.716282 | Train Acc: 0.6248 | Train F1-Macro: 0.5248\n",
            "Epoch 46 | Validation Loss: 0.608534 | Validation Acc: 0.6070 | Validation F1-Macro: 0.3868\n",
            ".........................................................................................\n",
            "Epoch 47 | Train Loss: 0.694769 | Train Acc: 0.6295 | Train F1-Macro: 0.5287\n",
            "Epoch 47 | Validation Loss: 0.606508 | Validation Acc: 0.6070 | Validation F1-Macro: 0.3868\n",
            ".........................................................................................\n",
            "Epoch 48 | Train Loss: 0.702463 | Train Acc: 0.6205 | Train F1-Macro: 0.5238\n",
            "Epoch 48 | Validation Loss: 0.613310 | Validation Acc: 0.6148 | Validation F1-Macro: 0.3900\n",
            ".........................................................................................\n",
            "Epoch 49 | Train Loss: 0.713392 | Train Acc: 0.6167 | Train F1-Macro: 0.5169\n",
            "Epoch 49 | Validation Loss: 0.607561 | Validation Acc: 0.6070 | Validation F1-Macro: 0.3868\n",
            ".........................................................................................\n",
            "Epoch 50 | Train Loss: 0.702592 | Train Acc: 0.6300 | Train F1-Macro: 0.5316\n",
            "Epoch 50 | Validation Loss: 0.607872 | Validation Acc: 0.6070 | Validation F1-Macro: 0.3868\n",
            ".........................................................................................\n",
            "Test Accuracy: 0.6059\n",
            "Test F1-Macro: 0.4042\n"
          ]
        }
      ]
    },
    {
      "cell_type": "markdown",
      "source": [
        "### Best Parameter Combination\n",
        "\n",
        "embed_dim=300\n",
        "\n",
        "pretrained_embeddings=True\n",
        "\n",
        "epoch=50\n",
        "\n",
        "lr=0.0001\n",
        "\n",
        "dropout=0.2\n",
        "\n",
        "weight_decay=0.00001\n",
        "\n",
        "filter_sizes=[3, 3, 4, 5]\n",
        "\n",
        "num_filters=[100, 100, 100, 100]"
      ],
      "metadata": {
        "id": "FKFlc1a7ybT8"
      }
    },
    {
      "cell_type": "markdown",
      "source": [
        "## Section 2: Emotional Recognition Model: Anger or Sadness\n",
        "\n",
        "In this section, we will choose data from anger (0) and sadness (3) classes and train a Emotion Recognition model using the best hyperparamters we received in previous section."
      ],
      "metadata": {
        "id": "7XSTH6M8ztXe"
      }
    },
    {
      "cell_type": "code",
      "source": [
        "from sklearn.metrics import f1_score, accuracy_score\n",
        "\n",
        "train_d_as = [data for data, label in zip(train_data, train_labels) if label in ('0', '3')]\n",
        "train_l_as = [label for label in train_labels if label in ('0', '3')]\n",
        "train_l_as = [\"1\" if value == \"3\" else value for value in train_l_as]\n",
        "\n",
        "val_d_as = [data for data, label in zip(val_data, val_labels) if label in ('0', '3')]\n",
        "val_l_as = [label for label in val_labels if label in ('0', '3')]\n",
        "val_l_as = [\"1\" if value == \"3\" else value for value in val_l_as]\n",
        "\n",
        "test_d_as = [data for data, label in zip(test_data, test_labels) if label in ('0', '3')]\n",
        "test_l_as = [label for label in test_labels if label in ('0', '3')]\n",
        "test_l_as = [\"1\" if value == \"3\" else value for value in test_l_as]\n",
        "\n",
        "# tokenizing, encoding, converting to tensors\n",
        "train_id_as, word2idx = get_tokenized_encoded_ids(train_d_as)\n",
        "val_id_as, _ = get_tokenized_encoded_ids(val_d_as)\n",
        "test_id_as, _ = get_tokenized_encoded_ids(test_d_as)\n",
        "\n",
        "# converting labels to tensors\n",
        "train_l_as = get_tensor_labels(train_l_as)\n",
        "val_l_as = get_tensor_labels(val_l_as)\n",
        "test_l_as = get_tensor_labels(test_l_as)\n",
        "\n",
        "# prepare dataloader\n",
        "random_seed = 42\n",
        "train_dataset = TensorDataset(train_id_as, train_l_as)\n",
        "train_sampler = RandomSampler(train_dataset, generator=torch.Generator().manual_seed(random_seed))\n",
        "val_dataset = TensorDataset(val_id_as, val_l_as)\n",
        "test_dataset = TensorDataset(test_id_as, test_l_as)\n",
        "\n",
        "batch_size = 64\n",
        "\n",
        "train_dataloader = DataLoader(train_dataset, sampler=train_sampler, batch_size=batch_size)\n",
        "val_dataloader = DataLoader(val_dataset, batch_size=batch_size)\n",
        "test_dataloader = DataLoader(test_dataset, batch_size=batch_size)"
      ],
      "metadata": {
        "id": "gOuMEJUhvCRo"
      },
      "execution_count": 28,
      "outputs": []
    },
    {
      "cell_type": "code",
      "source": [
        "# train and test the data with best hyperparameter\n",
        "train_obj = Train(embed_dim=300, pretrained_embeddings=True, epoch=50, lr=0.0001, dropout=0.2, weight_decay=0.00001, filter_sizes=[3, 3, 4, 5], num_filters=[100, 100, 100, 100])\n",
        "model = train_obj.train_model(device, train_dataloader, val_dataloader)\n",
        "test_model(model, device, test_dataloader)"
      ],
      "metadata": {
        "colab": {
          "base_uri": "https://localhost:8080/"
        },
        "id": "NgwUeiWEFPib",
        "outputId": "bff6fe20-749e-4a26-a365-d0db050a30a4"
      },
      "execution_count": 29,
      "outputs": [
        {
          "output_type": "stream",
          "name": "stdout",
          "text": [
            "using pretrained embedding\n"
          ]
        },
        {
          "output_type": "stream",
          "name": "stderr",
          "text": [
            ".vector_cache/glove.6B.zip: 862MB [02:39, 5.41MB/s]                           \n",
            "100%|█████████▉| 399999/400000 [00:54<00:00, 7368.57it/s]\n"
          ]
        },
        {
          "output_type": "stream",
          "name": "stdout",
          "text": [
            "Start training...\n",
            "\n",
            "Epoch  1 | Train Loss: 0.814914 | Train Acc: 0.5463 | Train F1-Macro: 0.4882\n",
            "Epoch  1 | Validation Loss: 0.674852 | Validation Acc: 0.6064 | Validation F1-Macro: 0.4738\n",
            ".........................................................................................\n",
            "Epoch  2 | Train Loss: 0.824327 | Train Acc: 0.5326 | Train F1-Macro: 0.4750\n",
            "Epoch  2 | Validation Loss: 0.693759 | Validation Acc: 0.5984 | Validation F1-Macro: 0.4846\n",
            ".........................................................................................\n",
            "Epoch  3 | Train Loss: 0.818627 | Train Acc: 0.5432 | Train F1-Macro: 0.4899\n",
            "Epoch  3 | Validation Loss: 0.694404 | Validation Acc: 0.5984 | Validation F1-Macro: 0.4846\n",
            ".........................................................................................\n",
            "Epoch  4 | Train Loss: 0.810522 | Train Acc: 0.5441 | Train F1-Macro: 0.4935\n",
            "Epoch  4 | Validation Loss: 0.693052 | Validation Acc: 0.5984 | Validation F1-Macro: 0.4688\n",
            ".........................................................................................\n",
            "Epoch  5 | Train Loss: 0.818376 | Train Acc: 0.5419 | Train F1-Macro: 0.4856\n",
            "Epoch  5 | Validation Loss: 0.692074 | Validation Acc: 0.6024 | Validation F1-Macro: 0.4713\n",
            ".........................................................................................\n",
            "Epoch  6 | Train Loss: 0.777655 | Train Acc: 0.5659 | Train F1-Macro: 0.5086\n",
            "Epoch  6 | Validation Loss: 0.694379 | Validation Acc: 0.5984 | Validation F1-Macro: 0.4942\n",
            ".........................................................................................\n",
            "Epoch  7 | Train Loss: 0.801182 | Train Acc: 0.5557 | Train F1-Macro: 0.5022\n",
            "Epoch  7 | Validation Loss: 0.691062 | Validation Acc: 0.5904 | Validation F1-Macro: 0.4637\n",
            ".........................................................................................\n",
            "Epoch  8 | Train Loss: 0.796348 | Train Acc: 0.5641 | Train F1-Macro: 0.5112\n",
            "Epoch  8 | Validation Loss: 0.691442 | Validation Acc: 0.5984 | Validation F1-Macro: 0.4688\n",
            ".........................................................................................\n",
            "Epoch  9 | Train Loss: 0.765635 | Train Acc: 0.5641 | Train F1-Macro: 0.5041\n",
            "Epoch  9 | Validation Loss: 0.689995 | Validation Acc: 0.5904 | Validation F1-Macro: 0.4637\n",
            ".........................................................................................\n",
            "Epoch 10 | Train Loss: 0.774010 | Train Acc: 0.5543 | Train F1-Macro: 0.5031\n",
            "Epoch 10 | Validation Loss: 0.690889 | Validation Acc: 0.6064 | Validation F1-Macro: 0.4738\n",
            ".........................................................................................\n",
            "Epoch 11 | Train Loss: 0.771047 | Train Acc: 0.5703 | Train F1-Macro: 0.5139\n",
            "Epoch 11 | Validation Loss: 0.690079 | Validation Acc: 0.6064 | Validation F1-Macro: 0.4738\n",
            ".........................................................................................\n",
            "Epoch 12 | Train Loss: 0.788164 | Train Acc: 0.5499 | Train F1-Macro: 0.4919\n",
            "Epoch 12 | Validation Loss: 0.689662 | Validation Acc: 0.6064 | Validation F1-Macro: 0.4738\n",
            ".........................................................................................\n",
            "Epoch 13 | Train Loss: 0.766285 | Train Acc: 0.5667 | Train F1-Macro: 0.5148\n",
            "Epoch 13 | Validation Loss: 0.688218 | Validation Acc: 0.6104 | Validation F1-Macro: 0.4705\n",
            ".........................................................................................\n",
            "Epoch 14 | Train Loss: 0.774843 | Train Acc: 0.5627 | Train F1-Macro: 0.5069\n",
            "Epoch 14 | Validation Loss: 0.689237 | Validation Acc: 0.6024 | Validation F1-Macro: 0.4713\n",
            ".........................................................................................\n",
            "Epoch 15 | Train Loss: 0.751917 | Train Acc: 0.5761 | Train F1-Macro: 0.5228\n",
            "Epoch 15 | Validation Loss: 0.688961 | Validation Acc: 0.5863 | Validation F1-Macro: 0.4612\n",
            ".........................................................................................\n",
            "Epoch 16 | Train Loss: 0.743932 | Train Acc: 0.5676 | Train F1-Macro: 0.5154\n",
            "Epoch 16 | Validation Loss: 0.688939 | Validation Acc: 0.5863 | Validation F1-Macro: 0.4612\n",
            ".........................................................................................\n",
            "Epoch 17 | Train Loss: 0.767755 | Train Acc: 0.5729 | Train F1-Macro: 0.5176\n",
            "Epoch 17 | Validation Loss: 0.688112 | Validation Acc: 0.5904 | Validation F1-Macro: 0.4637\n",
            ".........................................................................................\n",
            "Epoch 18 | Train Loss: 0.750994 | Train Acc: 0.5712 | Train F1-Macro: 0.5194\n",
            "Epoch 18 | Validation Loss: 0.687805 | Validation Acc: 0.6145 | Validation F1-Macro: 0.4789\n",
            ".........................................................................................\n",
            "Epoch 19 | Train Loss: 0.760729 | Train Acc: 0.5721 | Train F1-Macro: 0.5159\n",
            "Epoch 19 | Validation Loss: 0.688498 | Validation Acc: 0.5904 | Validation F1-Macro: 0.4793\n",
            ".........................................................................................\n",
            "Epoch 20 | Train Loss: 0.749745 | Train Acc: 0.5672 | Train F1-Macro: 0.5203\n",
            "Epoch 20 | Validation Loss: 0.686681 | Validation Acc: 0.6345 | Validation F1-Macro: 0.4855\n",
            ".........................................................................................\n",
            "Epoch 21 | Train Loss: 0.728600 | Train Acc: 0.5947 | Train F1-Macro: 0.5444\n",
            "Epoch 21 | Validation Loss: 0.687604 | Validation Acc: 0.6426 | Validation F1-Macro: 0.4906\n",
            ".........................................................................................\n",
            "Epoch 22 | Train Loss: 0.748261 | Train Acc: 0.5840 | Train F1-Macro: 0.5247\n",
            "Epoch 22 | Validation Loss: 0.686882 | Validation Acc: 0.5944 | Validation F1-Macro: 0.4717\n",
            ".........................................................................................\n",
            "Epoch 23 | Train Loss: 0.715057 | Train Acc: 0.5823 | Train F1-Macro: 0.5320\n",
            "Epoch 23 | Validation Loss: 0.685938 | Validation Acc: 0.6104 | Validation F1-Macro: 0.4764\n",
            ".........................................................................................\n",
            "Epoch 24 | Train Loss: 0.751025 | Train Acc: 0.5792 | Train F1-Macro: 0.5265\n",
            "Epoch 24 | Validation Loss: 0.685310 | Validation Acc: 0.6386 | Validation F1-Macro: 0.4881\n",
            ".........................................................................................\n",
            "Epoch 25 | Train Loss: 0.728129 | Train Acc: 0.5907 | Train F1-Macro: 0.5354\n",
            "Epoch 25 | Validation Loss: 0.684782 | Validation Acc: 0.6265 | Validation F1-Macro: 0.4805\n",
            ".........................................................................................\n",
            "Epoch 26 | Train Loss: 0.727731 | Train Acc: 0.5991 | Train F1-Macro: 0.5448\n",
            "Epoch 26 | Validation Loss: 0.685036 | Validation Acc: 0.5984 | Validation F1-Macro: 0.4742\n",
            ".........................................................................................\n",
            "Epoch 27 | Train Loss: 0.720632 | Train Acc: 0.5854 | Train F1-Macro: 0.5310\n",
            "Epoch 27 | Validation Loss: 0.685855 | Validation Acc: 0.6386 | Validation F1-Macro: 0.4881\n",
            ".........................................................................................\n",
            "Epoch 28 | Train Loss: 0.719685 | Train Acc: 0.6075 | Train F1-Macro: 0.5539\n",
            "Epoch 28 | Validation Loss: 0.684962 | Validation Acc: 0.6104 | Validation F1-Macro: 0.4764\n",
            ".........................................................................................\n",
            "Epoch 29 | Train Loss: 0.740571 | Train Acc: 0.5752 | Train F1-Macro: 0.5250\n",
            "Epoch 29 | Validation Loss: 0.684052 | Validation Acc: 0.6305 | Validation F1-Macro: 0.4830\n",
            ".........................................................................................\n",
            "Epoch 30 | Train Loss: 0.721588 | Train Acc: 0.5996 | Train F1-Macro: 0.5432\n",
            "Epoch 30 | Validation Loss: 0.684442 | Validation Acc: 0.6104 | Validation F1-Macro: 0.4764\n",
            ".........................................................................................\n",
            "Epoch 31 | Train Loss: 0.712456 | Train Acc: 0.5920 | Train F1-Macro: 0.5383\n",
            "Epoch 31 | Validation Loss: 0.684054 | Validation Acc: 0.6104 | Validation F1-Macro: 0.4764\n",
            ".........................................................................................\n",
            "Epoch 32 | Train Loss: 0.729195 | Train Acc: 0.5827 | Train F1-Macro: 0.5302\n",
            "Epoch 32 | Validation Loss: 0.683478 | Validation Acc: 0.6145 | Validation F1-Macro: 0.4846\n",
            ".........................................................................................\n",
            "Epoch 33 | Train Loss: 0.721145 | Train Acc: 0.5996 | Train F1-Macro: 0.5500\n",
            "Epoch 33 | Validation Loss: 0.683874 | Validation Acc: 0.6104 | Validation F1-Macro: 0.4820\n",
            ".........................................................................................\n",
            "Epoch 34 | Train Loss: 0.728027 | Train Acc: 0.5858 | Train F1-Macro: 0.5363\n",
            "Epoch 34 | Validation Loss: 0.683112 | Validation Acc: 0.6305 | Validation F1-Macro: 0.4830\n",
            ".........................................................................................\n",
            "Epoch 35 | Train Loss: 0.702595 | Train Acc: 0.6075 | Train F1-Macro: 0.5520\n",
            "Epoch 35 | Validation Loss: 0.683958 | Validation Acc: 0.6386 | Validation F1-Macro: 0.4881\n",
            ".........................................................................................\n",
            "Epoch 36 | Train Loss: 0.703508 | Train Acc: 0.6093 | Train F1-Macro: 0.5543\n",
            "Epoch 36 | Validation Loss: 0.682752 | Validation Acc: 0.6104 | Validation F1-Macro: 0.4764\n",
            ".........................................................................................\n",
            "Epoch 37 | Train Loss: 0.711865 | Train Acc: 0.5947 | Train F1-Macro: 0.5375\n",
            "Epoch 37 | Validation Loss: 0.682057 | Validation Acc: 0.6104 | Validation F1-Macro: 0.4764\n",
            ".........................................................................................\n",
            "Epoch 38 | Train Loss: 0.716947 | Train Acc: 0.6058 | Train F1-Macro: 0.5564\n",
            "Epoch 38 | Validation Loss: 0.682293 | Validation Acc: 0.6145 | Validation F1-Macro: 0.4846\n",
            ".........................................................................................\n",
            "Epoch 39 | Train Loss: 0.691837 | Train Acc: 0.6004 | Train F1-Macro: 0.5542\n",
            "Epoch 39 | Validation Loss: 0.683107 | Validation Acc: 0.6386 | Validation F1-Macro: 0.4881\n",
            ".........................................................................................\n",
            "Epoch 40 | Train Loss: 0.710467 | Train Acc: 0.6102 | Train F1-Macro: 0.5541\n",
            "Epoch 40 | Validation Loss: 0.682036 | Validation Acc: 0.6145 | Validation F1-Macro: 0.4846\n",
            ".........................................................................................\n",
            "Epoch 41 | Train Loss: 0.712505 | Train Acc: 0.5911 | Train F1-Macro: 0.5440\n",
            "Epoch 41 | Validation Loss: 0.682687 | Validation Acc: 0.6386 | Validation F1-Macro: 0.4749\n",
            ".........................................................................................\n",
            "Epoch 42 | Train Loss: 0.699443 | Train Acc: 0.6009 | Train F1-Macro: 0.5385\n",
            "Epoch 42 | Validation Loss: 0.680756 | Validation Acc: 0.6145 | Validation F1-Macro: 0.4846\n",
            ".........................................................................................\n",
            "Epoch 43 | Train Loss: 0.696924 | Train Acc: 0.6018 | Train F1-Macro: 0.5536\n",
            "Epoch 43 | Validation Loss: 0.681994 | Validation Acc: 0.6145 | Validation F1-Macro: 0.4846\n",
            ".........................................................................................\n",
            "Epoch 44 | Train Loss: 0.681775 | Train Acc: 0.6111 | Train F1-Macro: 0.5621\n",
            "Epoch 44 | Validation Loss: 0.682062 | Validation Acc: 0.6145 | Validation F1-Macro: 0.4846\n",
            ".........................................................................................\n",
            "Epoch 45 | Train Loss: 0.681949 | Train Acc: 0.6226 | Train F1-Macro: 0.5757\n",
            "Epoch 45 | Validation Loss: 0.680865 | Validation Acc: 0.6345 | Validation F1-Macro: 0.4855\n",
            ".........................................................................................\n",
            "Epoch 46 | Train Loss: 0.699614 | Train Acc: 0.6160 | Train F1-Macro: 0.5675\n",
            "Epoch 46 | Validation Loss: 0.681130 | Validation Acc: 0.6345 | Validation F1-Macro: 0.4855\n",
            ".........................................................................................\n",
            "Epoch 47 | Train Loss: 0.690227 | Train Acc: 0.6080 | Train F1-Macro: 0.5530\n",
            "Epoch 47 | Validation Loss: 0.680830 | Validation Acc: 0.6225 | Validation F1-Macro: 0.4780\n",
            ".........................................................................................\n",
            "Epoch 48 | Train Loss: 0.683300 | Train Acc: 0.6160 | Train F1-Macro: 0.5681\n",
            "Epoch 48 | Validation Loss: 0.681421 | Validation Acc: 0.6305 | Validation F1-Macro: 0.4701\n",
            ".........................................................................................\n",
            "Epoch 49 | Train Loss: 0.671636 | Train Acc: 0.6169 | Train F1-Macro: 0.5667\n",
            "Epoch 49 | Validation Loss: 0.681825 | Validation Acc: 0.6386 | Validation F1-Macro: 0.4749\n",
            ".........................................................................................\n",
            "Epoch 50 | Train Loss: 0.684311 | Train Acc: 0.6124 | Train F1-Macro: 0.5571\n",
            "Epoch 50 | Validation Loss: 0.680393 | Validation Acc: 0.6386 | Validation F1-Macro: 0.4749\n",
            ".........................................................................................\n",
            "Test Accuracy: 0.5894\n",
            "Test F1-Macro: 0.4630\n"
          ]
        }
      ]
    }
  ]
}