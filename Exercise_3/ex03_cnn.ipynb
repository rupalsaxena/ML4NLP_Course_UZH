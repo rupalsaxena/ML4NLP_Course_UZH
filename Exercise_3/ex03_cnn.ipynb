{
  "nbformat": 4,
  "nbformat_minor": 0,
  "metadata": {
    "colab": {
      "provenance": [],
      "gpuType": "T4"
    },
    "kernelspec": {
      "name": "python3",
      "display_name": "Python 3"
    },
    "language_info": {
      "name": "python"
    },
    "accelerator": "GPU"
  },
  "cells": [
    {
      "cell_type": "markdown",
      "source": [
        "# Exercise 3 - Emotion Recognition\n",
        "## Convoluted Feelings\n",
        "\n",
        "\n",
        "### Data\n",
        "For this exercise, you will be working on the Twitter Emotion Recognition task. The goal of this task is to infer the\n",
        "affectual state of a person from their tweet. You will be using the Tweeteval dataset to train your model. You can\n",
        "access the related GitHub repositories from the links below.\n",
        "\n",
        "● Tweeteval Repository: https://github.com/cardiffnlp/tweeteval\n",
        "\n",
        "● Emotion Detection (our task): https://github.com/cardiffnlp/tweeteval/tree/main/datasets/emotion\n",
        "\n",
        "The ability to process and load custom datasets for your projects/research is an important skill. Most tasks you will\n",
        "complete as an NLP practitioner/researcher will require you to handle different data sources, formats, and files.\n",
        "Therefore, we want you to figure out how to load the emotion recognition dataset from its respective repository\n",
        "using all the necessary files (e.g., train_text.txt, train_labels.txt, mapping.txt) and train your model.\n",
        "\n",
        "### Task: Emotion Recognition with a CNN\n",
        "Implement an emotion recognition classifier in PyTorch or PyTorch Lightning. You can reuse the class structure\n",
        "from exercise 2, which is an adaption from Rao and McMahan. However, you are free to create your own, new\n",
        "class structure. Keep in mind that for emotion prediction, unlike in Exercise 1, we work on the word level instead of\n",
        "the character level. Thus, your Vocabulary class (if you have one) will not hold a vocabulary of characters.\n",
        "Remember to document your code with docstrings and/or comments and/or text cells.\n",
        "1. Pick two different emotion classes for your model to predict (e.g., anger and joy). Load/filter your\n",
        "dataset to include only the related class data. Create another dataset and change only one of the\n",
        "classes (e.g., anger and sadness) this time.\n",
        "2. Your goal is to find the optimal model architecture and training regime for your CNN classifier. Pick one\n",
        "of the datasets you created and start experimenting. Experiment with at least three different combinations\n",
        "(sets) of hyperparameters, with at least two different values each, e.g., optimizer, learning rate, dropout,\n",
        "number of filters, stride, kernel size, pooling, and batch size. Report the combinations and corresponding\n",
        "results (accuracy and F1-macro) on the development set in a table:\n",
        "3. Use your best-performing model settings to train another model on the second dataset. Report\n",
        "the model performance (accuracy and F1-macro) on the test set of both datasets.\n",
        "4. What could be the reason that the specific combination/values of hyperparameters resulted in the best\n",
        "model performance? Don’t worry about the exact reasoning, the goal is just to provide educated (or wellreasoned) guesses."
      ],
      "metadata": {
        "id": "6UjL01foVLGI"
      }
    },
    {
      "cell_type": "code",
      "source": [
        "!pip install spacy"
      ],
      "metadata": {
        "colab": {
          "base_uri": "https://localhost:8080/"
        },
        "id": "p1-Diq3ynW0W",
        "outputId": "8fe63a21-b09e-4e3a-f872-fcbc4bc5384b"
      },
      "execution_count": 1,
      "outputs": [
        {
          "output_type": "stream",
          "name": "stdout",
          "text": [
            "Requirement already satisfied: spacy in /usr/local/lib/python3.10/dist-packages (3.6.1)\n",
            "Requirement already satisfied: spacy-legacy<3.1.0,>=3.0.11 in /usr/local/lib/python3.10/dist-packages (from spacy) (3.0.12)\n",
            "Requirement already satisfied: spacy-loggers<2.0.0,>=1.0.0 in /usr/local/lib/python3.10/dist-packages (from spacy) (1.0.5)\n",
            "Requirement already satisfied: murmurhash<1.1.0,>=0.28.0 in /usr/local/lib/python3.10/dist-packages (from spacy) (1.0.10)\n",
            "Requirement already satisfied: cymem<2.1.0,>=2.0.2 in /usr/local/lib/python3.10/dist-packages (from spacy) (2.0.8)\n",
            "Requirement already satisfied: preshed<3.1.0,>=3.0.2 in /usr/local/lib/python3.10/dist-packages (from spacy) (3.0.9)\n",
            "Requirement already satisfied: thinc<8.2.0,>=8.1.8 in /usr/local/lib/python3.10/dist-packages (from spacy) (8.1.12)\n",
            "Requirement already satisfied: wasabi<1.2.0,>=0.9.1 in /usr/local/lib/python3.10/dist-packages (from spacy) (1.1.2)\n",
            "Requirement already satisfied: srsly<3.0.0,>=2.4.3 in /usr/local/lib/python3.10/dist-packages (from spacy) (2.4.8)\n",
            "Requirement already satisfied: catalogue<2.1.0,>=2.0.6 in /usr/local/lib/python3.10/dist-packages (from spacy) (2.0.10)\n",
            "Requirement already satisfied: typer<0.10.0,>=0.3.0 in /usr/local/lib/python3.10/dist-packages (from spacy) (0.9.0)\n",
            "Requirement already satisfied: pathy>=0.10.0 in /usr/local/lib/python3.10/dist-packages (from spacy) (0.10.3)\n",
            "Requirement already satisfied: smart-open<7.0.0,>=5.2.1 in /usr/local/lib/python3.10/dist-packages (from spacy) (6.4.0)\n",
            "Requirement already satisfied: tqdm<5.0.0,>=4.38.0 in /usr/local/lib/python3.10/dist-packages (from spacy) (4.66.1)\n",
            "Requirement already satisfied: numpy>=1.15.0 in /usr/local/lib/python3.10/dist-packages (from spacy) (1.23.5)\n",
            "Requirement already satisfied: requests<3.0.0,>=2.13.0 in /usr/local/lib/python3.10/dist-packages (from spacy) (2.31.0)\n",
            "Requirement already satisfied: pydantic!=1.8,!=1.8.1,<3.0.0,>=1.7.4 in /usr/local/lib/python3.10/dist-packages (from spacy) (1.10.13)\n",
            "Requirement already satisfied: jinja2 in /usr/local/lib/python3.10/dist-packages (from spacy) (3.1.2)\n",
            "Requirement already satisfied: setuptools in /usr/local/lib/python3.10/dist-packages (from spacy) (67.7.2)\n",
            "Requirement already satisfied: packaging>=20.0 in /usr/local/lib/python3.10/dist-packages (from spacy) (23.2)\n",
            "Requirement already satisfied: langcodes<4.0.0,>=3.2.0 in /usr/local/lib/python3.10/dist-packages (from spacy) (3.3.0)\n",
            "Requirement already satisfied: typing-extensions>=4.2.0 in /usr/local/lib/python3.10/dist-packages (from pydantic!=1.8,!=1.8.1,<3.0.0,>=1.7.4->spacy) (4.5.0)\n",
            "Requirement already satisfied: charset-normalizer<4,>=2 in /usr/local/lib/python3.10/dist-packages (from requests<3.0.0,>=2.13.0->spacy) (3.3.2)\n",
            "Requirement already satisfied: idna<4,>=2.5 in /usr/local/lib/python3.10/dist-packages (from requests<3.0.0,>=2.13.0->spacy) (3.4)\n",
            "Requirement already satisfied: urllib3<3,>=1.21.1 in /usr/local/lib/python3.10/dist-packages (from requests<3.0.0,>=2.13.0->spacy) (2.0.7)\n",
            "Requirement already satisfied: certifi>=2017.4.17 in /usr/local/lib/python3.10/dist-packages (from requests<3.0.0,>=2.13.0->spacy) (2023.7.22)\n",
            "Requirement already satisfied: blis<0.8.0,>=0.7.8 in /usr/local/lib/python3.10/dist-packages (from thinc<8.2.0,>=8.1.8->spacy) (0.7.11)\n",
            "Requirement already satisfied: confection<1.0.0,>=0.0.1 in /usr/local/lib/python3.10/dist-packages (from thinc<8.2.0,>=8.1.8->spacy) (0.1.3)\n",
            "Requirement already satisfied: click<9.0.0,>=7.1.1 in /usr/local/lib/python3.10/dist-packages (from typer<0.10.0,>=0.3.0->spacy) (8.1.7)\n",
            "Requirement already satisfied: MarkupSafe>=2.0 in /usr/local/lib/python3.10/dist-packages (from jinja2->spacy) (2.1.3)\n"
          ]
        }
      ]
    },
    {
      "cell_type": "code",
      "source": [
        "import os\n",
        "import re\n",
        "import random\n",
        "import time\n",
        "import matplotlib.pyplot as plt\n",
        "import torch\n",
        "from tqdm import tqdm\n",
        "import numpy as np\n",
        "import pandas as pd\n",
        "import spacy\n",
        "import string\n",
        "from nltk.tokenize import word_tokenize\n",
        "from nltk.corpus import stopwords\n",
        "from nltk.stem import WordNetLemmatizer\n",
        "import torch.nn as nn\n",
        "import torch.nn.functional as F\n",
        "from torch.utils.data import TensorDataset, DataLoader, RandomSampler, SequentialSampler\n",
        "import torch.utils.data as data, torchvision as tv\n",
        "import torch.optim as optim"
      ],
      "metadata": {
        "id": "V5kphn2SnaIS"
      },
      "execution_count": 282,
      "outputs": []
    },
    {
      "cell_type": "code",
      "source": [
        "nlp = spacy.blank('en')"
      ],
      "metadata": {
        "id": "SHsIC7Pnnd5L"
      },
      "execution_count": 283,
      "outputs": []
    },
    {
      "cell_type": "markdown",
      "source": [
        "### Read data\n",
        "Reading each lines in the data and it's corresponding labels below."
      ],
      "metadata": {
        "id": "ceh8DPWId2A-"
      }
    },
    {
      "cell_type": "code",
      "source": [
        "def read_text(text_path):\n",
        "  with open(text_path, 'r') as file:\n",
        "        text_data = file.read().splitlines()\n",
        "  return text_data\n",
        "\n",
        "def read_labels(label_path):\n",
        "  with open(label_path, 'r') as file:\n",
        "        label_data = file.read().splitlines()\n",
        "  return label_data"
      ],
      "metadata": {
        "id": "OWtdKEIraNTs"
      },
      "execution_count": 320,
      "outputs": []
    },
    {
      "cell_type": "markdown",
      "source": [
        "## Load Train, Validation, Test data\n",
        "Loading train, validation, and test dataset and labels"
      ],
      "metadata": {
        "id": "hTE-VRgeeAa1"
      }
    },
    {
      "cell_type": "code",
      "source": [
        "train_txt_file = \"train_text.txt\"\n",
        "train_label_file = \"train_labels.txt\"\n",
        "train_data = read_text(train_txt_file)\n",
        "train_labels = read_labels(train_label_file)\n",
        "\n",
        "val_txt_file = \"val_text.txt\"\n",
        "val_label_file = \"val_labels.txt\"\n",
        "val_data = read_text(val_txt_file)\n",
        "val_labels = read_labels(val_label_file)\n",
        "\n",
        "test_txt_file = \"test_text.txt\"\n",
        "test_label_file = \"test_labels.txt\"\n",
        "test_data = read_text(test_txt_file)\n",
        "test_labels = read_labels(test_label_file)"
      ],
      "metadata": {
        "id": "M-4PqbHgaXwL"
      },
      "execution_count": 321,
      "outputs": []
    },
    {
      "cell_type": "markdown",
      "source": [
        "### Example data\n",
        "Example of how data and labels look like. Mappings are as follows:\n",
        "\n",
        "0 ---> Anger\n",
        "\n",
        "1 ---> Joy\n",
        "\n",
        "2 ---> Optimism\n",
        "\n",
        "3 ---> Sadness"
      ],
      "metadata": {
        "id": "zQdiji_geOMm"
      }
    },
    {
      "cell_type": "code",
      "source": [
        "train_data[0], train_labels[0]"
      ],
      "metadata": {
        "colab": {
          "base_uri": "https://localhost:8080/"
        },
        "id": "45TAlr1Wbf2X",
        "outputId": "0636e971-3efc-4c64-a6be-71fac90d6020"
      },
      "execution_count": 322,
      "outputs": [
        {
          "output_type": "execute_result",
          "data": {
            "text/plain": [
              "(\"“Worry is a down payment on a problem you may never have'. \\xa0Joyce Meyer.  #motivation #leadership #worry \",\n",
              " '2')"
            ]
          },
          "metadata": {},
          "execution_count": 322
        }
      ]
    },
    {
      "cell_type": "code",
      "source": [
        "val_data[0], val_labels[0]"
      ],
      "metadata": {
        "colab": {
          "base_uri": "https://localhost:8080/"
        },
        "id": "Iw-HoXi_cmTF",
        "outputId": "05a89153-bbf9-4e3c-8268-dbe06a8c1f24"
      },
      "execution_count": 323,
      "outputs": [
        {
          "output_type": "execute_result",
          "data": {
            "text/plain": [
              "('@user @user Oh, hidden revenge and anger...I rememberthe time,she rebutted you. ',\n",
              " '0')"
            ]
          },
          "metadata": {},
          "execution_count": 323
        }
      ]
    },
    {
      "cell_type": "code",
      "source": [
        "test_data[0], test_labels[0]"
      ],
      "metadata": {
        "colab": {
          "base_uri": "https://localhost:8080/"
        },
        "id": "QiHmlM0LeZLv",
        "outputId": "1505dc24-debf-4837-fe0a-a41593165784"
      },
      "execution_count": 324,
      "outputs": [
        {
          "output_type": "execute_result",
          "data": {
            "text/plain": [
              "('#Deppression is real. Partners w/ #depressed people truly dont understand the depth in which they affect us. Add in #anxiety &amp;makes it worse ',\n",
              " '3')"
            ]
          },
          "metadata": {},
          "execution_count": 324
        }
      ]
    },
    {
      "cell_type": "code",
      "source": [
        "train_data[0:5]"
      ],
      "metadata": {
        "colab": {
          "base_uri": "https://localhost:8080/"
        },
        "id": "GNHRoV9hei38",
        "outputId": "c14485d7-11b5-4dbe-f436-69f1b27385c5"
      },
      "execution_count": 325,
      "outputs": [
        {
          "output_type": "execute_result",
          "data": {
            "text/plain": [
              "[\"“Worry is a down payment on a problem you may never have'. \\xa0Joyce Meyer.  #motivation #leadership #worry \",\n",
              " \"My roommate: it's okay that we can't spell because we have autocorrect. #terrible #firstworldprobs \",\n",
              " \"No but that's so cute. Atsu was probably shy about photos before but cherry helped her out uwu \",\n",
              " \"Rooneys fucking untouchable isn't he? Been fucking dreadful again, depay has looked decent(ish)tonight \",\n",
              " \"it's pretty depressing when u hit pan on ur favourite highlighter \"]"
            ]
          },
          "metadata": {},
          "execution_count": 325
        }
      ]
    },
    {
      "cell_type": "code",
      "source": [
        "train_labels[0:5]"
      ],
      "metadata": {
        "colab": {
          "base_uri": "https://localhost:8080/"
        },
        "id": "y4oE_P_sgGR0",
        "outputId": "c435301c-44cc-4fd2-f6a8-bde6108b461a"
      },
      "execution_count": 326,
      "outputs": [
        {
          "output_type": "execute_result",
          "data": {
            "text/plain": [
              "['2', '0', '1', '0', '3']"
            ]
          },
          "metadata": {},
          "execution_count": 326
        }
      ]
    },
    {
      "cell_type": "markdown",
      "source": [
        "### Proprocess and clean text data\n",
        "1. we decoded ascii values\n",
        "2. we removed all the tags for eg: @user, @john, etc\n",
        "3. we remove all the words which were # in it\n",
        "4. we removed all the puncuations\n",
        "5. we removed all the stopwords\n",
        "6. we applied Lemmatization"
      ],
      "metadata": {
        "id": "Ty00lSv6vY9U"
      }
    },
    {
      "cell_type": "code",
      "source": [
        "import nltk\n",
        "import re\n",
        "\n",
        "nltk.download('punkt')\n",
        "nltk.download('stopwords')\n",
        "nltk.download('wordnet')\n",
        "\n",
        "# Initialize WordNet Lemmatizer\n",
        "lemmatizer = WordNetLemmatizer()\n",
        "\n",
        "# Function to preprocess and lemmatize text\n",
        "def preprocess_text(text, clean_hastag_words = False, remove_username = False):\n",
        "    # Remove unwanted characters\n",
        "    text = text.encode('ascii', 'ignore').decode('ascii')\n",
        "\n",
        "\n",
        "    if remove_username:\n",
        "      text = re.sub(r'@\\w+', '', text)\n",
        "    if clean_hastag_words:\n",
        "      text = re.sub(r'#\\w+', '', text)\n",
        "\n",
        "    # Remove punctuation\n",
        "    text = text.translate(str.maketrans(\"\", \"\", string.punctuation))\n",
        "\n",
        "    # Tokenize the text\n",
        "    tokens = word_tokenize(text.lower())\n",
        "\n",
        "    # Remove stop words\n",
        "    stop_words = set(stopwords.words('english'))\n",
        "    tokens = [word for word in tokens if word not in stop_words]\n",
        "\n",
        "    # Lemmatization\n",
        "    lemmatized_tokens = [lemmatizer.lemmatize(word) for word in tokens]\n",
        "\n",
        "    return ' '.join(lemmatized_tokens)\n",
        "\n",
        "# Apply preprocessing to each text in the data\n",
        "train_data = [preprocess_text(text, clean_hastag_words=True, remove_username=True) for text in train_data]\n",
        "val_data = [preprocess_text(text, clean_hastag_words=True, remove_username=True) for text in val_data]\n",
        "test_data = [preprocess_text(text, clean_hastag_words=True, remove_username=True) for text in test_data]"
      ],
      "metadata": {
        "colab": {
          "base_uri": "https://localhost:8080/"
        },
        "id": "kBka5tw4dsTe",
        "outputId": "3eb41bfc-634a-4842-b09d-f9166d51c78c"
      },
      "execution_count": 327,
      "outputs": [
        {
          "output_type": "stream",
          "name": "stderr",
          "text": [
            "[nltk_data] Downloading package punkt to /root/nltk_data...\n",
            "[nltk_data]   Package punkt is already up-to-date!\n",
            "[nltk_data] Downloading package stopwords to /root/nltk_data...\n",
            "[nltk_data]   Package stopwords is already up-to-date!\n",
            "[nltk_data] Downloading package wordnet to /root/nltk_data...\n",
            "[nltk_data]   Package wordnet is already up-to-date!\n"
          ]
        }
      ]
    },
    {
      "cell_type": "markdown",
      "source": [
        "## Section 1: Emotional Recognition Model: Anger or Joy\n",
        "\n",
        "In this section, we will choose data from anger (0) and joy (1) classes and train a Emotion Recognition model using only these two classes."
      ],
      "metadata": {
        "id": "D2AK_KlMg0C9"
      }
    },
    {
      "cell_type": "code",
      "source": [
        "train_d_aj = [data for data, label in zip(train_data, train_labels) if label in ('0', '1')]\n",
        "train_l_aj = [label for label in train_labels if label in ('0', '1')]\n",
        "\n",
        "val_d_aj = [data for data, label in zip(val_data, val_labels) if label in ('0', '1')]\n",
        "val_l_aj = [label for label in val_labels if label in ('0', '1')]\n",
        "\n",
        "test_d_aj = [data for data, label in zip(test_data, test_labels) if label in ('0', '1')]\n",
        "test_l_aj = [label for label in test_labels if label in ('0', '1')]"
      ],
      "metadata": {
        "id": "rom7gAFTgNlJ"
      },
      "execution_count": 328,
      "outputs": []
    },
    {
      "cell_type": "code",
      "source": [
        "train_l_aj.count(\"0\")"
      ],
      "metadata": {
        "colab": {
          "base_uri": "https://localhost:8080/"
        },
        "id": "yN4E23DxolEz",
        "outputId": "b336fb33-7350-42f9-a15d-1d241b024a58"
      },
      "execution_count": 329,
      "outputs": [
        {
          "output_type": "execute_result",
          "data": {
            "text/plain": [
              "1400"
            ]
          },
          "metadata": {},
          "execution_count": 329
        }
      ]
    },
    {
      "cell_type": "code",
      "source": [
        "train_l_aj.count(\"1\")"
      ],
      "metadata": {
        "colab": {
          "base_uri": "https://localhost:8080/"
        },
        "id": "EfnSsBEfo7WT",
        "outputId": "82816043-752a-435d-fe96-5e94a9282a73"
      },
      "execution_count": 330,
      "outputs": [
        {
          "output_type": "execute_result",
          "data": {
            "text/plain": [
              "708"
            ]
          },
          "metadata": {},
          "execution_count": 330
        }
      ]
    },
    {
      "cell_type": "markdown",
      "source": [
        "###Data balancing\n",
        "\n",
        "As observed above, our classes are not balanced, therefore we will upsample the minority class using the function below."
      ],
      "metadata": {
        "id": "0H2C4navm1xZ"
      }
    },
    {
      "cell_type": "code",
      "source": [
        "def balance_dataset(dataset, labels):\n",
        "  import random\n",
        "  # Concatenate the training data and labels\n",
        "  train_data_labels = list(zip(dataset, labels))\n",
        "\n",
        "  # Extract minority and majority classes\n",
        "  minority_class = [(data, label) for data, label in train_data_labels if label == '1']\n",
        "  majority_class = [(data, label) for data, label in train_data_labels if label == '0']\n",
        "\n",
        "  # Calculate the required oversampling ratio\n",
        "  oversampling_ratio = len(majority_class) // len(minority_class)\n",
        "\n",
        "  # Randomly replicate instances from the minority class\n",
        "  minority_upsampled = random.choices(minority_class, k=len(majority_class) * oversampling_ratio)\n",
        "\n",
        "  # Combine minority and majority classes\n",
        "  upsampled_data_labels = majority_class + minority_upsampled\n",
        "\n",
        "  # Shuffle the upsampled dataset to ensure randomness\n",
        "  random.shuffle(upsampled_data_labels)\n",
        "\n",
        "  # Extract upsampled data and labels\n",
        "  upsampled_data, upsampled_labels = zip(*upsampled_data_labels)\n",
        "\n",
        "  return upsampled_data, upsampled_labels"
      ],
      "metadata": {
        "id": "9n5CdhDOnasJ"
      },
      "execution_count": 331,
      "outputs": []
    },
    {
      "cell_type": "markdown",
      "source": [
        "Balance the classes"
      ],
      "metadata": {
        "id": "djCInD66xzIL"
      }
    },
    {
      "cell_type": "code",
      "source": [
        "train_d_aj, train_l_aj =  balance_dataset(train_d_aj, train_l_aj)\n",
        "val_d_aj, val_l_aj =  balance_dataset(val_d_aj, val_l_aj)\n",
        "test_d_aj, test_l_aj =  balance_dataset(test_d_aj, test_l_aj)"
      ],
      "metadata": {
        "id": "hF6g7P_Lnx8M"
      },
      "execution_count": 332,
      "outputs": []
    },
    {
      "cell_type": "code",
      "source": [
        "train_l_aj.count(\"0\")"
      ],
      "metadata": {
        "colab": {
          "base_uri": "https://localhost:8080/"
        },
        "id": "UHpTWATpp8tH",
        "outputId": "ac1619df-504c-47fd-b62f-8f03db906fbb"
      },
      "execution_count": 333,
      "outputs": [
        {
          "output_type": "execute_result",
          "data": {
            "text/plain": [
              "1400"
            ]
          },
          "metadata": {},
          "execution_count": 333
        }
      ]
    },
    {
      "cell_type": "code",
      "source": [
        "train_l_aj.count(\"1\")"
      ],
      "metadata": {
        "colab": {
          "base_uri": "https://localhost:8080/"
        },
        "id": "9altOIv_qDCD",
        "outputId": "b08a1431-9fc9-4b7f-caa5-cf6eeee8b783"
      },
      "execution_count": 334,
      "outputs": [
        {
          "output_type": "execute_result",
          "data": {
            "text/plain": [
              "1400"
            ]
          },
          "metadata": {},
          "execution_count": 334
        }
      ]
    },
    {
      "cell_type": "markdown",
      "source": [
        "Examples of filtered data:"
      ],
      "metadata": {
        "id": "StHawLHclMxg"
      }
    },
    {
      "cell_type": "code",
      "source": [
        "train_d_aj[0:10]"
      ],
      "metadata": {
        "colab": {
          "base_uri": "https://localhost:8080/"
        },
        "id": "rpHQBC7mlA3W",
        "outputId": "1b28366c-6f47-4eaf-cb5b-a246630bf577"
      },
      "execution_count": 335,
      "outputs": [
        {
          "output_type": "execute_result",
          "data": {
            "text/plain": [
              "('blame whole season natalie season would different turned back alliance',\n",
              " 'php54 though kardashian stuff go head youre hilarious like gleeful little boy',\n",
              " 'michelle one worst player bb history',\n",
              " 'blame jose ere would give rojo another start sunday fucking disaster waiting happen amp shocking header',\n",
              " 'ffs tate thought wind willow serious play cant wait see play singing badger',\n",
              " 'thats pretty love sky background purple highlight dull color great',\n",
              " 'customer service beyond appalling faulty dryer replacement break within wks part 3 wks engineer show',\n",
              " 'im exited shaking much im pround colleen fandom everyone amazing',\n",
              " 'ppl talking diet feeling hahaha',\n",
              " 'control guy')"
            ]
          },
          "metadata": {},
          "execution_count": 335
        }
      ]
    },
    {
      "cell_type": "code",
      "source": [
        "train_l_aj[0:10]"
      ],
      "metadata": {
        "colab": {
          "base_uri": "https://localhost:8080/"
        },
        "id": "hfkZwolUlDqd",
        "outputId": "055d3cbd-10b8-4a04-9203-4b437c5977f3"
      },
      "execution_count": 336,
      "outputs": [
        {
          "output_type": "execute_result",
          "data": {
            "text/plain": [
              "('0', '1', '0', '0', '1', '1', '0', '1', '1', '0')"
            ]
          },
          "metadata": {},
          "execution_count": 336
        }
      ]
    },
    {
      "cell_type": "code",
      "source": [
        "val_l_aj[0:10]"
      ],
      "metadata": {
        "colab": {
          "base_uri": "https://localhost:8080/"
        },
        "id": "8q92KRQIgvjQ",
        "outputId": "b7db9fb4-1f32-471a-feef-5d472d299b9a"
      },
      "execution_count": 337,
      "outputs": [
        {
          "output_type": "execute_result",
          "data": {
            "text/plain": [
              "('1', '1', '0', '1', '1', '0', '1', '1', '0', '0')"
            ]
          },
          "metadata": {},
          "execution_count": 337
        }
      ]
    },
    {
      "cell_type": "markdown",
      "source": [
        "tokenize, encode, converting to tensor functions. Reference of tokenize, encode functions: tutorial notebook"
      ],
      "metadata": {
        "id": "7cFXWl2Jp_7s"
      }
    },
    {
      "cell_type": "code",
      "source": [
        "def tokenize(texts):\n",
        "  max_len = 0\n",
        "  tokenized_texts = []\n",
        "  word2idx = {}\n",
        "\n",
        "  # Add <pad> and <unk> tokens to the vocabulary\n",
        "  word2idx['<pad>'] = 0\n",
        "  word2idx['<unk>'] = 1\n",
        "\n",
        "  # Building our vocab from the corpus starting from index 2\n",
        "  idx = 2\n",
        "  for sent in texts:\n",
        "    tokenized_sent = nlp(sent)\n",
        "    # Add `tokenized_sent` to `tokenized_texts`\n",
        "    tokenized_texts.append(tokenized_sent)\n",
        "    # Add new token to `word2idx`\n",
        "    for token in tokenized_sent:\n",
        "      # string any token objects are different things, be careful.\n",
        "      if token.text not in word2idx:\n",
        "        word2idx[token.text] = idx\n",
        "        idx += 1\n",
        "\n",
        "        # Update `max_len`\n",
        "    max_len = max(max_len, len(tokenized_sent))\n",
        "\n",
        "  return tokenized_texts, word2idx, max_len\n",
        "\n",
        "\n",
        "def encode(tokenized_texts, word2idx, max_len):\n",
        "    input_ids = []\n",
        "    for tokenized_sent in tokenized_texts:\n",
        "        # Pad sentences to e\n",
        "        tokenized_padded_sent = list(tokenized_sent) + ['<pad>'] * (max_len - len(tokenized_sent))\n",
        "\n",
        "        # Encode tokens to input_ids\n",
        "        input_id = [word2idx.get(str(token)) for token in tokenized_padded_sent]\n",
        "        input_ids.append(input_id)\n",
        "\n",
        "    return np.array(input_ids), word2idx\n",
        "\n",
        "\n",
        "def get_tokenized_encoded_ids(text):\n",
        "  # get tokenized and encoded data input ids\n",
        "  tokenized_texts, word2idx, max_len = tokenize(text)\n",
        "  input_ids, word2idx = encode(tokenized_texts, word2idx, max_len)\n",
        "  # converting input ids to torch.Tensor\n",
        "  input_ids = torch.from_numpy(input_ids)\n",
        "  return input_ids, word2idx\n",
        "\n",
        "def get_tensor_labels(labels):\n",
        "  # converting labels to torch.Tensor\n",
        "  label_int = [int(item) for item in labels]\n",
        "  label_tensors = torch.tensor(label_int)\n",
        "  return label_tensors"
      ],
      "metadata": {
        "id": "x51AP25tlTTg"
      },
      "execution_count": 338,
      "outputs": []
    },
    {
      "cell_type": "code",
      "source": [
        "# tokenizing, encoding, converting to tensors\n",
        "train_id_aj, word2idx = get_tokenized_encoded_ids(train_d_aj)\n",
        "val_id_aj, _ = get_tokenized_encoded_ids(val_d_aj)\n",
        "test_id_aj, _ = get_tokenized_encoded_ids(test_d_aj)\n",
        "\n",
        "# converting labels to tensors\n",
        "train_l_aj = get_tensor_labels(train_l_aj)\n",
        "val_l_aj = get_tensor_labels(val_l_aj)\n",
        "test_l_aj = get_tensor_labels(test_l_aj)"
      ],
      "metadata": {
        "id": "ijSLCF0vaHBG"
      },
      "execution_count": 339,
      "outputs": []
    },
    {
      "cell_type": "markdown",
      "source": [
        "Example of dataset after tokenization, encoding, and converting to tensors"
      ],
      "metadata": {
        "id": "hIojtR56p2Pa"
      }
    },
    {
      "cell_type": "code",
      "source": [
        "train_id_aj[0:5]"
      ],
      "metadata": {
        "colab": {
          "base_uri": "https://localhost:8080/"
        },
        "id": "yX5G6DWvn8vA",
        "outputId": "e6296da4-bd01-4c61-e2a9-4d1ecf4d1302"
      },
      "execution_count": 340,
      "outputs": [
        {
          "output_type": "execute_result",
          "data": {
            "text/plain": [
              "tensor([[ 2,  3,  4,  5,  4,  6,  7,  8,  9, 10,  0,  0,  0,  0,  0,  0,  0,  0,\n",
              "          0,  0,  0,  0,  0,  0,  0,  0],\n",
              "        [11, 12, 13, 14, 15, 16, 17, 18, 19, 20, 21, 22, 23,  0,  0,  0,  0,  0,\n",
              "          0,  0,  0,  0,  0,  0,  0,  0],\n",
              "        [24, 25, 26, 27, 28, 29,  0,  0,  0,  0,  0,  0,  0,  0,  0,  0,  0,  0,\n",
              "          0,  0,  0,  0,  0,  0,  0,  0],\n",
              "        [ 2, 30, 31,  6, 32, 33, 34, 35, 36, 37, 38, 39, 40, 41, 42, 43,  0,  0,\n",
              "          0,  0,  0,  0,  0,  0,  0,  0],\n",
              "        [44, 45, 46, 47, 48, 49, 50, 51, 52, 53, 54, 50, 55, 56,  0,  0,  0,  0,\n",
              "          0,  0,  0,  0,  0,  0,  0,  0]])"
            ]
          },
          "metadata": {},
          "execution_count": 340
        }
      ]
    },
    {
      "cell_type": "code",
      "source": [
        "train_l_aj[0:5]"
      ],
      "metadata": {
        "colab": {
          "base_uri": "https://localhost:8080/"
        },
        "id": "Fkb0GVzLn-Gq",
        "outputId": "95e751ff-9b9a-4a24-d09d-b2f23efc39eb"
      },
      "execution_count": 341,
      "outputs": [
        {
          "output_type": "execute_result",
          "data": {
            "text/plain": [
              "tensor([0, 1, 0, 0, 1])"
            ]
          },
          "metadata": {},
          "execution_count": 341
        }
      ]
    },
    {
      "cell_type": "markdown",
      "source": [
        "Create dataset and dataloader objects from tensors of data. Dataloader object will be used in training."
      ],
      "metadata": {
        "id": "3RgfoyDuqSFL"
      }
    },
    {
      "cell_type": "code",
      "source": [
        "random_seed = 42\n",
        "train_dataset = TensorDataset(train_id_aj, train_l_aj)\n",
        "train_sampler = RandomSampler(train_dataset, generator=torch.Generator().manual_seed(random_seed))\n",
        "\n",
        "val_dataset = TensorDataset(val_id_aj, val_l_aj)\n",
        "test_dataset = TensorDataset(test_id_aj, test_l_aj)\n",
        "\n",
        "batch_size = 64\n",
        "\n",
        "train_dataloader = DataLoader(train_dataset, sampler=train_sampler, batch_size=batch_size)\n",
        "val_dataloader = DataLoader(val_dataset, batch_size=batch_size)\n",
        "test_dataloader = DataLoader(test_dataset, batch_size=batch_size)"
      ],
      "metadata": {
        "id": "h_UISpbBpMF_"
      },
      "execution_count": 342,
      "outputs": []
    },
    {
      "cell_type": "code",
      "source": [
        "import torchtext.vocab as vocab\n",
        "class CNN(nn.Module):\n",
        "    def __init__(self, embed_dim, filter_sizes, num_filters, num_classes, dropout, pretrained_embeddings, vocab_size=len(word2idx)):\n",
        "        super(CNN, self).__init__()\n",
        "        if pretrained_embeddings is not None:\n",
        "            print(\"using pretrained embedding\")\n",
        "            glove = vocab.GloVe(name='6B', dim=embed_dim)\n",
        "            self.embedding = nn.Embedding.from_pretrained(glove.vectors, freeze=True)\n",
        "        else:\n",
        "            print(\"training embedding\")\n",
        "            self.embedding = nn.Embedding(num_embeddings=vocab_size, embedding_dim=embed_dim, padding_idx=0)\n",
        "        self.conv1d_list = nn.ModuleList([\n",
        "            nn.Sequential(\n",
        "                nn.Conv1d(in_channels=embed_dim, out_channels=num_filters[i], kernel_size=filter_sizes[i]),\n",
        "                nn.BatchNorm1d(num_filters[i])\n",
        "            )\n",
        "            for i in range(len(filter_sizes))\n",
        "        ])\n",
        "        self.fc = nn.Linear(np.sum(num_filters), num_classes)\n",
        "        self.dropout = nn.Dropout(p=dropout)\n",
        "\n",
        "    def forward(self, input_ids):\n",
        "        x_embed = self.embedding(input_ids).float()\n",
        "        x_reshaped = x_embed.permute(0, 2, 1)\n",
        "        x_conv_list = [F.relu(conv1d(x_reshaped)) for conv1d in self.conv1d_list]\n",
        "        x_pool_list = [F.max_pool1d(x_conv, kernel_size=x_conv.shape[2])\n",
        "            for x_conv in x_conv_list]\n",
        "\n",
        "        x_fc = torch.cat([x_pool.squeeze(dim=2) for x_pool in x_pool_list],\n",
        "                         dim=1)\n",
        "        logits = self.fc(self.dropout(x_fc))\n",
        "        return logits"
      ],
      "metadata": {
        "id": "-V8LzL8kb8kZ"
      },
      "execution_count": 357,
      "outputs": []
    },
    {
      "cell_type": "code",
      "source": [
        "class Train:\n",
        "  def __init__(\n",
        "      self,\n",
        "      embed_dim=100,\n",
        "      filter_sizes=[3, 4, 5],\n",
        "      num_filters=[150, 150, 150],\n",
        "      dropout=0.2,\n",
        "      num_classes=2,\n",
        "      lr=0.01,\n",
        "      rho=0.95,\n",
        "      epoch=5,\n",
        "      pretrained_embeddings=None,\n",
        "      weight_decay = 1e-5\n",
        "    ):\n",
        "    self._embed_dim = embed_dim\n",
        "    self._filter_sizes = filter_sizes\n",
        "    self._num_filters = num_filters\n",
        "    self._dropout = dropout\n",
        "    self._num_classes = num_classes\n",
        "    self._lr = lr\n",
        "    self._rho = rho\n",
        "    self._epoch = epoch\n",
        "    self._pretrained_embeddings = pretrained_embeddings\n",
        "    self._weight_decay = weight_decay\n",
        "\n",
        "  def train_model(self, device, train_dataloader, validation_dataloader):\n",
        "    # Instantiate CNN model\n",
        "    model = CNN(embed_dim=self._embed_dim,\n",
        "                filter_sizes=self._filter_sizes,\n",
        "                num_filters=self._num_filters,\n",
        "                num_classes=self._num_classes,\n",
        "                dropout=self._dropout,\n",
        "                pretrained_embeddings=self._pretrained_embeddings)\n",
        "\n",
        "    # Send model to `device` (GPU/CPU)\n",
        "    model.to(device)\n",
        "\n",
        "    # Instantiate SDG Optimizer\n",
        "    optimizer = optim.SGD(model.parameters(), lr=self._lr, weight_decay=self._weight_decay)\n",
        "\n",
        "    # cross entropy loss function\n",
        "    loss_fn = nn.CrossEntropyLoss()\n",
        "\n",
        "    # Start training loop\n",
        "    print(\"Start training...\\n\")\n",
        "    best_validation_loss = float('inf')\n",
        "    best_validation_macro = 0\n",
        "    best_model = None\n",
        "\n",
        "    for epoch_i in range(self._epoch):\n",
        "        total_train_loss = 0\n",
        "        total_validation_loss = 0\n",
        "        y_true_t = []\n",
        "        y_pred_t = []\n",
        "\n",
        "        y_true_v = []\n",
        "        y_pred_v = []\n",
        "\n",
        "        # Put the model into the training mode\n",
        "        model.train()\n",
        "        for step, batch in enumerate(train_dataloader):\n",
        "            # Load batch to GPU\n",
        "            b_input_ids, b_labels = tuple(t.to(device) for t in batch)\n",
        "            model.zero_grad()\n",
        "            logits = model(b_input_ids)\n",
        "            loss = loss_fn(logits, b_labels)\n",
        "            total_train_loss += loss.item()\n",
        "            loss.backward()\n",
        "            optimizer.step()\n",
        "            y_true_t.extend(b_labels.cpu().numpy())\n",
        "            y_pred_t.extend(logits.argmax(1).cpu().numpy())\n",
        "\n",
        "        # Calculate the average training loss\n",
        "        avg_train_loss = total_train_loss / len(train_dataloader)\n",
        "\n",
        "        # Calculate accuracy and F1-macro for the training data\n",
        "        train_accuracy = accuracy_score(y_true_t, y_pred_t)\n",
        "        train_f1_macro = f1_score(y_true_t, y_pred_t, average='macro')\n",
        "\n",
        "        # Put the model into evaluation mode\n",
        "        model.eval()\n",
        "        with torch.no_grad():\n",
        "            for step, batch in enumerate(validation_dataloader):\n",
        "                b_input_ids, b_labels = tuple(t.to(device) for t in batch)\n",
        "                logits = model(b_input_ids)\n",
        "                loss = loss_fn(logits, b_labels)\n",
        "                total_validation_loss += loss.item()\n",
        "                y_true_v.extend(b_labels.cpu().numpy())\n",
        "                y_pred_v.extend(logits.argmax(1).cpu().numpy())\n",
        "\n",
        "        # Calculate the average validation loss\n",
        "        avg_validation_loss = total_validation_loss / len(validation_dataloader)\n",
        "\n",
        "        # Calculate accuracy and F1-macro for the validation data\n",
        "        val_accuracy = accuracy_score(y_true_v, y_pred_v)\n",
        "        val_f1_macro = f1_score(y_true_v, y_pred_v, average='macro')\n",
        "\n",
        "        if val_accuracy > best_validation_macro:\n",
        "            best_validation_macro = val_accuracy\n",
        "            best_model = model.state_dict()\n",
        "\n",
        "\n",
        "        print(f\"Epoch {epoch_i + 1:2d} | Train Loss: {avg_train_loss:.6f} | Train Acc: {train_accuracy:.4f} | Train F1-Macro: {train_f1_macro:.4f}\")\n",
        "        print(f\"Epoch {epoch_i + 1:2d} | Validation Loss: {avg_validation_loss:.6f} | Validation Acc: {val_accuracy:.4f} | Validation F1-Macro: {val_f1_macro:.4f}\")\n",
        "        print(\".........................................................................................\")\n",
        "\n",
        "    # Load the best model for further evaluation or testing\n",
        "    model.load_state_dict(best_model)\n",
        "    return model"
      ],
      "metadata": {
        "id": "Qvo4y3fE7HBO"
      },
      "execution_count": 344,
      "outputs": []
    },
    {
      "cell_type": "code",
      "source": [
        "def test_model(model, device, test_dataloader):\n",
        "  model.eval()\n",
        "  y_true = []\n",
        "  y_pred = []\n",
        "\n",
        "  with torch.no_grad():\n",
        "      for step, batch in enumerate(test_dataloader):\n",
        "          b_input_ids, b_labels = tuple(t.to(device) for t in batch)\n",
        "          logits = model(b_input_ids)\n",
        "          y_true.extend(b_labels.cpu().numpy())\n",
        "          y_pred.extend(logits.argmax(1).cpu().numpy())\n",
        "\n",
        "  test_accuracy = accuracy_score(y_true, y_pred)\n",
        "  test_f1_macro = f1_score(y_true, y_pred, average='macro')\n",
        "\n",
        "  print(f\"Test Accuracy: {test_accuracy:.4f}\")\n",
        "  print(f\"Test F1-Macro: {test_f1_macro:.4f}\")"
      ],
      "metadata": {
        "id": "Dx2f1crTS3Bh"
      },
      "execution_count": 345,
      "outputs": []
    },
    {
      "cell_type": "code",
      "source": [
        "from sklearn.metrics import f1_score, accuracy_score\n",
        "\n",
        "# use the GPU\n",
        "if torch.cuda.is_available():\n",
        "    device = torch.device(\"cuda\")\n",
        "    print(f'There are {torch.cuda.device_count()} GPU(s) available.')\n",
        "    print('Device name:', torch.cuda.get_device_name(0))\n",
        "\n",
        "else:\n",
        "    print('No GPU available, using the CPU instead.')\n",
        "    device = torch.device(\"cpu\")"
      ],
      "metadata": {
        "colab": {
          "base_uri": "https://localhost:8080/"
        },
        "id": "1iEBuzKm8sal",
        "outputId": "2dd59c0a-8ca9-40f2-ca5a-7df76163899b"
      },
      "execution_count": 346,
      "outputs": [
        {
          "output_type": "stream",
          "name": "stdout",
          "text": [
            "There are 1 GPU(s) available.\n",
            "Device name: Tesla T4\n"
          ]
        }
      ]
    },
    {
      "cell_type": "markdown",
      "source": [
        "### Experiments on different Hyperparameter"
      ],
      "metadata": {
        "id": "euU_iVmezPua"
      }
    },
    {
      "cell_type": "code",
      "source": [
        "# NOT REPORTED\n",
        "train_obj = Train(embed_dim=300, pretrained_embeddings=True, epoch=50, lr=0.0001, dropout=0.2, weight_decay=0.00001, filter_sizes=[3, 3, 4, 5], num_filters=[100, 100, 100, 100])\n",
        "model = train_obj.train_model(device, train_dataloader, val_dataloader)\n",
        "test_model(model, device, test_dataloader)"
      ],
      "metadata": {
        "colab": {
          "base_uri": "https://localhost:8080/"
        },
        "id": "GlU9kPgluTNo",
        "outputId": "f2b060d7-5328-43cd-ca53-25a14684305d"
      },
      "execution_count": 349,
      "outputs": [
        {
          "output_type": "stream",
          "name": "stdout",
          "text": [
            "using pretrained embedding\n",
            "Start training...\n",
            "\n",
            "Epoch  1 | Train Loss: 0.994029 | Train Acc: 0.5089 | Train F1-Macro: 0.4837\n",
            "Epoch  1 | Validation Loss: 0.691754 | Validation Acc: 0.5469 | Validation F1-Macro: 0.5445\n",
            ".........................................................................................\n",
            "Epoch  2 | Train Loss: 0.845472 | Train Acc: 0.5164 | Train F1-Macro: 0.5163\n",
            "Epoch  2 | Validation Loss: 0.701251 | Validation Acc: 0.5375 | Validation F1-Macro: 0.5363\n",
            ".........................................................................................\n",
            "Epoch  3 | Train Loss: 0.851305 | Train Acc: 0.5118 | Train F1-Macro: 0.5117\n",
            "Epoch  3 | Validation Loss: 0.700473 | Validation Acc: 0.5375 | Validation F1-Macro: 0.5357\n",
            ".........................................................................................\n",
            "Epoch  4 | Train Loss: 0.834736 | Train Acc: 0.5196 | Train F1-Macro: 0.5196\n",
            "Epoch  4 | Validation Loss: 0.699454 | Validation Acc: 0.5375 | Validation F1-Macro: 0.5357\n",
            ".........................................................................................\n",
            "Epoch  5 | Train Loss: 0.813406 | Train Acc: 0.5332 | Train F1-Macro: 0.5332\n",
            "Epoch  5 | Validation Loss: 0.698666 | Validation Acc: 0.5469 | Validation F1-Macro: 0.5445\n",
            ".........................................................................................\n",
            "Epoch  6 | Train Loss: 0.814225 | Train Acc: 0.5368 | Train F1-Macro: 0.5367\n",
            "Epoch  6 | Validation Loss: 0.698431 | Validation Acc: 0.5531 | Validation F1-Macro: 0.5489\n",
            ".........................................................................................\n",
            "Epoch  7 | Train Loss: 0.799894 | Train Acc: 0.5418 | Train F1-Macro: 0.5418\n",
            "Epoch  7 | Validation Loss: 0.697736 | Validation Acc: 0.5469 | Validation F1-Macro: 0.5393\n",
            ".........................................................................................\n",
            "Epoch  8 | Train Loss: 0.780281 | Train Acc: 0.5536 | Train F1-Macro: 0.5535\n",
            "Epoch  8 | Validation Loss: 0.698588 | Validation Acc: 0.5437 | Validation F1-Macro: 0.5358\n",
            ".........................................................................................\n",
            "Epoch  9 | Train Loss: 0.790916 | Train Acc: 0.5379 | Train F1-Macro: 0.5378\n",
            "Epoch  9 | Validation Loss: 0.693575 | Validation Acc: 0.5594 | Validation F1-Macro: 0.5567\n",
            ".........................................................................................\n",
            "Epoch 10 | Train Loss: 0.785255 | Train Acc: 0.5475 | Train F1-Macro: 0.5475\n",
            "Epoch 10 | Validation Loss: 0.695045 | Validation Acc: 0.5469 | Validation F1-Macro: 0.5393\n",
            ".........................................................................................\n",
            "Epoch 11 | Train Loss: 0.767899 | Train Acc: 0.5511 | Train F1-Macro: 0.5511\n",
            "Epoch 11 | Validation Loss: 0.695975 | Validation Acc: 0.5469 | Validation F1-Macro: 0.5393\n",
            ".........................................................................................\n",
            "Epoch 12 | Train Loss: 0.782425 | Train Acc: 0.5554 | Train F1-Macro: 0.5553\n",
            "Epoch 12 | Validation Loss: 0.693208 | Validation Acc: 0.5563 | Validation F1-Macro: 0.5512\n",
            ".........................................................................................\n",
            "Epoch 13 | Train Loss: 0.756931 | Train Acc: 0.5571 | Train F1-Macro: 0.5571\n",
            "Epoch 13 | Validation Loss: 0.694327 | Validation Acc: 0.5469 | Validation F1-Macro: 0.5393\n",
            ".........................................................................................\n",
            "Epoch 14 | Train Loss: 0.758852 | Train Acc: 0.5643 | Train F1-Macro: 0.5643\n",
            "Epoch 14 | Validation Loss: 0.692912 | Validation Acc: 0.5531 | Validation F1-Macro: 0.5477\n",
            ".........................................................................................\n",
            "Epoch 15 | Train Loss: 0.721955 | Train Acc: 0.5879 | Train F1-Macro: 0.5879\n",
            "Epoch 15 | Validation Loss: 0.692095 | Validation Acc: 0.5500 | Validation F1-Macro: 0.5442\n",
            ".........................................................................................\n",
            "Epoch 16 | Train Loss: 0.736754 | Train Acc: 0.5700 | Train F1-Macro: 0.5700\n",
            "Epoch 16 | Validation Loss: 0.691810 | Validation Acc: 0.5594 | Validation F1-Macro: 0.5546\n",
            ".........................................................................................\n",
            "Epoch 17 | Train Loss: 0.727601 | Train Acc: 0.5771 | Train F1-Macro: 0.5769\n",
            "Epoch 17 | Validation Loss: 0.697946 | Validation Acc: 0.5375 | Validation F1-Macro: 0.5229\n",
            ".........................................................................................\n",
            "Epoch 18 | Train Loss: 0.725019 | Train Acc: 0.5832 | Train F1-Macro: 0.5830\n",
            "Epoch 18 | Validation Loss: 0.690920 | Validation Acc: 0.5656 | Validation F1-Macro: 0.5625\n",
            ".........................................................................................\n",
            "Epoch 19 | Train Loss: 0.706523 | Train Acc: 0.5914 | Train F1-Macro: 0.5914\n",
            "Epoch 19 | Validation Loss: 0.695198 | Validation Acc: 0.5406 | Validation F1-Macro: 0.5305\n",
            ".........................................................................................\n",
            "Epoch 20 | Train Loss: 0.722118 | Train Acc: 0.5814 | Train F1-Macro: 0.5814\n",
            "Epoch 20 | Validation Loss: 0.693588 | Validation Acc: 0.5469 | Validation F1-Macro: 0.5377\n",
            ".........................................................................................\n",
            "Epoch 21 | Train Loss: 0.692520 | Train Acc: 0.5979 | Train F1-Macro: 0.5978\n",
            "Epoch 21 | Validation Loss: 0.693546 | Validation Acc: 0.5469 | Validation F1-Macro: 0.5369\n",
            ".........................................................................................\n",
            "Epoch 22 | Train Loss: 0.695205 | Train Acc: 0.6011 | Train F1-Macro: 0.6011\n",
            "Epoch 22 | Validation Loss: 0.691888 | Validation Acc: 0.5563 | Validation F1-Macro: 0.5477\n",
            ".........................................................................................\n",
            "Epoch 23 | Train Loss: 0.706047 | Train Acc: 0.5975 | Train F1-Macro: 0.5975\n",
            "Epoch 23 | Validation Loss: 0.694511 | Validation Acc: 0.5406 | Validation F1-Macro: 0.5296\n",
            ".........................................................................................\n",
            "Epoch 24 | Train Loss: 0.691754 | Train Acc: 0.6000 | Train F1-Macro: 0.6000\n",
            "Epoch 24 | Validation Loss: 0.695640 | Validation Acc: 0.5375 | Validation F1-Macro: 0.5259\n",
            ".........................................................................................\n",
            "Epoch 25 | Train Loss: 0.680894 | Train Acc: 0.6132 | Train F1-Macro: 0.6132\n",
            "Epoch 25 | Validation Loss: 0.693087 | Validation Acc: 0.5500 | Validation F1-Macro: 0.5405\n",
            ".........................................................................................\n",
            "Epoch 26 | Train Loss: 0.682424 | Train Acc: 0.6157 | Train F1-Macro: 0.6157\n",
            "Epoch 26 | Validation Loss: 0.692193 | Validation Acc: 0.5469 | Validation F1-Macro: 0.5377\n",
            ".........................................................................................\n",
            "Epoch 27 | Train Loss: 0.687141 | Train Acc: 0.5982 | Train F1-Macro: 0.5982\n",
            "Epoch 27 | Validation Loss: 0.691435 | Validation Acc: 0.5563 | Validation F1-Macro: 0.5492\n",
            ".........................................................................................\n",
            "Epoch 28 | Train Loss: 0.656890 | Train Acc: 0.6304 | Train F1-Macro: 0.6303\n",
            "Epoch 28 | Validation Loss: 0.694407 | Validation Acc: 0.5500 | Validation F1-Macro: 0.5396\n",
            ".........................................................................................\n",
            "Epoch 29 | Train Loss: 0.672549 | Train Acc: 0.6218 | Train F1-Macro: 0.6217\n",
            "Epoch 29 | Validation Loss: 0.692187 | Validation Acc: 0.5312 | Validation F1-Macro: 0.5259\n",
            ".........................................................................................\n",
            "Epoch 30 | Train Loss: 0.676006 | Train Acc: 0.6168 | Train F1-Macro: 0.6168\n",
            "Epoch 30 | Validation Loss: 0.696016 | Validation Acc: 0.5437 | Validation F1-Macro: 0.5323\n",
            ".........................................................................................\n",
            "Epoch 31 | Train Loss: 0.668868 | Train Acc: 0.6164 | Train F1-Macro: 0.6164\n",
            "Epoch 31 | Validation Loss: 0.696477 | Validation Acc: 0.5375 | Validation F1-Macro: 0.5250\n",
            ".........................................................................................\n",
            "Epoch 32 | Train Loss: 0.650053 | Train Acc: 0.6425 | Train F1-Macro: 0.6424\n",
            "Epoch 32 | Validation Loss: 0.693643 | Validation Acc: 0.5531 | Validation F1-Macro: 0.5441\n",
            ".........................................................................................\n",
            "Epoch 33 | Train Loss: 0.653731 | Train Acc: 0.6354 | Train F1-Macro: 0.6353\n",
            "Epoch 33 | Validation Loss: 0.693520 | Validation Acc: 0.5312 | Validation F1-Macro: 0.5252\n",
            ".........................................................................................\n",
            "Epoch 34 | Train Loss: 0.660749 | Train Acc: 0.6382 | Train F1-Macro: 0.6382\n",
            "Epoch 34 | Validation Loss: 0.692773 | Validation Acc: 0.5344 | Validation F1-Macro: 0.5287\n",
            ".........................................................................................\n",
            "Epoch 35 | Train Loss: 0.650101 | Train Acc: 0.6343 | Train F1-Macro: 0.6343\n",
            "Epoch 35 | Validation Loss: 0.693764 | Validation Acc: 0.5281 | Validation F1-Macro: 0.5217\n",
            ".........................................................................................\n",
            "Epoch 36 | Train Loss: 0.658768 | Train Acc: 0.6418 | Train F1-Macro: 0.6417\n",
            "Epoch 36 | Validation Loss: 0.693598 | Validation Acc: 0.5344 | Validation F1-Macro: 0.5287\n",
            ".........................................................................................\n",
            "Epoch 37 | Train Loss: 0.634199 | Train Acc: 0.6511 | Train F1-Macro: 0.6510\n",
            "Epoch 37 | Validation Loss: 0.696363 | Validation Acc: 0.5406 | Validation F1-Macro: 0.5287\n",
            ".........................................................................................\n",
            "Epoch 38 | Train Loss: 0.631498 | Train Acc: 0.6532 | Train F1-Macro: 0.6531\n",
            "Epoch 38 | Validation Loss: 0.692206 | Validation Acc: 0.5406 | Validation F1-Macro: 0.5357\n",
            ".........................................................................................\n",
            "Epoch 39 | Train Loss: 0.647440 | Train Acc: 0.6418 | Train F1-Macro: 0.6416\n",
            "Epoch 39 | Validation Loss: 0.689115 | Validation Acc: 0.5500 | Validation F1-Macro: 0.5465\n",
            ".........................................................................................\n",
            "Epoch 40 | Train Loss: 0.638166 | Train Acc: 0.6471 | Train F1-Macro: 0.6471\n",
            "Epoch 40 | Validation Loss: 0.692692 | Validation Acc: 0.5406 | Validation F1-Macro: 0.5357\n",
            ".........................................................................................\n",
            "Epoch 41 | Train Loss: 0.627329 | Train Acc: 0.6536 | Train F1-Macro: 0.6535\n",
            "Epoch 41 | Validation Loss: 0.691960 | Validation Acc: 0.5406 | Validation F1-Macro: 0.5357\n",
            ".........................................................................................\n",
            "Epoch 42 | Train Loss: 0.633234 | Train Acc: 0.6493 | Train F1-Macro: 0.6493\n",
            "Epoch 42 | Validation Loss: 0.693028 | Validation Acc: 0.5375 | Validation F1-Macro: 0.5322\n",
            ".........................................................................................\n",
            "Epoch 43 | Train Loss: 0.627083 | Train Acc: 0.6668 | Train F1-Macro: 0.6667\n",
            "Epoch 43 | Validation Loss: 0.694004 | Validation Acc: 0.5312 | Validation F1-Macro: 0.5252\n",
            ".........................................................................................\n",
            "Epoch 44 | Train Loss: 0.617251 | Train Acc: 0.6621 | Train F1-Macro: 0.6621\n",
            "Epoch 44 | Validation Loss: 0.694233 | Validation Acc: 0.5281 | Validation F1-Macro: 0.5224\n",
            ".........................................................................................\n",
            "Epoch 45 | Train Loss: 0.606020 | Train Acc: 0.6739 | Train F1-Macro: 0.6739\n",
            "Epoch 45 | Validation Loss: 0.694254 | Validation Acc: 0.5312 | Validation F1-Macro: 0.5259\n",
            ".........................................................................................\n",
            "Epoch 46 | Train Loss: 0.608625 | Train Acc: 0.6671 | Train F1-Macro: 0.6671\n",
            "Epoch 46 | Validation Loss: 0.691687 | Validation Acc: 0.5406 | Validation F1-Macro: 0.5363\n",
            ".........................................................................................\n",
            "Epoch 47 | Train Loss: 0.611195 | Train Acc: 0.6643 | Train F1-Macro: 0.6643\n",
            "Epoch 47 | Validation Loss: 0.692964 | Validation Acc: 0.5375 | Validation F1-Macro: 0.5328\n",
            ".........................................................................................\n",
            "Epoch 48 | Train Loss: 0.604299 | Train Acc: 0.6689 | Train F1-Macro: 0.6689\n",
            "Epoch 48 | Validation Loss: 0.694584 | Validation Acc: 0.5219 | Validation F1-Macro: 0.5154\n",
            ".........................................................................................\n",
            "Epoch 49 | Train Loss: 0.601885 | Train Acc: 0.6743 | Train F1-Macro: 0.6743\n",
            "Epoch 49 | Validation Loss: 0.695128 | Validation Acc: 0.5188 | Validation F1-Macro: 0.5119\n",
            ".........................................................................................\n",
            "Epoch 50 | Train Loss: 0.598205 | Train Acc: 0.6779 | Train F1-Macro: 0.6779\n",
            "Epoch 50 | Validation Loss: 0.696974 | Validation Acc: 0.5219 | Validation F1-Macro: 0.5131\n",
            ".........................................................................................\n",
            "Test Accuracy: 0.5152\n",
            "Test F1-Macro: 0.5151\n"
          ]
        }
      ]
    },
    {
      "cell_type": "code",
      "source": [
        "train_obj = Train(embed_dim=300, pretrained_embeddings=True, epoch=50, lr=0.0001, dropout=0.5, weight_decay=0.00001, filter_sizes=[3, 4, 5], num_filters=[100, 100, 100])\n",
        "model = train_obj.train_model(device, train_dataloader, val_dataloader)\n",
        "test_model(model, device, test_dataloader)"
      ],
      "metadata": {
        "colab": {
          "base_uri": "https://localhost:8080/"
        },
        "id": "4nAtlyNkhdRA",
        "outputId": "ee5009dc-3383-4711-c5cf-80f4feddc39f"
      },
      "execution_count": 350,
      "outputs": [
        {
          "output_type": "stream",
          "name": "stdout",
          "text": [
            "using pretrained embedding\n",
            "Start training...\n",
            "\n",
            "Epoch  1 | Train Loss: 1.072349 | Train Acc: 0.5154 | Train F1-Macro: 0.5123\n",
            "Epoch  1 | Validation Loss: 0.727376 | Validation Acc: 0.5406 | Validation F1-Macro: 0.5382\n",
            ".........................................................................................\n",
            "Epoch  2 | Train Loss: 1.012160 | Train Acc: 0.5179 | Train F1-Macro: 0.5178\n",
            "Epoch  2 | Validation Loss: 0.749698 | Validation Acc: 0.5406 | Validation F1-Macro: 0.5406\n",
            ".........................................................................................\n",
            "Epoch  3 | Train Loss: 0.993536 | Train Acc: 0.5254 | Train F1-Macro: 0.5253\n",
            "Epoch  3 | Validation Loss: 0.747979 | Validation Acc: 0.5312 | Validation F1-Macro: 0.5312\n",
            ".........................................................................................\n",
            "Epoch  4 | Train Loss: 1.008120 | Train Acc: 0.5243 | Train F1-Macro: 0.5241\n",
            "Epoch  4 | Validation Loss: 0.748104 | Validation Acc: 0.5406 | Validation F1-Macro: 0.5404\n",
            ".........................................................................................\n",
            "Epoch  5 | Train Loss: 0.997855 | Train Acc: 0.5371 | Train F1-Macro: 0.5371\n",
            "Epoch  5 | Validation Loss: 0.746543 | Validation Acc: 0.5437 | Validation F1-Macro: 0.5437\n",
            ".........................................................................................\n",
            "Epoch  6 | Train Loss: 0.960643 | Train Acc: 0.5404 | Train F1-Macro: 0.5404\n",
            "Epoch  6 | Validation Loss: 0.742502 | Validation Acc: 0.5312 | Validation F1-Macro: 0.5311\n",
            ".........................................................................................\n",
            "Epoch  7 | Train Loss: 0.970828 | Train Acc: 0.5393 | Train F1-Macro: 0.5390\n",
            "Epoch  7 | Validation Loss: 0.746048 | Validation Acc: 0.5469 | Validation F1-Macro: 0.5449\n",
            ".........................................................................................\n",
            "Epoch  8 | Train Loss: 0.957583 | Train Acc: 0.5468 | Train F1-Macro: 0.5468\n",
            "Epoch  8 | Validation Loss: 0.744013 | Validation Acc: 0.5469 | Validation F1-Macro: 0.5459\n",
            ".........................................................................................\n",
            "Epoch  9 | Train Loss: 0.932033 | Train Acc: 0.5575 | Train F1-Macro: 0.5575\n",
            "Epoch  9 | Validation Loss: 0.740709 | Validation Acc: 0.5437 | Validation F1-Macro: 0.5436\n",
            ".........................................................................................\n",
            "Epoch 10 | Train Loss: 0.896687 | Train Acc: 0.5689 | Train F1-Macro: 0.5689\n",
            "Epoch 10 | Validation Loss: 0.740376 | Validation Acc: 0.5406 | Validation F1-Macro: 0.5404\n",
            ".........................................................................................\n",
            "Epoch 11 | Train Loss: 0.917823 | Train Acc: 0.5539 | Train F1-Macro: 0.5539\n",
            "Epoch 11 | Validation Loss: 0.738526 | Validation Acc: 0.5375 | Validation F1-Macro: 0.5374\n",
            ".........................................................................................\n",
            "Epoch 12 | Train Loss: 0.877023 | Train Acc: 0.5589 | Train F1-Macro: 0.5589\n",
            "Epoch 12 | Validation Loss: 0.737024 | Validation Acc: 0.5437 | Validation F1-Macro: 0.5437\n",
            ".........................................................................................\n",
            "Epoch 13 | Train Loss: 0.912545 | Train Acc: 0.5536 | Train F1-Macro: 0.5534\n",
            "Epoch 13 | Validation Loss: 0.737046 | Validation Acc: 0.5437 | Validation F1-Macro: 0.5435\n",
            ".........................................................................................\n",
            "Epoch 14 | Train Loss: 0.911275 | Train Acc: 0.5550 | Train F1-Macro: 0.5550\n",
            "Epoch 14 | Validation Loss: 0.737892 | Validation Acc: 0.5469 | Validation F1-Macro: 0.5461\n",
            ".........................................................................................\n",
            "Epoch 15 | Train Loss: 0.903269 | Train Acc: 0.5518 | Train F1-Macro: 0.5518\n",
            "Epoch 15 | Validation Loss: 0.739222 | Validation Acc: 0.5531 | Validation F1-Macro: 0.5508\n",
            ".........................................................................................\n",
            "Epoch 16 | Train Loss: 0.886680 | Train Acc: 0.5621 | Train F1-Macro: 0.5621\n",
            "Epoch 16 | Validation Loss: 0.734180 | Validation Acc: 0.5437 | Validation F1-Macro: 0.5426\n",
            ".........................................................................................\n",
            "Epoch 17 | Train Loss: 0.871277 | Train Acc: 0.5511 | Train F1-Macro: 0.5511\n",
            "Epoch 17 | Validation Loss: 0.734688 | Validation Acc: 0.5437 | Validation F1-Macro: 0.5426\n",
            ".........................................................................................\n",
            "Epoch 18 | Train Loss: 0.876185 | Train Acc: 0.5554 | Train F1-Macro: 0.5553\n",
            "Epoch 18 | Validation Loss: 0.734090 | Validation Acc: 0.5563 | Validation F1-Macro: 0.5548\n",
            ".........................................................................................\n",
            "Epoch 19 | Train Loss: 0.829292 | Train Acc: 0.5650 | Train F1-Macro: 0.5650\n",
            "Epoch 19 | Validation Loss: 0.730657 | Validation Acc: 0.5500 | Validation F1-Macro: 0.5497\n",
            ".........................................................................................\n",
            "Epoch 20 | Train Loss: 0.830080 | Train Acc: 0.5836 | Train F1-Macro: 0.5835\n",
            "Epoch 20 | Validation Loss: 0.732747 | Validation Acc: 0.5437 | Validation F1-Macro: 0.5420\n",
            ".........................................................................................\n",
            "Epoch 21 | Train Loss: 0.850342 | Train Acc: 0.5707 | Train F1-Macro: 0.5707\n",
            "Epoch 21 | Validation Loss: 0.731130 | Validation Acc: 0.5437 | Validation F1-Macro: 0.5423\n",
            ".........................................................................................\n",
            "Epoch 22 | Train Loss: 0.840254 | Train Acc: 0.5700 | Train F1-Macro: 0.5700\n",
            "Epoch 22 | Validation Loss: 0.729701 | Validation Acc: 0.5344 | Validation F1-Macro: 0.5336\n",
            ".........................................................................................\n",
            "Epoch 23 | Train Loss: 0.829548 | Train Acc: 0.5843 | Train F1-Macro: 0.5842\n",
            "Epoch 23 | Validation Loss: 0.731588 | Validation Acc: 0.5406 | Validation F1-Macro: 0.5382\n",
            ".........................................................................................\n",
            "Epoch 24 | Train Loss: 0.829502 | Train Acc: 0.5632 | Train F1-Macro: 0.5632\n",
            "Epoch 24 | Validation Loss: 0.729309 | Validation Acc: 0.5406 | Validation F1-Macro: 0.5386\n",
            ".........................................................................................\n",
            "Epoch 25 | Train Loss: 0.853321 | Train Acc: 0.5679 | Train F1-Macro: 0.5678\n",
            "Epoch 25 | Validation Loss: 0.727657 | Validation Acc: 0.5375 | Validation F1-Macro: 0.5363\n",
            ".........................................................................................\n",
            "Epoch 26 | Train Loss: 0.817827 | Train Acc: 0.5789 | Train F1-Macro: 0.5789\n",
            "Epoch 26 | Validation Loss: 0.727735 | Validation Acc: 0.5375 | Validation F1-Macro: 0.5353\n",
            ".........................................................................................\n",
            "Epoch 27 | Train Loss: 0.784709 | Train Acc: 0.5936 | Train F1-Macro: 0.5936\n",
            "Epoch 27 | Validation Loss: 0.726722 | Validation Acc: 0.5500 | Validation F1-Macro: 0.5494\n",
            ".........................................................................................\n",
            "Epoch 28 | Train Loss: 0.761615 | Train Acc: 0.5982 | Train F1-Macro: 0.5982\n",
            "Epoch 28 | Validation Loss: 0.725661 | Validation Acc: 0.5406 | Validation F1-Macro: 0.5396\n",
            ".........................................................................................\n",
            "Epoch 29 | Train Loss: 0.787808 | Train Acc: 0.5889 | Train F1-Macro: 0.5889\n",
            "Epoch 29 | Validation Loss: 0.726209 | Validation Acc: 0.5375 | Validation F1-Macro: 0.5353\n",
            ".........................................................................................\n",
            "Epoch 30 | Train Loss: 0.782072 | Train Acc: 0.5729 | Train F1-Macro: 0.5728\n",
            "Epoch 30 | Validation Loss: 0.725549 | Validation Acc: 0.5344 | Validation F1-Macro: 0.5331\n",
            ".........................................................................................\n",
            "Epoch 31 | Train Loss: 0.774035 | Train Acc: 0.5829 | Train F1-Macro: 0.5828\n",
            "Epoch 31 | Validation Loss: 0.725209 | Validation Acc: 0.5375 | Validation F1-Macro: 0.5349\n",
            ".........................................................................................\n",
            "Epoch 32 | Train Loss: 0.778605 | Train Acc: 0.5950 | Train F1-Macro: 0.5949\n",
            "Epoch 32 | Validation Loss: 0.723950 | Validation Acc: 0.5344 | Validation F1-Macro: 0.5331\n",
            ".........................................................................................\n",
            "Epoch 33 | Train Loss: 0.783617 | Train Acc: 0.5911 | Train F1-Macro: 0.5911\n",
            "Epoch 33 | Validation Loss: 0.723082 | Validation Acc: 0.5500 | Validation F1-Macro: 0.5494\n",
            ".........................................................................................\n",
            "Epoch 34 | Train Loss: 0.762131 | Train Acc: 0.5986 | Train F1-Macro: 0.5986\n",
            "Epoch 34 | Validation Loss: 0.723564 | Validation Acc: 0.5344 | Validation F1-Macro: 0.5331\n",
            ".........................................................................................\n",
            "Epoch 35 | Train Loss: 0.770764 | Train Acc: 0.5886 | Train F1-Macro: 0.5886\n",
            "Epoch 35 | Validation Loss: 0.722857 | Validation Acc: 0.5375 | Validation F1-Macro: 0.5357\n",
            ".........................................................................................\n",
            "Epoch 36 | Train Loss: 0.731896 | Train Acc: 0.6064 | Train F1-Macro: 0.6064\n",
            "Epoch 36 | Validation Loss: 0.725803 | Validation Acc: 0.5312 | Validation F1-Macro: 0.5276\n",
            ".........................................................................................\n",
            "Epoch 37 | Train Loss: 0.743572 | Train Acc: 0.6111 | Train F1-Macro: 0.6111\n",
            "Epoch 37 | Validation Loss: 0.724157 | Validation Acc: 0.5312 | Validation F1-Macro: 0.5281\n",
            ".........................................................................................\n",
            "Epoch 38 | Train Loss: 0.743704 | Train Acc: 0.5886 | Train F1-Macro: 0.5886\n",
            "Epoch 38 | Validation Loss: 0.724791 | Validation Acc: 0.5281 | Validation F1-Macro: 0.5247\n",
            ".........................................................................................\n",
            "Epoch 39 | Train Loss: 0.746848 | Train Acc: 0.6039 | Train F1-Macro: 0.6039\n",
            "Epoch 39 | Validation Loss: 0.721006 | Validation Acc: 0.5406 | Validation F1-Macro: 0.5396\n",
            ".........................................................................................\n",
            "Epoch 40 | Train Loss: 0.724169 | Train Acc: 0.6093 | Train F1-Macro: 0.6093\n",
            "Epoch 40 | Validation Loss: 0.719515 | Validation Acc: 0.5437 | Validation F1-Macro: 0.5429\n",
            ".........................................................................................\n",
            "Epoch 41 | Train Loss: 0.728255 | Train Acc: 0.6061 | Train F1-Macro: 0.6060\n",
            "Epoch 41 | Validation Loss: 0.720468 | Validation Acc: 0.5375 | Validation F1-Macro: 0.5349\n",
            ".........................................................................................\n",
            "Epoch 42 | Train Loss: 0.729686 | Train Acc: 0.5979 | Train F1-Macro: 0.5979\n",
            "Epoch 42 | Validation Loss: 0.719600 | Validation Acc: 0.5375 | Validation F1-Macro: 0.5363\n",
            ".........................................................................................\n",
            "Epoch 43 | Train Loss: 0.742604 | Train Acc: 0.6011 | Train F1-Macro: 0.6011\n",
            "Epoch 43 | Validation Loss: 0.721024 | Validation Acc: 0.5281 | Validation F1-Macro: 0.5257\n",
            ".........................................................................................\n",
            "Epoch 44 | Train Loss: 0.729914 | Train Acc: 0.6082 | Train F1-Macro: 0.6082\n",
            "Epoch 44 | Validation Loss: 0.719391 | Validation Acc: 0.5344 | Validation F1-Macro: 0.5315\n",
            ".........................................................................................\n",
            "Epoch 45 | Train Loss: 0.718818 | Train Acc: 0.6068 | Train F1-Macro: 0.6068\n",
            "Epoch 45 | Validation Loss: 0.720069 | Validation Acc: 0.5281 | Validation F1-Macro: 0.5257\n",
            ".........................................................................................\n",
            "Epoch 46 | Train Loss: 0.729656 | Train Acc: 0.6061 | Train F1-Macro: 0.6061\n",
            "Epoch 46 | Validation Loss: 0.718531 | Validation Acc: 0.5281 | Validation F1-Macro: 0.5261\n",
            ".........................................................................................\n",
            "Epoch 47 | Train Loss: 0.721998 | Train Acc: 0.5982 | Train F1-Macro: 0.5982\n",
            "Epoch 47 | Validation Loss: 0.717492 | Validation Acc: 0.5563 | Validation F1-Macro: 0.5558\n",
            ".........................................................................................\n",
            "Epoch 48 | Train Loss: 0.696520 | Train Acc: 0.6218 | Train F1-Macro: 0.6217\n",
            "Epoch 48 | Validation Loss: 0.718089 | Validation Acc: 0.5281 | Validation F1-Macro: 0.5261\n",
            ".........................................................................................\n",
            "Epoch 49 | Train Loss: 0.715298 | Train Acc: 0.6136 | Train F1-Macro: 0.6136\n",
            "Epoch 49 | Validation Loss: 0.716101 | Validation Acc: 0.5531 | Validation F1-Macro: 0.5528\n",
            ".........................................................................................\n",
            "Epoch 50 | Train Loss: 0.709292 | Train Acc: 0.6114 | Train F1-Macro: 0.6114\n",
            "Epoch 50 | Validation Loss: 0.716487 | Validation Acc: 0.5312 | Validation F1-Macro: 0.5294\n",
            ".........................................................................................\n",
            "Test Accuracy: 0.5233\n",
            "Test F1-Macro: 0.5215\n"
          ]
        }
      ]
    },
    {
      "cell_type": "code",
      "source": [
        "# MODEL IS OVERFITTING\n",
        "train_obj = Train(embed_dim=300, pretrained_embeddings=True, epoch=50, lr=0.001, dropout=0.2, weight_decay=0.000001, filter_sizes=[3, 3, 4, 5], num_filters=[100, 100, 100, 100])\n",
        "model = train_obj.train_model(device, train_dataloader, val_dataloader)\n",
        "test_model(model, device, test_dataloader)"
      ],
      "metadata": {
        "colab": {
          "base_uri": "https://localhost:8080/"
        },
        "id": "zTgVCeEsuWlT",
        "outputId": "50ad941c-0e20-48f0-b87c-d24c4e5f18ff"
      },
      "execution_count": 351,
      "outputs": [
        {
          "output_type": "stream",
          "name": "stdout",
          "text": [
            "using pretrained embedding\n",
            "Start training...\n",
            "\n",
            "Epoch  1 | Train Loss: 0.827017 | Train Acc: 0.5271 | Train F1-Macro: 0.5270\n",
            "Epoch  1 | Validation Loss: 0.711638 | Validation Acc: 0.5094 | Validation F1-Macro: 0.4869\n",
            ".........................................................................................\n",
            "Epoch  2 | Train Loss: 0.747559 | Train Acc: 0.5746 | Train F1-Macro: 0.5746\n",
            "Epoch  2 | Validation Loss: 0.721975 | Validation Acc: 0.5281 | Validation F1-Macro: 0.5202\n",
            ".........................................................................................\n",
            "Epoch  3 | Train Loss: 0.700405 | Train Acc: 0.6014 | Train F1-Macro: 0.6014\n",
            "Epoch  3 | Validation Loss: 0.712928 | Validation Acc: 0.5437 | Validation F1-Macro: 0.5391\n",
            ".........................................................................................\n",
            "Epoch  4 | Train Loss: 0.655253 | Train Acc: 0.6371 | Train F1-Macro: 0.6371\n",
            "Epoch  4 | Validation Loss: 0.714881 | Validation Acc: 0.5437 | Validation F1-Macro: 0.5372\n",
            ".........................................................................................\n",
            "Epoch  5 | Train Loss: 0.604236 | Train Acc: 0.6800 | Train F1-Macro: 0.6800\n",
            "Epoch  5 | Validation Loss: 0.723451 | Validation Acc: 0.5656 | Validation F1-Macro: 0.5444\n",
            ".........................................................................................\n",
            "Epoch  6 | Train Loss: 0.576837 | Train Acc: 0.7043 | Train F1-Macro: 0.7043\n",
            "Epoch  6 | Validation Loss: 0.719882 | Validation Acc: 0.5719 | Validation F1-Macro: 0.5522\n",
            ".........................................................................................\n",
            "Epoch  7 | Train Loss: 0.549018 | Train Acc: 0.7282 | Train F1-Macro: 0.7282\n",
            "Epoch  7 | Validation Loss: 0.706548 | Validation Acc: 0.5531 | Validation F1-Macro: 0.5504\n",
            ".........................................................................................\n",
            "Epoch  8 | Train Loss: 0.544520 | Train Acc: 0.7254 | Train F1-Macro: 0.7253\n",
            "Epoch  8 | Validation Loss: 0.707604 | Validation Acc: 0.5719 | Validation F1-Macro: 0.5692\n",
            ".........................................................................................\n",
            "Epoch  9 | Train Loss: 0.524923 | Train Acc: 0.7425 | Train F1-Macro: 0.7425\n",
            "Epoch  9 | Validation Loss: 0.711196 | Validation Acc: 0.5781 | Validation F1-Macro: 0.5711\n",
            ".........................................................................................\n",
            "Epoch 10 | Train Loss: 0.495184 | Train Acc: 0.7686 | Train F1-Macro: 0.7686\n",
            "Epoch 10 | Validation Loss: 0.721669 | Validation Acc: 0.5844 | Validation F1-Macro: 0.5653\n",
            ".........................................................................................\n",
            "Epoch 11 | Train Loss: 0.489067 | Train Acc: 0.7739 | Train F1-Macro: 0.7739\n",
            "Epoch 11 | Validation Loss: 0.713265 | Validation Acc: 0.5969 | Validation F1-Macro: 0.5931\n",
            ".........................................................................................\n",
            "Epoch 12 | Train Loss: 0.457081 | Train Acc: 0.7921 | Train F1-Macro: 0.7921\n",
            "Epoch 12 | Validation Loss: 0.711965 | Validation Acc: 0.5844 | Validation F1-Macro: 0.5826\n",
            ".........................................................................................\n",
            "Epoch 13 | Train Loss: 0.443402 | Train Acc: 0.8050 | Train F1-Macro: 0.8050\n",
            "Epoch 13 | Validation Loss: 0.712004 | Validation Acc: 0.5656 | Validation F1-Macro: 0.5651\n",
            ".........................................................................................\n",
            "Epoch 14 | Train Loss: 0.429146 | Train Acc: 0.8111 | Train F1-Macro: 0.8111\n",
            "Epoch 14 | Validation Loss: 0.714304 | Validation Acc: 0.5875 | Validation F1-Macro: 0.5859\n",
            ".........................................................................................\n",
            "Epoch 15 | Train Loss: 0.423402 | Train Acc: 0.8125 | Train F1-Macro: 0.8125\n",
            "Epoch 15 | Validation Loss: 0.721496 | Validation Acc: 0.6000 | Validation F1-Macro: 0.5943\n",
            ".........................................................................................\n",
            "Epoch 16 | Train Loss: 0.399869 | Train Acc: 0.8275 | Train F1-Macro: 0.8275\n",
            "Epoch 16 | Validation Loss: 0.721587 | Validation Acc: 0.6000 | Validation F1-Macro: 0.5969\n",
            ".........................................................................................\n",
            "Epoch 17 | Train Loss: 0.400004 | Train Acc: 0.8304 | Train F1-Macro: 0.8304\n",
            "Epoch 17 | Validation Loss: 0.717738 | Validation Acc: 0.5875 | Validation F1-Macro: 0.5871\n",
            ".........................................................................................\n",
            "Epoch 18 | Train Loss: 0.379141 | Train Acc: 0.8475 | Train F1-Macro: 0.8475\n",
            "Epoch 18 | Validation Loss: 0.725469 | Validation Acc: 0.5969 | Validation F1-Macro: 0.5948\n",
            ".........................................................................................\n",
            "Epoch 19 | Train Loss: 0.365751 | Train Acc: 0.8579 | Train F1-Macro: 0.8579\n",
            "Epoch 19 | Validation Loss: 0.725517 | Validation Acc: 0.5844 | Validation F1-Macro: 0.5829\n",
            ".........................................................................................\n",
            "Epoch 20 | Train Loss: 0.360405 | Train Acc: 0.8582 | Train F1-Macro: 0.8582\n",
            "Epoch 20 | Validation Loss: 0.735301 | Validation Acc: 0.5875 | Validation F1-Macro: 0.5843\n",
            ".........................................................................................\n",
            "Epoch 21 | Train Loss: 0.334395 | Train Acc: 0.8771 | Train F1-Macro: 0.8771\n",
            "Epoch 21 | Validation Loss: 0.737254 | Validation Acc: 0.5875 | Validation F1-Macro: 0.5843\n",
            ".........................................................................................\n",
            "Epoch 22 | Train Loss: 0.325825 | Train Acc: 0.8825 | Train F1-Macro: 0.8825\n",
            "Epoch 22 | Validation Loss: 0.735039 | Validation Acc: 0.6031 | Validation F1-Macro: 0.6011\n",
            ".........................................................................................\n",
            "Epoch 23 | Train Loss: 0.316631 | Train Acc: 0.8800 | Train F1-Macro: 0.8800\n",
            "Epoch 23 | Validation Loss: 0.740612 | Validation Acc: 0.5938 | Validation F1-Macro: 0.5915\n",
            ".........................................................................................\n",
            "Epoch 24 | Train Loss: 0.316033 | Train Acc: 0.8800 | Train F1-Macro: 0.8800\n",
            "Epoch 24 | Validation Loss: 0.741419 | Validation Acc: 0.5906 | Validation F1-Macro: 0.5885\n",
            ".........................................................................................\n",
            "Epoch 25 | Train Loss: 0.294094 | Train Acc: 0.9000 | Train F1-Macro: 0.9000\n",
            "Epoch 25 | Validation Loss: 0.740299 | Validation Acc: 0.5969 | Validation F1-Macro: 0.5969\n",
            ".........................................................................................\n",
            "Epoch 26 | Train Loss: 0.292436 | Train Acc: 0.8989 | Train F1-Macro: 0.8989\n",
            "Epoch 26 | Validation Loss: 0.745179 | Validation Acc: 0.5969 | Validation F1-Macro: 0.5969\n",
            ".........................................................................................\n",
            "Epoch 27 | Train Loss: 0.282450 | Train Acc: 0.8979 | Train F1-Macro: 0.8979\n",
            "Epoch 27 | Validation Loss: 0.759188 | Validation Acc: 0.6000 | Validation F1-Macro: 0.5949\n",
            ".........................................................................................\n",
            "Epoch 28 | Train Loss: 0.281053 | Train Acc: 0.9011 | Train F1-Macro: 0.9011\n",
            "Epoch 28 | Validation Loss: 0.749041 | Validation Acc: 0.6062 | Validation F1-Macro: 0.6060\n",
            ".........................................................................................\n",
            "Epoch 29 | Train Loss: 0.262030 | Train Acc: 0.9161 | Train F1-Macro: 0.9161\n",
            "Epoch 29 | Validation Loss: 0.757543 | Validation Acc: 0.5969 | Validation F1-Macro: 0.5951\n",
            ".........................................................................................\n",
            "Epoch 30 | Train Loss: 0.248887 | Train Acc: 0.9179 | Train F1-Macro: 0.9179\n",
            "Epoch 30 | Validation Loss: 0.755793 | Validation Acc: 0.6000 | Validation F1-Macro: 0.6000\n",
            ".........................................................................................\n",
            "Epoch 31 | Train Loss: 0.248077 | Train Acc: 0.9182 | Train F1-Macro: 0.9182\n",
            "Epoch 31 | Validation Loss: 0.767365 | Validation Acc: 0.5969 | Validation F1-Macro: 0.5954\n",
            ".........................................................................................\n",
            "Epoch 32 | Train Loss: 0.250611 | Train Acc: 0.9136 | Train F1-Macro: 0.9136\n",
            "Epoch 32 | Validation Loss: 0.770692 | Validation Acc: 0.6156 | Validation F1-Macro: 0.6145\n",
            ".........................................................................................\n",
            "Epoch 33 | Train Loss: 0.232688 | Train Acc: 0.9289 | Train F1-Macro: 0.9289\n",
            "Epoch 33 | Validation Loss: 0.776669 | Validation Acc: 0.5938 | Validation F1-Macro: 0.5918\n",
            ".........................................................................................\n",
            "Epoch 34 | Train Loss: 0.232514 | Train Acc: 0.9254 | Train F1-Macro: 0.9254\n",
            "Epoch 34 | Validation Loss: 0.774741 | Validation Acc: 0.6000 | Validation F1-Macro: 0.5997\n",
            ".........................................................................................\n",
            "Epoch 35 | Train Loss: 0.222489 | Train Acc: 0.9257 | Train F1-Macro: 0.9257\n",
            "Epoch 35 | Validation Loss: 0.775854 | Validation Acc: 0.6000 | Validation F1-Macro: 0.5999\n",
            ".........................................................................................\n",
            "Epoch 36 | Train Loss: 0.210676 | Train Acc: 0.9357 | Train F1-Macro: 0.9357\n",
            "Epoch 36 | Validation Loss: 0.781776 | Validation Acc: 0.6031 | Validation F1-Macro: 0.6029\n",
            ".........................................................................................\n",
            "Epoch 37 | Train Loss: 0.215743 | Train Acc: 0.9368 | Train F1-Macro: 0.9368\n",
            "Epoch 37 | Validation Loss: 0.789433 | Validation Acc: 0.6000 | Validation F1-Macro: 0.6000\n",
            ".........................................................................................\n",
            "Epoch 38 | Train Loss: 0.194104 | Train Acc: 0.9418 | Train F1-Macro: 0.9418\n",
            "Epoch 38 | Validation Loss: 0.793350 | Validation Acc: 0.5938 | Validation F1-Macro: 0.5936\n",
            ".........................................................................................\n",
            "Epoch 39 | Train Loss: 0.198689 | Train Acc: 0.9379 | Train F1-Macro: 0.9379\n",
            "Epoch 39 | Validation Loss: 0.798958 | Validation Acc: 0.5781 | Validation F1-Macro: 0.5778\n",
            ".........................................................................................\n",
            "Epoch 40 | Train Loss: 0.191181 | Train Acc: 0.9407 | Train F1-Macro: 0.9407\n",
            "Epoch 40 | Validation Loss: 0.798347 | Validation Acc: 0.5813 | Validation F1-Macro: 0.5804\n",
            ".........................................................................................\n",
            "Epoch 41 | Train Loss: 0.182101 | Train Acc: 0.9496 | Train F1-Macro: 0.9496\n",
            "Epoch 41 | Validation Loss: 0.802507 | Validation Acc: 0.5813 | Validation F1-Macro: 0.5799\n",
            ".........................................................................................\n",
            "Epoch 42 | Train Loss: 0.184910 | Train Acc: 0.9475 | Train F1-Macro: 0.9475\n",
            "Epoch 42 | Validation Loss: 0.801279 | Validation Acc: 0.5875 | Validation F1-Macro: 0.5874\n",
            ".........................................................................................\n",
            "Epoch 43 | Train Loss: 0.169385 | Train Acc: 0.9546 | Train F1-Macro: 0.9546\n",
            "Epoch 43 | Validation Loss: 0.811106 | Validation Acc: 0.5875 | Validation F1-Macro: 0.5865\n",
            ".........................................................................................\n",
            "Epoch 44 | Train Loss: 0.169256 | Train Acc: 0.9507 | Train F1-Macro: 0.9507\n",
            "Epoch 44 | Validation Loss: 0.814183 | Validation Acc: 0.5750 | Validation F1-Macro: 0.5739\n",
            ".........................................................................................\n",
            "Epoch 45 | Train Loss: 0.166165 | Train Acc: 0.9507 | Train F1-Macro: 0.9507\n",
            "Epoch 45 | Validation Loss: 0.826748 | Validation Acc: 0.5719 | Validation F1-Macro: 0.5683\n",
            ".........................................................................................\n",
            "Epoch 46 | Train Loss: 0.157861 | Train Acc: 0.9586 | Train F1-Macro: 0.9586\n",
            "Epoch 46 | Validation Loss: 0.828061 | Validation Acc: 0.5719 | Validation F1-Macro: 0.5709\n",
            ".........................................................................................\n",
            "Epoch 47 | Train Loss: 0.154559 | Train Acc: 0.9589 | Train F1-Macro: 0.9589\n",
            "Epoch 47 | Validation Loss: 0.830985 | Validation Acc: 0.5813 | Validation F1-Macro: 0.5810\n",
            ".........................................................................................\n",
            "Epoch 48 | Train Loss: 0.149615 | Train Acc: 0.9589 | Train F1-Macro: 0.9589\n",
            "Epoch 48 | Validation Loss: 0.833391 | Validation Acc: 0.5781 | Validation F1-Macro: 0.5779\n",
            ".........................................................................................\n",
            "Epoch 49 | Train Loss: 0.149111 | Train Acc: 0.9632 | Train F1-Macro: 0.9632\n",
            "Epoch 49 | Validation Loss: 0.832951 | Validation Acc: 0.5813 | Validation F1-Macro: 0.5812\n",
            ".........................................................................................\n",
            "Epoch 50 | Train Loss: 0.145025 | Train Acc: 0.9600 | Train F1-Macro: 0.9600\n",
            "Epoch 50 | Validation Loss: 0.842763 | Validation Acc: 0.5844 | Validation F1-Macro: 0.5840\n",
            ".........................................................................................\n",
            "Test Accuracy: 0.5600\n",
            "Test F1-Macro: 0.5512\n"
          ]
        }
      ]
    },
    {
      "cell_type": "code",
      "source": [
        "# BEST HYPERPArAMETERS\n",
        "train_obj = Train(embed_dim=300, pretrained_embeddings=True, epoch=50, lr=0.0001, dropout=0.5, weight_decay=0.001, filter_sizes=[3, 3, 4, 4, 5], num_filters=[100, 100, 100, 100, 100])\n",
        "model = train_obj.train_model(device, train_dataloader, val_dataloader)\n",
        "test_model(model, device, test_dataloader)"
      ],
      "metadata": {
        "colab": {
          "base_uri": "https://localhost:8080/"
        },
        "id": "XHKYHgzsyUub",
        "outputId": "4cc13b21-bbd1-4ecd-d685-371288b681d3"
      },
      "execution_count": 352,
      "outputs": [
        {
          "output_type": "stream",
          "name": "stdout",
          "text": [
            "using pretrained embedding\n",
            "Start training...\n",
            "\n",
            "Epoch  1 | Train Loss: 1.131005 | Train Acc: 0.5046 | Train F1-Macro: 0.5008\n",
            "Epoch  1 | Validation Loss: 0.704471 | Validation Acc: 0.5750 | Validation F1-Macro: 0.5746\n",
            ".........................................................................................\n",
            "Epoch  2 | Train Loss: 1.058034 | Train Acc: 0.5193 | Train F1-Macro: 0.5190\n",
            "Epoch  2 | Validation Loss: 0.724114 | Validation Acc: 0.5719 | Validation F1-Macro: 0.5718\n",
            ".........................................................................................\n",
            "Epoch  3 | Train Loss: 1.061867 | Train Acc: 0.5154 | Train F1-Macro: 0.5150\n",
            "Epoch  3 | Validation Loss: 0.722918 | Validation Acc: 0.5687 | Validation F1-Macro: 0.5681\n",
            ".........................................................................................\n",
            "Epoch  4 | Train Loss: 1.040483 | Train Acc: 0.5129 | Train F1-Macro: 0.5127\n",
            "Epoch  4 | Validation Loss: 0.721993 | Validation Acc: 0.5594 | Validation F1-Macro: 0.5562\n",
            ".........................................................................................\n",
            "Epoch  5 | Train Loss: 1.037617 | Train Acc: 0.5214 | Train F1-Macro: 0.5211\n",
            "Epoch  5 | Validation Loss: 0.723266 | Validation Acc: 0.5563 | Validation F1-Macro: 0.5499\n",
            ".........................................................................................\n",
            "Epoch  6 | Train Loss: 0.973248 | Train Acc: 0.5336 | Train F1-Macro: 0.5336\n",
            "Epoch  6 | Validation Loss: 0.724499 | Validation Acc: 0.5531 | Validation F1-Macro: 0.5457\n",
            ".........................................................................................\n",
            "Epoch  7 | Train Loss: 0.977714 | Train Acc: 0.5446 | Train F1-Macro: 0.5446\n",
            "Epoch  7 | Validation Loss: 0.717148 | Validation Acc: 0.5906 | Validation F1-Macro: 0.5899\n",
            ".........................................................................................\n",
            "Epoch  8 | Train Loss: 0.984927 | Train Acc: 0.5275 | Train F1-Macro: 0.5273\n",
            "Epoch  8 | Validation Loss: 0.717123 | Validation Acc: 0.5906 | Validation F1-Macro: 0.5889\n",
            ".........................................................................................\n",
            "Epoch  9 | Train Loss: 0.963212 | Train Acc: 0.5439 | Train F1-Macro: 0.5439\n",
            "Epoch  9 | Validation Loss: 0.715021 | Validation Acc: 0.6000 | Validation F1-Macro: 0.5990\n",
            ".........................................................................................\n",
            "Epoch 10 | Train Loss: 0.941659 | Train Acc: 0.5482 | Train F1-Macro: 0.5482\n",
            "Epoch 10 | Validation Loss: 0.714963 | Validation Acc: 0.6000 | Validation F1-Macro: 0.5990\n",
            ".........................................................................................\n",
            "Epoch 11 | Train Loss: 0.939811 | Train Acc: 0.5475 | Train F1-Macro: 0.5475\n",
            "Epoch 11 | Validation Loss: 0.713316 | Validation Acc: 0.5781 | Validation F1-Macro: 0.5759\n",
            ".........................................................................................\n",
            "Epoch 12 | Train Loss: 0.938865 | Train Acc: 0.5579 | Train F1-Macro: 0.5578\n",
            "Epoch 12 | Validation Loss: 0.710629 | Validation Acc: 0.6094 | Validation F1-Macro: 0.6087\n",
            ".........................................................................................\n",
            "Epoch 13 | Train Loss: 0.923598 | Train Acc: 0.5593 | Train F1-Macro: 0.5592\n",
            "Epoch 13 | Validation Loss: 0.710708 | Validation Acc: 0.6031 | Validation F1-Macro: 0.6029\n",
            ".........................................................................................\n",
            "Epoch 14 | Train Loss: 0.929734 | Train Acc: 0.5625 | Train F1-Macro: 0.5625\n",
            "Epoch 14 | Validation Loss: 0.709060 | Validation Acc: 0.6094 | Validation F1-Macro: 0.6091\n",
            ".........................................................................................\n",
            "Epoch 15 | Train Loss: 0.896783 | Train Acc: 0.5579 | Train F1-Macro: 0.5578\n",
            "Epoch 15 | Validation Loss: 0.708945 | Validation Acc: 0.6094 | Validation F1-Macro: 0.6087\n",
            ".........................................................................................\n",
            "Epoch 16 | Train Loss: 0.892959 | Train Acc: 0.5536 | Train F1-Macro: 0.5536\n",
            "Epoch 16 | Validation Loss: 0.707632 | Validation Acc: 0.5906 | Validation F1-Macro: 0.5892\n",
            ".........................................................................................\n",
            "Epoch 17 | Train Loss: 0.868488 | Train Acc: 0.5736 | Train F1-Macro: 0.5736\n",
            "Epoch 17 | Validation Loss: 0.709818 | Validation Acc: 0.5813 | Validation F1-Macro: 0.5789\n",
            ".........................................................................................\n",
            "Epoch 18 | Train Loss: 0.864822 | Train Acc: 0.5800 | Train F1-Macro: 0.5800\n",
            "Epoch 18 | Validation Loss: 0.708640 | Validation Acc: 0.5813 | Validation F1-Macro: 0.5789\n",
            ".........................................................................................\n",
            "Epoch 19 | Train Loss: 0.875414 | Train Acc: 0.5714 | Train F1-Macro: 0.5714\n",
            "Epoch 19 | Validation Loss: 0.707725 | Validation Acc: 0.5813 | Validation F1-Macro: 0.5789\n",
            ".........................................................................................\n",
            "Epoch 20 | Train Loss: 0.841756 | Train Acc: 0.5829 | Train F1-Macro: 0.5828\n",
            "Epoch 20 | Validation Loss: 0.706464 | Validation Acc: 0.6000 | Validation F1-Macro: 0.5987\n",
            ".........................................................................................\n",
            "Epoch 21 | Train Loss: 0.853550 | Train Acc: 0.5650 | Train F1-Macro: 0.5649\n",
            "Epoch 21 | Validation Loss: 0.708122 | Validation Acc: 0.5875 | Validation F1-Macro: 0.5843\n",
            ".........................................................................................\n",
            "Epoch 22 | Train Loss: 0.842936 | Train Acc: 0.5854 | Train F1-Macro: 0.5854\n",
            "Epoch 22 | Validation Loss: 0.704556 | Validation Acc: 0.6125 | Validation F1-Macro: 0.6120\n",
            ".........................................................................................\n",
            "Epoch 23 | Train Loss: 0.829747 | Train Acc: 0.5911 | Train F1-Macro: 0.5911\n",
            "Epoch 23 | Validation Loss: 0.703895 | Validation Acc: 0.6125 | Validation F1-Macro: 0.6120\n",
            ".........................................................................................\n",
            "Epoch 24 | Train Loss: 0.827856 | Train Acc: 0.5804 | Train F1-Macro: 0.5804\n",
            "Epoch 24 | Validation Loss: 0.703340 | Validation Acc: 0.6094 | Validation F1-Macro: 0.6087\n",
            ".........................................................................................\n",
            "Epoch 25 | Train Loss: 0.814343 | Train Acc: 0.5764 | Train F1-Macro: 0.5764\n",
            "Epoch 25 | Validation Loss: 0.706288 | Validation Acc: 0.5906 | Validation F1-Macro: 0.5867\n",
            ".........................................................................................\n",
            "Epoch 26 | Train Loss: 0.815906 | Train Acc: 0.5864 | Train F1-Macro: 0.5864\n",
            "Epoch 26 | Validation Loss: 0.703865 | Validation Acc: 0.5969 | Validation F1-Macro: 0.5951\n",
            ".........................................................................................\n",
            "Epoch 27 | Train Loss: 0.816023 | Train Acc: 0.5764 | Train F1-Macro: 0.5764\n",
            "Epoch 27 | Validation Loss: 0.702040 | Validation Acc: 0.6031 | Validation F1-Macro: 0.6017\n",
            ".........................................................................................\n",
            "Epoch 28 | Train Loss: 0.778080 | Train Acc: 0.6046 | Train F1-Macro: 0.6046\n",
            "Epoch 28 | Validation Loss: 0.701378 | Validation Acc: 0.6219 | Validation F1-Macro: 0.6212\n",
            ".........................................................................................\n",
            "Epoch 29 | Train Loss: 0.813725 | Train Acc: 0.5800 | Train F1-Macro: 0.5800\n",
            "Epoch 29 | Validation Loss: 0.701830 | Validation Acc: 0.6062 | Validation F1-Macro: 0.6050\n",
            ".........................................................................................\n",
            "Epoch 30 | Train Loss: 0.781446 | Train Acc: 0.5864 | Train F1-Macro: 0.5864\n",
            "Epoch 30 | Validation Loss: 0.703938 | Validation Acc: 0.5938 | Validation F1-Macro: 0.5901\n",
            ".........................................................................................\n",
            "Epoch 31 | Train Loss: 0.802396 | Train Acc: 0.5921 | Train F1-Macro: 0.5921\n",
            "Epoch 31 | Validation Loss: 0.701870 | Validation Acc: 0.6000 | Validation F1-Macro: 0.5981\n",
            ".........................................................................................\n",
            "Epoch 32 | Train Loss: 0.779368 | Train Acc: 0.5971 | Train F1-Macro: 0.5971\n",
            "Epoch 32 | Validation Loss: 0.697944 | Validation Acc: 0.6156 | Validation F1-Macro: 0.6154\n",
            ".........................................................................................\n",
            "Epoch 33 | Train Loss: 0.772284 | Train Acc: 0.5946 | Train F1-Macro: 0.5946\n",
            "Epoch 33 | Validation Loss: 0.699079 | Validation Acc: 0.6125 | Validation F1-Macro: 0.6115\n",
            ".........................................................................................\n",
            "Epoch 34 | Train Loss: 0.769721 | Train Acc: 0.6068 | Train F1-Macro: 0.6068\n",
            "Epoch 34 | Validation Loss: 0.704500 | Validation Acc: 0.5750 | Validation F1-Macro: 0.5689\n",
            ".........................................................................................\n",
            "Epoch 35 | Train Loss: 0.773423 | Train Acc: 0.6021 | Train F1-Macro: 0.6021\n",
            "Epoch 35 | Validation Loss: 0.698164 | Validation Acc: 0.6156 | Validation F1-Macro: 0.6145\n",
            ".........................................................................................\n",
            "Epoch 36 | Train Loss: 0.766183 | Train Acc: 0.6032 | Train F1-Macro: 0.6032\n",
            "Epoch 36 | Validation Loss: 0.696672 | Validation Acc: 0.6188 | Validation F1-Macro: 0.6180\n",
            ".........................................................................................\n",
            "Epoch 37 | Train Loss: 0.758550 | Train Acc: 0.6104 | Train F1-Macro: 0.6103\n",
            "Epoch 37 | Validation Loss: 0.697284 | Validation Acc: 0.6031 | Validation F1-Macro: 0.6014\n",
            ".........................................................................................\n",
            "Epoch 38 | Train Loss: 0.750420 | Train Acc: 0.5979 | Train F1-Macro: 0.5978\n",
            "Epoch 38 | Validation Loss: 0.702174 | Validation Acc: 0.5781 | Validation F1-Macro: 0.5718\n",
            ".........................................................................................\n",
            "Epoch 39 | Train Loss: 0.750355 | Train Acc: 0.6000 | Train F1-Macro: 0.6000\n",
            "Epoch 39 | Validation Loss: 0.699476 | Validation Acc: 0.5875 | Validation F1-Macro: 0.5833\n",
            ".........................................................................................\n",
            "Epoch 40 | Train Loss: 0.747141 | Train Acc: 0.6018 | Train F1-Macro: 0.6018\n",
            "Epoch 40 | Validation Loss: 0.694953 | Validation Acc: 0.6094 | Validation F1-Macro: 0.6080\n",
            ".........................................................................................\n",
            "Epoch 41 | Train Loss: 0.712553 | Train Acc: 0.6207 | Train F1-Macro: 0.6207\n",
            "Epoch 41 | Validation Loss: 0.695507 | Validation Acc: 0.6062 | Validation F1-Macro: 0.6047\n",
            ".........................................................................................\n",
            "Epoch 42 | Train Loss: 0.731833 | Train Acc: 0.6021 | Train F1-Macro: 0.6021\n",
            "Epoch 42 | Validation Loss: 0.695769 | Validation Acc: 0.6000 | Validation F1-Macro: 0.5981\n",
            ".........................................................................................\n",
            "Epoch 43 | Train Loss: 0.728588 | Train Acc: 0.6204 | Train F1-Macro: 0.6204\n",
            "Epoch 43 | Validation Loss: 0.694969 | Validation Acc: 0.6000 | Validation F1-Macro: 0.5977\n",
            ".........................................................................................\n",
            "Epoch 44 | Train Loss: 0.743337 | Train Acc: 0.6036 | Train F1-Macro: 0.6036\n",
            "Epoch 44 | Validation Loss: 0.692185 | Validation Acc: 0.6219 | Validation F1-Macro: 0.6210\n",
            ".........................................................................................\n",
            "Epoch 45 | Train Loss: 0.736520 | Train Acc: 0.6182 | Train F1-Macro: 0.6182\n",
            "Epoch 45 | Validation Loss: 0.693460 | Validation Acc: 0.6094 | Validation F1-Macro: 0.6080\n",
            ".........................................................................................\n",
            "Epoch 46 | Train Loss: 0.744484 | Train Acc: 0.6025 | Train F1-Macro: 0.6025\n",
            "Epoch 46 | Validation Loss: 0.690519 | Validation Acc: 0.6094 | Validation F1-Macro: 0.6093\n",
            ".........................................................................................\n",
            "Epoch 47 | Train Loss: 0.705857 | Train Acc: 0.6200 | Train F1-Macro: 0.6199\n",
            "Epoch 47 | Validation Loss: 0.693009 | Validation Acc: 0.6125 | Validation F1-Macro: 0.6113\n",
            ".........................................................................................\n",
            "Epoch 48 | Train Loss: 0.717369 | Train Acc: 0.6168 | Train F1-Macro: 0.6168\n",
            "Epoch 48 | Validation Loss: 0.690915 | Validation Acc: 0.6281 | Validation F1-Macro: 0.6275\n",
            ".........................................................................................\n",
            "Epoch 49 | Train Loss: 0.716618 | Train Acc: 0.6161 | Train F1-Macro: 0.6160\n",
            "Epoch 49 | Validation Loss: 0.694660 | Validation Acc: 0.5938 | Validation F1-Macro: 0.5901\n",
            ".........................................................................................\n",
            "Epoch 50 | Train Loss: 0.721704 | Train Acc: 0.6136 | Train F1-Macro: 0.6136\n",
            "Epoch 50 | Validation Loss: 0.692858 | Validation Acc: 0.6031 | Validation F1-Macro: 0.6014\n",
            ".........................................................................................\n",
            "Test Accuracy: 0.5484\n",
            "Test F1-Macro: 0.5483\n"
          ]
        }
      ]
    },
    {
      "cell_type": "code",
      "source": [
        "#### NOT REPORTED\n",
        "train_obj = Train(embed_dim=50, pretrained_embeddings=True, epoch=50, lr=0.0001, dropout=0.2, weight_decay=0.00001, filter_sizes=[3, 3, 4, 5], num_filters=[150, 150, 150, 150])\n",
        "model = train_obj.train_model(device, train_dataloader, val_dataloader)\n",
        "test_model(model, device, test_dataloader)"
      ],
      "metadata": {
        "colab": {
          "base_uri": "https://localhost:8080/"
        },
        "id": "gNFIFcqpuXQe",
        "outputId": "a478d706-f5ec-4fc5-fe58-31df8a338b6d"
      },
      "execution_count": 353,
      "outputs": [
        {
          "output_type": "stream",
          "name": "stdout",
          "text": [
            "using pretrained embedding\n",
            "Start training...\n",
            "\n",
            "Epoch  1 | Train Loss: 0.859515 | Train Acc: 0.5204 | Train F1-Macro: 0.5183\n",
            "Epoch  1 | Validation Loss: 0.753476 | Validation Acc: 0.5156 | Validation F1-Macro: 0.5122\n",
            ".........................................................................................\n",
            "Epoch  2 | Train Loss: 0.833441 | Train Acc: 0.5229 | Train F1-Macro: 0.5225\n",
            "Epoch  2 | Validation Loss: 0.769097 | Validation Acc: 0.5156 | Validation F1-Macro: 0.5122\n",
            ".........................................................................................\n",
            "Epoch  3 | Train Loss: 0.853287 | Train Acc: 0.5129 | Train F1-Macro: 0.5127\n",
            "Epoch  3 | Validation Loss: 0.770157 | Validation Acc: 0.5156 | Validation F1-Macro: 0.5122\n",
            ".........................................................................................\n",
            "Epoch  4 | Train Loss: 0.827330 | Train Acc: 0.5250 | Train F1-Macro: 0.5246\n",
            "Epoch  4 | Validation Loss: 0.764839 | Validation Acc: 0.5125 | Validation F1-Macro: 0.5087\n",
            ".........................................................................................\n",
            "Epoch  5 | Train Loss: 0.850002 | Train Acc: 0.5021 | Train F1-Macro: 0.5015\n",
            "Epoch  5 | Validation Loss: 0.765663 | Validation Acc: 0.5094 | Validation F1-Macro: 0.5053\n",
            ".........................................................................................\n",
            "Epoch  6 | Train Loss: 0.848157 | Train Acc: 0.5046 | Train F1-Macro: 0.5043\n",
            "Epoch  6 | Validation Loss: 0.766770 | Validation Acc: 0.5031 | Validation F1-Macro: 0.4984\n",
            ".........................................................................................\n",
            "Epoch  7 | Train Loss: 0.816503 | Train Acc: 0.5346 | Train F1-Macro: 0.5345\n",
            "Epoch  7 | Validation Loss: 0.757211 | Validation Acc: 0.4813 | Validation F1-Macro: 0.4812\n",
            ".........................................................................................\n",
            "Epoch  8 | Train Loss: 0.820070 | Train Acc: 0.5254 | Train F1-Macro: 0.5249\n",
            "Epoch  8 | Validation Loss: 0.761007 | Validation Acc: 0.5094 | Validation F1-Macro: 0.5068\n",
            ".........................................................................................\n",
            "Epoch  9 | Train Loss: 0.811436 | Train Acc: 0.5311 | Train F1-Macro: 0.5306\n",
            "Epoch  9 | Validation Loss: 0.763552 | Validation Acc: 0.5094 | Validation F1-Macro: 0.5041\n",
            ".........................................................................................\n",
            "Epoch 10 | Train Loss: 0.815811 | Train Acc: 0.5229 | Train F1-Macro: 0.5225\n",
            "Epoch 10 | Validation Loss: 0.761076 | Validation Acc: 0.5000 | Validation F1-Macro: 0.4943\n",
            ".........................................................................................\n",
            "Epoch 11 | Train Loss: 0.827106 | Train Acc: 0.5071 | Train F1-Macro: 0.5070\n",
            "Epoch 11 | Validation Loss: 0.762843 | Validation Acc: 0.5125 | Validation F1-Macro: 0.5055\n",
            ".........................................................................................\n",
            "Epoch 12 | Train Loss: 0.825489 | Train Acc: 0.5186 | Train F1-Macro: 0.5183\n",
            "Epoch 12 | Validation Loss: 0.762815 | Validation Acc: 0.5062 | Validation F1-Macro: 0.4984\n",
            ".........................................................................................\n",
            "Epoch 13 | Train Loss: 0.803491 | Train Acc: 0.5332 | Train F1-Macro: 0.5332\n",
            "Epoch 13 | Validation Loss: 0.758505 | Validation Acc: 0.5156 | Validation F1-Macro: 0.5091\n",
            ".........................................................................................\n",
            "Epoch 14 | Train Loss: 0.792695 | Train Acc: 0.5350 | Train F1-Macro: 0.5349\n",
            "Epoch 14 | Validation Loss: 0.754652 | Validation Acc: 0.4969 | Validation F1-Macro: 0.4955\n",
            ".........................................................................................\n",
            "Epoch 15 | Train Loss: 0.789653 | Train Acc: 0.5429 | Train F1-Macro: 0.5424\n",
            "Epoch 15 | Validation Loss: 0.772310 | Validation Acc: 0.4844 | Validation F1-Macro: 0.4709\n",
            ".........................................................................................\n",
            "Epoch 16 | Train Loss: 0.803751 | Train Acc: 0.5354 | Train F1-Macro: 0.5352\n",
            "Epoch 16 | Validation Loss: 0.771117 | Validation Acc: 0.4844 | Validation F1-Macro: 0.4720\n",
            ".........................................................................................\n",
            "Epoch 17 | Train Loss: 0.795424 | Train Acc: 0.5325 | Train F1-Macro: 0.5325\n",
            "Epoch 17 | Validation Loss: 0.762339 | Validation Acc: 0.4938 | Validation F1-Macro: 0.4840\n",
            ".........................................................................................\n",
            "Epoch 18 | Train Loss: 0.777054 | Train Acc: 0.5571 | Train F1-Macro: 0.5570\n",
            "Epoch 18 | Validation Loss: 0.762863 | Validation Acc: 0.4938 | Validation F1-Macro: 0.4840\n",
            ".........................................................................................\n",
            "Epoch 19 | Train Loss: 0.781636 | Train Acc: 0.5350 | Train F1-Macro: 0.5349\n",
            "Epoch 19 | Validation Loss: 0.767181 | Validation Acc: 0.4781 | Validation F1-Macro: 0.4656\n",
            ".........................................................................................\n",
            "Epoch 20 | Train Loss: 0.797273 | Train Acc: 0.5346 | Train F1-Macro: 0.5346\n",
            "Epoch 20 | Validation Loss: 0.760194 | Validation Acc: 0.4938 | Validation F1-Macro: 0.4840\n",
            ".........................................................................................\n",
            "Epoch 21 | Train Loss: 0.781666 | Train Acc: 0.5421 | Train F1-Macro: 0.5421\n",
            "Epoch 21 | Validation Loss: 0.753926 | Validation Acc: 0.5031 | Validation F1-Macro: 0.4948\n",
            ".........................................................................................\n",
            "Epoch 22 | Train Loss: 0.752506 | Train Acc: 0.5568 | Train F1-Macro: 0.5568\n",
            "Epoch 22 | Validation Loss: 0.751543 | Validation Acc: 0.5031 | Validation F1-Macro: 0.4996\n",
            ".........................................................................................\n",
            "Epoch 23 | Train Loss: 0.756711 | Train Acc: 0.5536 | Train F1-Macro: 0.5534\n",
            "Epoch 23 | Validation Loss: 0.755129 | Validation Acc: 0.4969 | Validation F1-Macro: 0.4915\n",
            ".........................................................................................\n",
            "Epoch 24 | Train Loss: 0.782465 | Train Acc: 0.5379 | Train F1-Macro: 0.5378\n",
            "Epoch 24 | Validation Loss: 0.753795 | Validation Acc: 0.4938 | Validation F1-Macro: 0.4880\n",
            ".........................................................................................\n",
            "Epoch 25 | Train Loss: 0.763155 | Train Acc: 0.5604 | Train F1-Macro: 0.5601\n",
            "Epoch 25 | Validation Loss: 0.764777 | Validation Acc: 0.4781 | Validation F1-Macro: 0.4645\n",
            ".........................................................................................\n",
            "Epoch 26 | Train Loss: 0.779773 | Train Acc: 0.5325 | Train F1-Macro: 0.5325\n",
            "Epoch 26 | Validation Loss: 0.762602 | Validation Acc: 0.4844 | Validation F1-Macro: 0.4730\n",
            ".........................................................................................\n",
            "Epoch 27 | Train Loss: 0.763957 | Train Acc: 0.5500 | Train F1-Macro: 0.5499\n",
            "Epoch 27 | Validation Loss: 0.756088 | Validation Acc: 0.4969 | Validation F1-Macro: 0.4876\n",
            ".........................................................................................\n",
            "Epoch 28 | Train Loss: 0.752744 | Train Acc: 0.5557 | Train F1-Macro: 0.5557\n",
            "Epoch 28 | Validation Loss: 0.751521 | Validation Acc: 0.4969 | Validation F1-Macro: 0.4915\n",
            ".........................................................................................\n",
            "Epoch 29 | Train Loss: 0.760626 | Train Acc: 0.5489 | Train F1-Macro: 0.5489\n",
            "Epoch 29 | Validation Loss: 0.748857 | Validation Acc: 0.5031 | Validation F1-Macro: 0.4984\n",
            ".........................................................................................\n",
            "Epoch 30 | Train Loss: 0.752351 | Train Acc: 0.5539 | Train F1-Macro: 0.5538\n",
            "Epoch 30 | Validation Loss: 0.752613 | Validation Acc: 0.4969 | Validation F1-Macro: 0.4915\n",
            ".........................................................................................\n",
            "Epoch 31 | Train Loss: 0.754012 | Train Acc: 0.5621 | Train F1-Macro: 0.5621\n",
            "Epoch 31 | Validation Loss: 0.750345 | Validation Acc: 0.5094 | Validation F1-Macro: 0.5053\n",
            ".........................................................................................\n",
            "Epoch 32 | Train Loss: 0.756988 | Train Acc: 0.5568 | Train F1-Macro: 0.5567\n",
            "Epoch 32 | Validation Loss: 0.757781 | Validation Acc: 0.4875 | Validation F1-Macro: 0.4785\n",
            ".........................................................................................\n",
            "Epoch 33 | Train Loss: 0.747969 | Train Acc: 0.5614 | Train F1-Macro: 0.5614\n",
            "Epoch 33 | Validation Loss: 0.753772 | Validation Acc: 0.4875 | Validation F1-Macro: 0.4809\n",
            ".........................................................................................\n",
            "Epoch 34 | Train Loss: 0.748772 | Train Acc: 0.5532 | Train F1-Macro: 0.5531\n",
            "Epoch 34 | Validation Loss: 0.756324 | Validation Acc: 0.4906 | Validation F1-Macro: 0.4821\n",
            ".........................................................................................\n",
            "Epoch 35 | Train Loss: 0.756158 | Train Acc: 0.5646 | Train F1-Macro: 0.5646\n",
            "Epoch 35 | Validation Loss: 0.750730 | Validation Acc: 0.5031 | Validation F1-Macro: 0.4984\n",
            ".........................................................................................\n",
            "Epoch 36 | Train Loss: 0.733454 | Train Acc: 0.5661 | Train F1-Macro: 0.5661\n",
            "Epoch 36 | Validation Loss: 0.748555 | Validation Acc: 0.5062 | Validation F1-Macro: 0.5019\n",
            ".........................................................................................\n",
            "Epoch 37 | Train Loss: 0.749686 | Train Acc: 0.5554 | Train F1-Macro: 0.5553\n",
            "Epoch 37 | Validation Loss: 0.749800 | Validation Acc: 0.5031 | Validation F1-Macro: 0.4984\n",
            ".........................................................................................\n",
            "Epoch 38 | Train Loss: 0.732570 | Train Acc: 0.5632 | Train F1-Macro: 0.5632\n",
            "Epoch 38 | Validation Loss: 0.748327 | Validation Acc: 0.5031 | Validation F1-Macro: 0.4984\n",
            ".........................................................................................\n",
            "Epoch 39 | Train Loss: 0.733645 | Train Acc: 0.5743 | Train F1-Macro: 0.5743\n",
            "Epoch 39 | Validation Loss: 0.751597 | Validation Acc: 0.4906 | Validation F1-Macro: 0.4845\n",
            ".........................................................................................\n",
            "Epoch 40 | Train Loss: 0.718466 | Train Acc: 0.5800 | Train F1-Macro: 0.5800\n",
            "Epoch 40 | Validation Loss: 0.749768 | Validation Acc: 0.4969 | Validation F1-Macro: 0.4915\n",
            ".........................................................................................\n",
            "Epoch 41 | Train Loss: 0.730868 | Train Acc: 0.5743 | Train F1-Macro: 0.5743\n",
            "Epoch 41 | Validation Loss: 0.746778 | Validation Acc: 0.5094 | Validation F1-Macro: 0.5053\n",
            ".........................................................................................\n",
            "Epoch 42 | Train Loss: 0.732168 | Train Acc: 0.5679 | Train F1-Macro: 0.5678\n",
            "Epoch 42 | Validation Loss: 0.749205 | Validation Acc: 0.5000 | Validation F1-Macro: 0.4949\n",
            ".........................................................................................\n",
            "Epoch 43 | Train Loss: 0.714522 | Train Acc: 0.5889 | Train F1-Macro: 0.5889\n",
            "Epoch 43 | Validation Loss: 0.744723 | Validation Acc: 0.5031 | Validation F1-Macro: 0.5001\n",
            ".........................................................................................\n",
            "Epoch 44 | Train Loss: 0.716114 | Train Acc: 0.5761 | Train F1-Macro: 0.5760\n",
            "Epoch 44 | Validation Loss: 0.750383 | Validation Acc: 0.5062 | Validation F1-Macro: 0.4999\n",
            ".........................................................................................\n",
            "Epoch 45 | Train Loss: 0.723788 | Train Acc: 0.5746 | Train F1-Macro: 0.5746\n",
            "Epoch 45 | Validation Loss: 0.750749 | Validation Acc: 0.5062 | Validation F1-Macro: 0.4999\n",
            ".........................................................................................\n",
            "Epoch 46 | Train Loss: 0.719614 | Train Acc: 0.5711 | Train F1-Macro: 0.5711\n",
            "Epoch 46 | Validation Loss: 0.745776 | Validation Acc: 0.5094 | Validation F1-Macro: 0.5053\n",
            ".........................................................................................\n",
            "Epoch 47 | Train Loss: 0.714526 | Train Acc: 0.5861 | Train F1-Macro: 0.5861\n",
            "Epoch 47 | Validation Loss: 0.744089 | Validation Acc: 0.5031 | Validation F1-Macro: 0.5005\n",
            ".........................................................................................\n",
            "Epoch 48 | Train Loss: 0.712066 | Train Acc: 0.5868 | Train F1-Macro: 0.5868\n",
            "Epoch 48 | Validation Loss: 0.753386 | Validation Acc: 0.4906 | Validation F1-Macro: 0.4813\n",
            ".........................................................................................\n",
            "Epoch 49 | Train Loss: 0.711636 | Train Acc: 0.5875 | Train F1-Macro: 0.5875\n",
            "Epoch 49 | Validation Loss: 0.746321 | Validation Acc: 0.5125 | Validation F1-Macro: 0.5069\n",
            ".........................................................................................\n",
            "Epoch 50 | Train Loss: 0.700873 | Train Acc: 0.5911 | Train F1-Macro: 0.5911\n",
            "Epoch 50 | Validation Loss: 0.739607 | Validation Acc: 0.5094 | Validation F1-Macro: 0.5086\n",
            ".........................................................................................\n",
            "Test Accuracy: 0.5233\n",
            "Test F1-Macro: 0.5223\n"
          ]
        }
      ]
    },
    {
      "cell_type": "code",
      "source": [
        "train_obj = Train(embed_dim=50, pretrained_embeddings=True, epoch=50, lr=0.0001, dropout=0.2, weight_decay=0.00001, filter_sizes=[3, 4, 5], num_filters=[150, 150, 150])\n",
        "model = train_obj.train_model(device, train_dataloader, val_dataloader)\n",
        "test_model(model, device, test_dataloader)"
      ],
      "metadata": {
        "colab": {
          "base_uri": "https://localhost:8080/"
        },
        "id": "WQQvUb9ouXy-",
        "outputId": "d0a70100-23c7-4c1d-cbdb-67f1883234bc"
      },
      "execution_count": 354,
      "outputs": [
        {
          "output_type": "stream",
          "name": "stdout",
          "text": [
            "using pretrained embedding\n",
            "Start training...\n",
            "\n",
            "Epoch  1 | Train Loss: 0.906150 | Train Acc: 0.4818 | Train F1-Macro: 0.4816\n",
            "Epoch  1 | Validation Loss: 0.720526 | Validation Acc: 0.5406 | Validation F1-Macro: 0.5403\n",
            ".........................................................................................\n",
            "Epoch  2 | Train Loss: 0.889799 | Train Acc: 0.4821 | Train F1-Macro: 0.4817\n",
            "Epoch  2 | Validation Loss: 0.728167 | Validation Acc: 0.5375 | Validation F1-Macro: 0.5372\n",
            ".........................................................................................\n",
            "Epoch  3 | Train Loss: 0.893631 | Train Acc: 0.4843 | Train F1-Macro: 0.4843\n",
            "Epoch  3 | Validation Loss: 0.726136 | Validation Acc: 0.5437 | Validation F1-Macro: 0.5412\n",
            ".........................................................................................\n",
            "Epoch  4 | Train Loss: 0.888807 | Train Acc: 0.4614 | Train F1-Macro: 0.4607\n",
            "Epoch  4 | Validation Loss: 0.724337 | Validation Acc: 0.5281 | Validation F1-Macro: 0.5265\n",
            ".........................................................................................\n",
            "Epoch  5 | Train Loss: 0.865428 | Train Acc: 0.4986 | Train F1-Macro: 0.4982\n",
            "Epoch  5 | Validation Loss: 0.721627 | Validation Acc: 0.5375 | Validation F1-Macro: 0.5353\n",
            ".........................................................................................\n",
            "Epoch  6 | Train Loss: 0.858180 | Train Acc: 0.4982 | Train F1-Macro: 0.4975\n",
            "Epoch  6 | Validation Loss: 0.722614 | Validation Acc: 0.5437 | Validation F1-Macro: 0.5436\n",
            ".........................................................................................\n",
            "Epoch  7 | Train Loss: 0.861831 | Train Acc: 0.4925 | Train F1-Macro: 0.4923\n",
            "Epoch  7 | Validation Loss: 0.721179 | Validation Acc: 0.5437 | Validation F1-Macro: 0.5435\n",
            ".........................................................................................\n",
            "Epoch  8 | Train Loss: 0.863304 | Train Acc: 0.4871 | Train F1-Macro: 0.4865\n",
            "Epoch  8 | Validation Loss: 0.724102 | Validation Acc: 0.5219 | Validation F1-Macro: 0.5219\n",
            ".........................................................................................\n",
            "Epoch  9 | Train Loss: 0.853372 | Train Acc: 0.4982 | Train F1-Macro: 0.4976\n",
            "Epoch  9 | Validation Loss: 0.722141 | Validation Acc: 0.5156 | Validation F1-Macro: 0.5156\n",
            ".........................................................................................\n",
            "Epoch 10 | Train Loss: 0.839763 | Train Acc: 0.5064 | Train F1-Macro: 0.5063\n",
            "Epoch 10 | Validation Loss: 0.720768 | Validation Acc: 0.5312 | Validation F1-Macro: 0.5312\n",
            ".........................................................................................\n",
            "Epoch 11 | Train Loss: 0.831907 | Train Acc: 0.5143 | Train F1-Macro: 0.5141\n",
            "Epoch 11 | Validation Loss: 0.717331 | Validation Acc: 0.5375 | Validation F1-Macro: 0.5373\n",
            ".........................................................................................\n",
            "Epoch 12 | Train Loss: 0.825919 | Train Acc: 0.5118 | Train F1-Macro: 0.5115\n",
            "Epoch 12 | Validation Loss: 0.718296 | Validation Acc: 0.5250 | Validation F1-Macro: 0.5250\n",
            ".........................................................................................\n",
            "Epoch 13 | Train Loss: 0.824341 | Train Acc: 0.5129 | Train F1-Macro: 0.5128\n",
            "Epoch 13 | Validation Loss: 0.716677 | Validation Acc: 0.5344 | Validation F1-Macro: 0.5344\n",
            ".........................................................................................\n",
            "Epoch 14 | Train Loss: 0.805850 | Train Acc: 0.5218 | Train F1-Macro: 0.5216\n",
            "Epoch 14 | Validation Loss: 0.715622 | Validation Acc: 0.5437 | Validation F1-Macro: 0.5437\n",
            ".........................................................................................\n",
            "Epoch 15 | Train Loss: 0.829650 | Train Acc: 0.5050 | Train F1-Macro: 0.5048\n",
            "Epoch 15 | Validation Loss: 0.717274 | Validation Acc: 0.5437 | Validation F1-Macro: 0.5433\n",
            ".........................................................................................\n",
            "Epoch 16 | Train Loss: 0.831398 | Train Acc: 0.5125 | Train F1-Macro: 0.5124\n",
            "Epoch 16 | Validation Loss: 0.715874 | Validation Acc: 0.5469 | Validation F1-Macro: 0.5467\n",
            ".........................................................................................\n",
            "Epoch 17 | Train Loss: 0.816362 | Train Acc: 0.5175 | Train F1-Macro: 0.5173\n",
            "Epoch 17 | Validation Loss: 0.716256 | Validation Acc: 0.5437 | Validation F1-Macro: 0.5435\n",
            ".........................................................................................\n",
            "Epoch 18 | Train Loss: 0.805491 | Train Acc: 0.5193 | Train F1-Macro: 0.5193\n",
            "Epoch 18 | Validation Loss: 0.714307 | Validation Acc: 0.5406 | Validation F1-Macro: 0.5406\n",
            ".........................................................................................\n",
            "Epoch 19 | Train Loss: 0.806168 | Train Acc: 0.5218 | Train F1-Macro: 0.5216\n",
            "Epoch 19 | Validation Loss: 0.713955 | Validation Acc: 0.5406 | Validation F1-Macro: 0.5406\n",
            ".........................................................................................\n",
            "Epoch 20 | Train Loss: 0.806362 | Train Acc: 0.5257 | Train F1-Macro: 0.5257\n",
            "Epoch 20 | Validation Loss: 0.712556 | Validation Acc: 0.5312 | Validation F1-Macro: 0.5306\n",
            ".........................................................................................\n",
            "Epoch 21 | Train Loss: 0.808661 | Train Acc: 0.5186 | Train F1-Macro: 0.5184\n",
            "Epoch 21 | Validation Loss: 0.714300 | Validation Acc: 0.5594 | Validation F1-Macro: 0.5581\n",
            ".........................................................................................\n",
            "Epoch 22 | Train Loss: 0.797265 | Train Acc: 0.5243 | Train F1-Macro: 0.5241\n",
            "Epoch 22 | Validation Loss: 0.714087 | Validation Acc: 0.5531 | Validation F1-Macro: 0.5515\n",
            ".........................................................................................\n",
            "Epoch 23 | Train Loss: 0.791799 | Train Acc: 0.5296 | Train F1-Macro: 0.5296\n",
            "Epoch 23 | Validation Loss: 0.713989 | Validation Acc: 0.5531 | Validation F1-Macro: 0.5508\n",
            ".........................................................................................\n",
            "Epoch 24 | Train Loss: 0.793317 | Train Acc: 0.5275 | Train F1-Macro: 0.5273\n",
            "Epoch 24 | Validation Loss: 0.712678 | Validation Acc: 0.5469 | Validation F1-Macro: 0.5441\n",
            ".........................................................................................\n",
            "Epoch 25 | Train Loss: 0.765450 | Train Acc: 0.5493 | Train F1-Macro: 0.5493\n",
            "Epoch 25 | Validation Loss: 0.709800 | Validation Acc: 0.5344 | Validation F1-Macro: 0.5344\n",
            ".........................................................................................\n",
            "Epoch 26 | Train Loss: 0.776151 | Train Acc: 0.5461 | Train F1-Macro: 0.5460\n",
            "Epoch 26 | Validation Loss: 0.711655 | Validation Acc: 0.5312 | Validation F1-Macro: 0.5301\n",
            ".........................................................................................\n",
            "Epoch 27 | Train Loss: 0.774904 | Train Acc: 0.5450 | Train F1-Macro: 0.5449\n",
            "Epoch 27 | Validation Loss: 0.713998 | Validation Acc: 0.5344 | Validation F1-Macro: 0.5320\n",
            ".........................................................................................\n",
            "Epoch 28 | Train Loss: 0.772138 | Train Acc: 0.5550 | Train F1-Macro: 0.5550\n",
            "Epoch 28 | Validation Loss: 0.712767 | Validation Acc: 0.5312 | Validation F1-Macro: 0.5286\n",
            ".........................................................................................\n",
            "Epoch 29 | Train Loss: 0.784970 | Train Acc: 0.5339 | Train F1-Macro: 0.5339\n",
            "Epoch 29 | Validation Loss: 0.711689 | Validation Acc: 0.5375 | Validation F1-Macro: 0.5349\n",
            ".........................................................................................\n",
            "Epoch 30 | Train Loss: 0.781723 | Train Acc: 0.5325 | Train F1-Macro: 0.5325\n",
            "Epoch 30 | Validation Loss: 0.710671 | Validation Acc: 0.5375 | Validation F1-Macro: 0.5353\n",
            ".........................................................................................\n",
            "Epoch 31 | Train Loss: 0.763933 | Train Acc: 0.5450 | Train F1-Macro: 0.5450\n",
            "Epoch 31 | Validation Loss: 0.709171 | Validation Acc: 0.5437 | Validation F1-Macro: 0.5426\n",
            ".........................................................................................\n",
            "Epoch 32 | Train Loss: 0.772064 | Train Acc: 0.5443 | Train F1-Macro: 0.5443\n",
            "Epoch 32 | Validation Loss: 0.711314 | Validation Acc: 0.5375 | Validation F1-Macro: 0.5349\n",
            ".........................................................................................\n",
            "Epoch 33 | Train Loss: 0.758891 | Train Acc: 0.5496 | Train F1-Macro: 0.5496\n",
            "Epoch 33 | Validation Loss: 0.711356 | Validation Acc: 0.5375 | Validation F1-Macro: 0.5349\n",
            ".........................................................................................\n",
            "Epoch 34 | Train Loss: 0.751548 | Train Acc: 0.5539 | Train F1-Macro: 0.5539\n",
            "Epoch 34 | Validation Loss: 0.712215 | Validation Acc: 0.5500 | Validation F1-Macro: 0.5442\n",
            ".........................................................................................\n",
            "Epoch 35 | Train Loss: 0.748233 | Train Acc: 0.5514 | Train F1-Macro: 0.5514\n",
            "Epoch 35 | Validation Loss: 0.712964 | Validation Acc: 0.5500 | Validation F1-Macro: 0.5442\n",
            ".........................................................................................\n",
            "Epoch 36 | Train Loss: 0.752990 | Train Acc: 0.5546 | Train F1-Macro: 0.5546\n",
            "Epoch 36 | Validation Loss: 0.711651 | Validation Acc: 0.5500 | Validation F1-Macro: 0.5449\n",
            ".........................................................................................\n",
            "Epoch 37 | Train Loss: 0.762460 | Train Acc: 0.5479 | Train F1-Macro: 0.5478\n",
            "Epoch 37 | Validation Loss: 0.709831 | Validation Acc: 0.5563 | Validation F1-Macro: 0.5528\n",
            ".........................................................................................\n",
            "Epoch 38 | Train Loss: 0.755063 | Train Acc: 0.5479 | Train F1-Macro: 0.5474\n",
            "Epoch 38 | Validation Loss: 0.718032 | Validation Acc: 0.5531 | Validation F1-Macro: 0.5405\n",
            ".........................................................................................\n",
            "Epoch 39 | Train Loss: 0.745953 | Train Acc: 0.5500 | Train F1-Macro: 0.5500\n",
            "Epoch 39 | Validation Loss: 0.718495 | Validation Acc: 0.5531 | Validation F1-Macro: 0.5405\n",
            ".........................................................................................\n",
            "Epoch 40 | Train Loss: 0.754302 | Train Acc: 0.5564 | Train F1-Macro: 0.5564\n",
            "Epoch 40 | Validation Loss: 0.712357 | Validation Acc: 0.5563 | Validation F1-Macro: 0.5492\n",
            ".........................................................................................\n",
            "Epoch 41 | Train Loss: 0.746770 | Train Acc: 0.5571 | Train F1-Macro: 0.5571\n",
            "Epoch 41 | Validation Loss: 0.711250 | Validation Acc: 0.5469 | Validation F1-Macro: 0.5414\n",
            ".........................................................................................\n",
            "Epoch 42 | Train Loss: 0.748031 | Train Acc: 0.5629 | Train F1-Macro: 0.5628\n",
            "Epoch 42 | Validation Loss: 0.708850 | Validation Acc: 0.5469 | Validation F1-Macro: 0.5426\n",
            ".........................................................................................\n",
            "Epoch 43 | Train Loss: 0.742807 | Train Acc: 0.5500 | Train F1-Macro: 0.5500\n",
            "Epoch 43 | Validation Loss: 0.708303 | Validation Acc: 0.5500 | Validation F1-Macro: 0.5460\n",
            ".........................................................................................\n",
            "Epoch 44 | Train Loss: 0.741242 | Train Acc: 0.5614 | Train F1-Macro: 0.5614\n",
            "Epoch 44 | Validation Loss: 0.709601 | Validation Acc: 0.5656 | Validation F1-Macro: 0.5597\n",
            ".........................................................................................\n",
            "Epoch 45 | Train Loss: 0.734713 | Train Acc: 0.5614 | Train F1-Macro: 0.5614\n",
            "Epoch 45 | Validation Loss: 0.714684 | Validation Acc: 0.5500 | Validation F1-Macro: 0.5413\n",
            ".........................................................................................\n",
            "Epoch 46 | Train Loss: 0.743225 | Train Acc: 0.5575 | Train F1-Macro: 0.5575\n",
            "Epoch 46 | Validation Loss: 0.715031 | Validation Acc: 0.5625 | Validation F1-Macro: 0.5476\n",
            ".........................................................................................\n",
            "Epoch 47 | Train Loss: 0.722139 | Train Acc: 0.5639 | Train F1-Macro: 0.5639\n",
            "Epoch 47 | Validation Loss: 0.712881 | Validation Acc: 0.5500 | Validation F1-Macro: 0.5413\n",
            ".........................................................................................\n",
            "Epoch 48 | Train Loss: 0.726314 | Train Acc: 0.5696 | Train F1-Macro: 0.5696\n",
            "Epoch 48 | Validation Loss: 0.707937 | Validation Acc: 0.5625 | Validation F1-Macro: 0.5575\n",
            ".........................................................................................\n",
            "Epoch 49 | Train Loss: 0.723388 | Train Acc: 0.5771 | Train F1-Macro: 0.5771\n",
            "Epoch 49 | Validation Loss: 0.706991 | Validation Acc: 0.5719 | Validation F1-Macro: 0.5678\n",
            ".........................................................................................\n",
            "Epoch 50 | Train Loss: 0.717766 | Train Acc: 0.5800 | Train F1-Macro: 0.5800\n",
            "Epoch 50 | Validation Loss: 0.707141 | Validation Acc: 0.5656 | Validation F1-Macro: 0.5610\n",
            ".........................................................................................\n",
            "Test Accuracy: 0.5565\n",
            "Test F1-Macro: 0.5564\n"
          ]
        }
      ]
    },
    {
      "cell_type": "markdown",
      "source": [
        "### Best Parameter Combination\n",
        "\n",
        "embed_dim=300,\n",
        "\n",
        "pretrained_embeddings=True,\n",
        "\n",
        "epoch=50,\n",
        "\n",
        "lr=0.0001,\n",
        "\n",
        "dropout=0.5,\n",
        "\n",
        "weight_decay=0.001,\n",
        "\n",
        "filter_sizes=[3, 3, 4, 4, 5],\n",
        "\n",
        "num_filters=[100, 100, 100, 100, 100]"
      ],
      "metadata": {
        "id": "FKFlc1a7ybT8"
      }
    },
    {
      "cell_type": "markdown",
      "source": [
        "## Section 2: Emotional Recognition Model: Anger or Sadness\n",
        "\n",
        "In this section, we will choose data from anger (0) and sadness (3) classes and train a Emotion Recognition model using the best hyperparamters we received in previous section."
      ],
      "metadata": {
        "id": "7XSTH6M8ztXe"
      }
    },
    {
      "cell_type": "code",
      "source": [
        "from sklearn.metrics import f1_score, accuracy_score\n",
        "\n",
        "# select Anger and Sadness data\n",
        "train_d_as = [data for data, label in zip(train_data, train_labels) if label in ('0', '3')]\n",
        "train_l_as = [label for label in train_labels if label in ('0', '3')]\n",
        "train_l_as = [\"1\" if value == \"3\" else value for value in train_l_as]\n",
        "\n",
        "val_d_as = [data for data, label in zip(val_data, val_labels) if label in ('0', '3')]\n",
        "val_l_as = [label for label in val_labels if label in ('0', '3')]\n",
        "val_l_as = [\"1\" if value == \"3\" else value for value in val_l_as]\n",
        "\n",
        "test_d_as = [data for data, label in zip(test_data, test_labels) if label in ('0', '3')]\n",
        "test_l_as = [label for label in test_labels if label in ('0', '3')]\n",
        "test_l_as = [\"1\" if value == \"3\" else value for value in test_l_as]\n",
        "\n",
        "# balance data\n",
        "train_d_as, train_l_as =  balance_dataset(train_d_as, train_l_as)\n",
        "val_d_as, val_l_as =  balance_dataset(val_d_as, val_l_as)\n",
        "test_d_as, test_l_as =  balance_dataset(test_d_as, test_l_as)\n",
        "\n",
        "# tokenizing, encoding, converting to tensors\n",
        "train_id_as, word2idx = get_tokenized_encoded_ids(train_d_as)\n",
        "val_id_as, _ = get_tokenized_encoded_ids(val_d_as)\n",
        "test_id_as, _ = get_tokenized_encoded_ids(test_d_as)\n",
        "\n",
        "# converting labels to tensors\n",
        "train_l_as = get_tensor_labels(train_l_as)\n",
        "val_l_as = get_tensor_labels(val_l_as)\n",
        "test_l_as = get_tensor_labels(test_l_as)\n",
        "\n",
        "# prepare dataloader\n",
        "random_seed = 42\n",
        "train_dataset = TensorDataset(train_id_as, train_l_as)\n",
        "train_sampler = RandomSampler(train_dataset, generator=torch.Generator().manual_seed(random_seed))\n",
        "val_dataset = TensorDataset(val_id_as, val_l_as)\n",
        "test_dataset = TensorDataset(test_id_as, test_l_as)\n",
        "\n",
        "batch_size = 64\n",
        "\n",
        "train_dataloader = DataLoader(train_dataset, sampler=train_sampler, batch_size=batch_size)\n",
        "val_dataloader = DataLoader(val_dataset, batch_size=batch_size)\n",
        "test_dataloader = DataLoader(test_dataset, batch_size=batch_size)"
      ],
      "metadata": {
        "id": "gOuMEJUhvCRo"
      },
      "execution_count": 355,
      "outputs": []
    },
    {
      "cell_type": "code",
      "source": [
        "# train and test the data with best hyperparameter\n",
        "train_obj = Train(embed_dim=300, pretrained_embeddings=True, epoch=50, lr=0.0001, dropout=0.5, weight_decay=0.001, filter_sizes=[3, 3, 4, 4, 5], num_filters=[100, 100, 100, 100, 100])\n",
        "model = train_obj.train_model(device, train_dataloader, val_dataloader)\n",
        "test_model(model, device, test_dataloader)"
      ],
      "metadata": {
        "colab": {
          "base_uri": "https://localhost:8080/"
        },
        "id": "NgwUeiWEFPib",
        "outputId": "07196a0c-0543-423d-bb23-b7e638865908"
      },
      "execution_count": 356,
      "outputs": [
        {
          "output_type": "stream",
          "name": "stdout",
          "text": [
            "using pretrained embedding\n",
            "Start training...\n",
            "\n",
            "Epoch  1 | Train Loss: 1.124625 | Train Acc: 0.4975 | Train F1-Macro: 0.4945\n",
            "Epoch  1 | Validation Loss: 0.760941 | Validation Acc: 0.4313 | Validation F1-Macro: 0.4133\n",
            ".........................................................................................\n",
            "Epoch  2 | Train Loss: 1.087234 | Train Acc: 0.5021 | Train F1-Macro: 0.5014\n",
            "Epoch  2 | Validation Loss: 0.792676 | Validation Acc: 0.4344 | Validation F1-Macro: 0.4158\n",
            ".........................................................................................\n",
            "Epoch  3 | Train Loss: 1.075612 | Train Acc: 0.5200 | Train F1-Macro: 0.5194\n",
            "Epoch  3 | Validation Loss: 0.791352 | Validation Acc: 0.4437 | Validation F1-Macro: 0.4287\n",
            ".........................................................................................\n",
            "Epoch  4 | Train Loss: 1.004755 | Train Acc: 0.5175 | Train F1-Macro: 0.5171\n",
            "Epoch  4 | Validation Loss: 0.785908 | Validation Acc: 0.4406 | Validation F1-Macro: 0.4260\n",
            ".........................................................................................\n",
            "Epoch  5 | Train Loss: 1.053055 | Train Acc: 0.5086 | Train F1-Macro: 0.5080\n",
            "Epoch  5 | Validation Loss: 0.783962 | Validation Acc: 0.4562 | Validation F1-Macro: 0.4415\n",
            ".........................................................................................\n",
            "Epoch  6 | Train Loss: 1.002302 | Train Acc: 0.5332 | Train F1-Macro: 0.5326\n",
            "Epoch  6 | Validation Loss: 0.779673 | Validation Acc: 0.4406 | Validation F1-Macro: 0.4283\n",
            ".........................................................................................\n",
            "Epoch  7 | Train Loss: 1.029013 | Train Acc: 0.5186 | Train F1-Macro: 0.5183\n",
            "Epoch  7 | Validation Loss: 0.779062 | Validation Acc: 0.4656 | Validation F1-Macro: 0.4494\n",
            ".........................................................................................\n",
            "Epoch  8 | Train Loss: 0.977937 | Train Acc: 0.5239 | Train F1-Macro: 0.5236\n",
            "Epoch  8 | Validation Loss: 0.774200 | Validation Acc: 0.4625 | Validation F1-Macro: 0.4467\n",
            ".........................................................................................\n",
            "Epoch  9 | Train Loss: 0.988562 | Train Acc: 0.5218 | Train F1-Macro: 0.5212\n",
            "Epoch  9 | Validation Loss: 0.769596 | Validation Acc: 0.4719 | Validation F1-Macro: 0.4669\n",
            ".........................................................................................\n",
            "Epoch 10 | Train Loss: 1.001536 | Train Acc: 0.5179 | Train F1-Macro: 0.5174\n",
            "Epoch 10 | Validation Loss: 0.768316 | Validation Acc: 0.4562 | Validation F1-Macro: 0.4467\n",
            ".........................................................................................\n",
            "Epoch 11 | Train Loss: 0.987815 | Train Acc: 0.5393 | Train F1-Macro: 0.5387\n",
            "Epoch 11 | Validation Loss: 0.765072 | Validation Acc: 0.4656 | Validation F1-Macro: 0.4629\n",
            ".........................................................................................\n",
            "Epoch 12 | Train Loss: 0.953501 | Train Acc: 0.5325 | Train F1-Macro: 0.5322\n",
            "Epoch 12 | Validation Loss: 0.763134 | Validation Acc: 0.5000 | Validation F1-Macro: 0.4997\n",
            ".........................................................................................\n",
            "Epoch 13 | Train Loss: 0.941373 | Train Acc: 0.5486 | Train F1-Macro: 0.5484\n",
            "Epoch 13 | Validation Loss: 0.760676 | Validation Acc: 0.5031 | Validation F1-Macro: 0.5027\n",
            ".........................................................................................\n",
            "Epoch 14 | Train Loss: 0.929031 | Train Acc: 0.5418 | Train F1-Macro: 0.5412\n",
            "Epoch 14 | Validation Loss: 0.760596 | Validation Acc: 0.4969 | Validation F1-Macro: 0.4965\n",
            ".........................................................................................\n",
            "Epoch 15 | Train Loss: 0.943474 | Train Acc: 0.5493 | Train F1-Macro: 0.5492\n",
            "Epoch 15 | Validation Loss: 0.756501 | Validation Acc: 0.4906 | Validation F1-Macro: 0.4892\n",
            ".........................................................................................\n",
            "Epoch 16 | Train Loss: 0.930443 | Train Acc: 0.5439 | Train F1-Macro: 0.5436\n",
            "Epoch 16 | Validation Loss: 0.753380 | Validation Acc: 0.4938 | Validation F1-Macro: 0.4936\n",
            ".........................................................................................\n",
            "Epoch 17 | Train Loss: 0.909882 | Train Acc: 0.5486 | Train F1-Macro: 0.5485\n",
            "Epoch 17 | Validation Loss: 0.752069 | Validation Acc: 0.4938 | Validation F1-Macro: 0.4928\n",
            ".........................................................................................\n",
            "Epoch 18 | Train Loss: 0.889669 | Train Acc: 0.5571 | Train F1-Macro: 0.5569\n",
            "Epoch 18 | Validation Loss: 0.750728 | Validation Acc: 0.5062 | Validation F1-Macro: 0.5062\n",
            ".........................................................................................\n",
            "Epoch 19 | Train Loss: 0.914869 | Train Acc: 0.5414 | Train F1-Macro: 0.5414\n",
            "Epoch 19 | Validation Loss: 0.747567 | Validation Acc: 0.4781 | Validation F1-Macro: 0.4766\n",
            ".........................................................................................\n",
            "Epoch 20 | Train Loss: 0.867003 | Train Acc: 0.5646 | Train F1-Macro: 0.5645\n",
            "Epoch 20 | Validation Loss: 0.747702 | Validation Acc: 0.5031 | Validation F1-Macro: 0.5029\n",
            ".........................................................................................\n",
            "Epoch 21 | Train Loss: 0.888279 | Train Acc: 0.5568 | Train F1-Macro: 0.5568\n",
            "Epoch 21 | Validation Loss: 0.747081 | Validation Acc: 0.4906 | Validation F1-Macro: 0.4858\n",
            ".........................................................................................\n",
            "Epoch 22 | Train Loss: 0.867571 | Train Acc: 0.5536 | Train F1-Macro: 0.5533\n",
            "Epoch 22 | Validation Loss: 0.745215 | Validation Acc: 0.5062 | Validation F1-Macro: 0.5059\n",
            ".........................................................................................\n",
            "Epoch 23 | Train Loss: 0.892700 | Train Acc: 0.5654 | Train F1-Macro: 0.5651\n",
            "Epoch 23 | Validation Loss: 0.743781 | Validation Acc: 0.4906 | Validation F1-Macro: 0.4888\n",
            ".........................................................................................\n",
            "Epoch 24 | Train Loss: 0.855567 | Train Acc: 0.5700 | Train F1-Macro: 0.5700\n",
            "Epoch 24 | Validation Loss: 0.743512 | Validation Acc: 0.5000 | Validation F1-Macro: 0.5000\n",
            ".........................................................................................\n",
            "Epoch 25 | Train Loss: 0.853590 | Train Acc: 0.5664 | Train F1-Macro: 0.5664\n",
            "Epoch 25 | Validation Loss: 0.741318 | Validation Acc: 0.5062 | Validation F1-Macro: 0.5061\n",
            ".........................................................................................\n",
            "Epoch 26 | Train Loss: 0.834162 | Train Acc: 0.5746 | Train F1-Macro: 0.5745\n",
            "Epoch 26 | Validation Loss: 0.742048 | Validation Acc: 0.5156 | Validation F1-Macro: 0.5146\n",
            ".........................................................................................\n",
            "Epoch 27 | Train Loss: 0.859190 | Train Acc: 0.5639 | Train F1-Macro: 0.5639\n",
            "Epoch 27 | Validation Loss: 0.740315 | Validation Acc: 0.5000 | Validation F1-Macro: 0.4976\n",
            ".........................................................................................\n",
            "Epoch 28 | Train Loss: 0.835491 | Train Acc: 0.5593 | Train F1-Macro: 0.5592\n",
            "Epoch 28 | Validation Loss: 0.738788 | Validation Acc: 0.5000 | Validation F1-Macro: 0.5000\n",
            ".........................................................................................\n",
            "Epoch 29 | Train Loss: 0.828640 | Train Acc: 0.5750 | Train F1-Macro: 0.5748\n",
            "Epoch 29 | Validation Loss: 0.738457 | Validation Acc: 0.5062 | Validation F1-Macro: 0.5047\n",
            ".........................................................................................\n",
            "Epoch 30 | Train Loss: 0.854984 | Train Acc: 0.5525 | Train F1-Macro: 0.5524\n",
            "Epoch 30 | Validation Loss: 0.736898 | Validation Acc: 0.4969 | Validation F1-Macro: 0.4965\n",
            ".........................................................................................\n",
            "Epoch 31 | Train Loss: 0.811278 | Train Acc: 0.5682 | Train F1-Macro: 0.5681\n",
            "Epoch 31 | Validation Loss: 0.736130 | Validation Acc: 0.5125 | Validation F1-Macro: 0.5120\n",
            ".........................................................................................\n",
            "Epoch 32 | Train Loss: 0.817720 | Train Acc: 0.5804 | Train F1-Macro: 0.5802\n",
            "Epoch 32 | Validation Loss: 0.738592 | Validation Acc: 0.5000 | Validation F1-Macro: 0.4936\n",
            ".........................................................................................\n",
            "Epoch 33 | Train Loss: 0.805365 | Train Acc: 0.5768 | Train F1-Macro: 0.5767\n",
            "Epoch 33 | Validation Loss: 0.735786 | Validation Acc: 0.4969 | Validation F1-Macro: 0.4927\n",
            ".........................................................................................\n",
            "Epoch 34 | Train Loss: 0.828562 | Train Acc: 0.5707 | Train F1-Macro: 0.5707\n",
            "Epoch 34 | Validation Loss: 0.731819 | Validation Acc: 0.5031 | Validation F1-Macro: 0.5023\n",
            ".........................................................................................\n",
            "Epoch 35 | Train Loss: 0.797099 | Train Acc: 0.5836 | Train F1-Macro: 0.5835\n",
            "Epoch 35 | Validation Loss: 0.730829 | Validation Acc: 0.5062 | Validation F1-Macro: 0.5059\n",
            ".........................................................................................\n",
            "Epoch 36 | Train Loss: 0.786531 | Train Acc: 0.5846 | Train F1-Macro: 0.5844\n",
            "Epoch 36 | Validation Loss: 0.734353 | Validation Acc: 0.4875 | Validation F1-Macro: 0.4841\n",
            ".........................................................................................\n",
            "Epoch 37 | Train Loss: 0.766393 | Train Acc: 0.6018 | Train F1-Macro: 0.6018\n",
            "Epoch 37 | Validation Loss: 0.731688 | Validation Acc: 0.4906 | Validation F1-Macro: 0.4888\n",
            ".........................................................................................\n",
            "Epoch 38 | Train Loss: 0.796319 | Train Acc: 0.5714 | Train F1-Macro: 0.5714\n",
            "Epoch 38 | Validation Loss: 0.728662 | Validation Acc: 0.5125 | Validation F1-Macro: 0.5116\n",
            ".........................................................................................\n",
            "Epoch 39 | Train Loss: 0.792713 | Train Acc: 0.5721 | Train F1-Macro: 0.5718\n",
            "Epoch 39 | Validation Loss: 0.732781 | Validation Acc: 0.4938 | Validation F1-Macro: 0.4873\n",
            ".........................................................................................\n",
            "Epoch 40 | Train Loss: 0.759980 | Train Acc: 0.5875 | Train F1-Macro: 0.5875\n",
            "Epoch 40 | Validation Loss: 0.727684 | Validation Acc: 0.5031 | Validation F1-Macro: 0.5023\n",
            ".........................................................................................\n",
            "Epoch 41 | Train Loss: 0.773862 | Train Acc: 0.5929 | Train F1-Macro: 0.5929\n",
            "Epoch 41 | Validation Loss: 0.726444 | Validation Acc: 0.5281 | Validation F1-Macro: 0.5280\n",
            ".........................................................................................\n",
            "Epoch 42 | Train Loss: 0.765729 | Train Acc: 0.5950 | Train F1-Macro: 0.5950\n",
            "Epoch 42 | Validation Loss: 0.726801 | Validation Acc: 0.4875 | Validation F1-Macro: 0.4851\n",
            ".........................................................................................\n",
            "Epoch 43 | Train Loss: 0.744153 | Train Acc: 0.5936 | Train F1-Macro: 0.5935\n",
            "Epoch 43 | Validation Loss: 0.725672 | Validation Acc: 0.5000 | Validation F1-Macro: 0.4972\n",
            ".........................................................................................\n",
            "Epoch 44 | Train Loss: 0.735669 | Train Acc: 0.6200 | Train F1-Macro: 0.6200\n",
            "Epoch 44 | Validation Loss: 0.724034 | Validation Acc: 0.5188 | Validation F1-Macro: 0.5187\n",
            ".........................................................................................\n",
            "Epoch 45 | Train Loss: 0.747176 | Train Acc: 0.6004 | Train F1-Macro: 0.6004\n",
            "Epoch 45 | Validation Loss: 0.722931 | Validation Acc: 0.5125 | Validation F1-Macro: 0.5124\n",
            ".........................................................................................\n",
            "Epoch 46 | Train Loss: 0.774208 | Train Acc: 0.5904 | Train F1-Macro: 0.5902\n",
            "Epoch 46 | Validation Loss: 0.725362 | Validation Acc: 0.5156 | Validation F1-Macro: 0.5104\n",
            ".........................................................................................\n",
            "Epoch 47 | Train Loss: 0.736939 | Train Acc: 0.6032 | Train F1-Macro: 0.6032\n",
            "Epoch 47 | Validation Loss: 0.723629 | Validation Acc: 0.5094 | Validation F1-Macro: 0.5053\n",
            ".........................................................................................\n",
            "Epoch 48 | Train Loss: 0.726902 | Train Acc: 0.6075 | Train F1-Macro: 0.6075\n",
            "Epoch 48 | Validation Loss: 0.721915 | Validation Acc: 0.5281 | Validation F1-Macro: 0.5271\n",
            ".........................................................................................\n",
            "Epoch 49 | Train Loss: 0.735914 | Train Acc: 0.6025 | Train F1-Macro: 0.6024\n",
            "Epoch 49 | Validation Loss: 0.721968 | Validation Acc: 0.5062 | Validation F1-Macro: 0.5019\n",
            ".........................................................................................\n",
            "Epoch 50 | Train Loss: 0.748186 | Train Acc: 0.5950 | Train F1-Macro: 0.5950\n",
            "Epoch 50 | Validation Loss: 0.724208 | Validation Acc: 0.4969 | Validation F1-Macro: 0.4876\n",
            ".........................................................................................\n",
            "Test Accuracy: 0.5582\n",
            "Test F1-Macro: 0.5582\n"
          ]
        }
      ]
    }
  ]
}